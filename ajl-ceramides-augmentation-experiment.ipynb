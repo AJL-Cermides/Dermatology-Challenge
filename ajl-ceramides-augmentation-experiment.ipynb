{
 "cells": [
  {
   "cell_type": "code",
   "execution_count": 1,
   "id": "2f864cea",
   "metadata": {
    "_cell_guid": "b1076dfc-b9ad-4769-8c92-a6c4dae69d19",
    "_uuid": "8f2839f25d086af736a60e9eeb907d3b93b6e0e5",
    "execution": {
     "iopub.execute_input": "2025-03-23T03:48:44.606563Z",
     "iopub.status.busy": "2025-03-23T03:48:44.606265Z",
     "iopub.status.idle": "2025-03-23T03:48:45.860812Z",
     "shell.execute_reply": "2025-03-23T03:48:45.860139Z"
    },
    "papermill": {
     "duration": 1.265813,
     "end_time": "2025-03-23T03:48:45.862339",
     "exception": false,
     "start_time": "2025-03-23T03:48:44.596526",
     "status": "completed"
    },
    "tags": []
   },
   "outputs": [],
   "source": [
    "# This Python 3 environment comes with many helpful analytics libraries installed\n",
    "# It is defined by the kaggle/python Docker image: https://github.com/kaggle/docker-python\n",
    "# For example, here's several helpful packages to load\n",
    "\n",
    "import numpy as np # linear algebra\n",
    "import pandas as pd # data processing, CSV file I/O (e.g. pd.read_csv)\n",
    "\n",
    "# Input data files are available in the read-only \"../input/\" directory\n",
    "# For example, running this (by clicking run or pressing Shift+Enter) will list all files under the input directory\n",
    "\n",
    "import os\n",
    "# for dirname, _, filenames in os.walk('/kaggle/input'):\n",
    "#     for filename in filenames:\n",
    "#         print(os.path.join(dirname, filename))\n",
    "\n",
    "# You can write up to 20GB to the current directory (/kaggle/working/) that gets preserved as output when you create a version using \"Save & Run All\" \n",
    "# You can also write temporary files to /kaggle/temp/, but they won't be saved outside of the current session"
   ]
  },
  {
   "cell_type": "markdown",
   "id": "5d494de5",
   "metadata": {
    "papermill": {
     "duration": 0.006755,
     "end_time": "2025-03-23T03:48:45.876608",
     "exception": false,
     "start_time": "2025-03-23T03:48:45.869853",
     "status": "completed"
    },
    "tags": []
   },
   "source": [
    "# A Simple Starter Code for the AJL Competition\n",
    "\n",
    "@Cindy Deng\n",
    "\n",
    "---\n",
    "\n",
    "\n",
    "Hi! This starter code is designed to help you get familiar with basic Kaggle operations and guide you through the basic workflow of a machine learning project. \n",
    "\n",
    "The code outlines essential steps including data loading, preprocessing, model building, training, and generating predictions. Each section serves as a foundation, but there are many ways to enhance each step to improve your final model's accuracy. Feel free to experiment with different data augmentation techniques, model architectures, and tuning methods to optimize your final results! Some amazing tutorials are available through your AI Studio course in Canvas / in the 'Resource' section of this Kaggle competition.\n",
    "\n",
    "Good luck and have fun!\n",
    "\n",
    "---"
   ]
  },
  {
   "cell_type": "markdown",
   "id": "bfd58c2a",
   "metadata": {
    "papermill": {
     "duration": 0.006403,
     "end_time": "2025-03-23T03:48:45.889691",
     "exception": false,
     "start_time": "2025-03-23T03:48:45.883288",
     "status": "completed"
    },
    "tags": []
   },
   "source": [
    "## Note - About file path\n",
    "\n",
    "You could use the cell above to print the names of the file directories and get the following directories:\n",
    "\n",
    "```\n",
    "/kaggle/input/bttai-ajl-2025/sample_submission.csv\n",
    "/kaggle/input/bttai-ajl-2025/train.csv\n",
    "/kaggle/input/bttai-ajl-2025/test.csv\n",
    "/kaggle/input/bttai-ajl-2025/test/test/e0374ae6c1362ff183cfba28ded5421b.jpg\n",
    "/kaggle/input/bttai-ajl-2025/test/test/437159c605260bdd079af230566af291.jpg\n",
    "...\n",
    "...\n",
    "/kaggle/input/bttai-ajl-2025/train/train/dermatomyositis/11271bdf2598afdd4260db3125e1f6a5.jpg\n",
    "/kaggle/input/bttai-ajl-2025/train/train/dermatomyositis/732819951dcf2b53d15ea7b8bb123b71.jpg\n",
    "/kaggle/input/bttai-ajl-2025/train/train/dermatomyositis/6dcc7a8abb5e1c6e670101f4b6231246.jpg\n",
    "/kaggle/input/bttai-ajl-2025/train/train/dermatomyositis/e63c3b3f0ab8905e204fe467cc7411f9.jpg\n",
    "...\n",
    "...\n",
    "```\n",
    "\n"
   ]
  },
  {
   "cell_type": "markdown",
   "id": "fe967434",
   "metadata": {
    "papermill": {
     "duration": 0.00643,
     "end_time": "2025-03-23T03:48:45.902769",
     "exception": false,
     "start_time": "2025-03-23T03:48:45.896339",
     "status": "completed"
    },
    "tags": []
   },
   "source": [
    "## 1. Import Necessary Libraries"
   ]
  },
  {
   "cell_type": "code",
   "execution_count": 2,
   "id": "9a14cfbe",
   "metadata": {
    "execution": {
     "iopub.execute_input": "2025-03-23T03:48:45.916994Z",
     "iopub.status.busy": "2025-03-23T03:48:45.916633Z",
     "iopub.status.idle": "2025-03-23T03:49:03.819808Z",
     "shell.execute_reply": "2025-03-23T03:49:03.819072Z"
    },
    "papermill": {
     "duration": 17.912034,
     "end_time": "2025-03-23T03:49:03.821339",
     "exception": false,
     "start_time": "2025-03-23T03:48:45.909305",
     "status": "completed"
    },
    "tags": []
   },
   "outputs": [],
   "source": [
    "# 1. Import Necessary Libraries\n",
    "import pandas as pd\n",
    "import numpy as np\n",
    "import os\n",
    "from sklearn.model_selection import train_test_split\n",
    "from sklearn.preprocessing import LabelEncoder\n",
    "from tensorflow.keras.preprocessing.image import ImageDataGenerator\n",
    "from tensorflow.keras.models import Sequential\n",
    "from tensorflow.keras.layers import Conv2D, MaxPooling2D, Flatten, Dense, Dropout\n",
    "from tensorflow.keras.callbacks import EarlyStopping\n",
    "\n",
    "# Explanation:\n",
    "# - pandas and numpy: for data manipulation\n",
    "# - sklearn: for splitting data and encoding labels\n",
    "# - tensorflow.keras: for building and training the neural network"
   ]
  },
  {
   "cell_type": "markdown",
   "id": "2157f4b4",
   "metadata": {
    "papermill": {
     "duration": 0.00678,
     "end_time": "2025-03-23T03:49:03.835842",
     "exception": false,
     "start_time": "2025-03-23T03:49:03.829062",
     "status": "completed"
    },
    "tags": []
   },
   "source": [
    "## 2. Load Data\n",
    "\n",
    "Make sure to verify the file paths if you're running on a different platform."
   ]
  },
  {
   "cell_type": "code",
   "execution_count": 3,
   "id": "ca3694a0",
   "metadata": {
    "execution": {
     "iopub.execute_input": "2025-03-23T03:49:03.850530Z",
     "iopub.status.busy": "2025-03-23T03:49:03.850051Z",
     "iopub.status.idle": "2025-03-23T03:49:03.896204Z",
     "shell.execute_reply": "2025-03-23T03:49:03.895406Z"
    },
    "papermill": {
     "duration": 0.054984,
     "end_time": "2025-03-23T03:49:03.897556",
     "exception": false,
     "start_time": "2025-03-23T03:49:03.842572",
     "status": "completed"
    },
    "tags": []
   },
   "outputs": [],
   "source": [
    "# 2. Load Data\n",
    "train_df = pd.read_csv('/kaggle/input/bttai-ajl-2025/train.csv')\n",
    "test_df = pd.read_csv('/kaggle/input/bttai-ajl-2025/test.csv')\n",
    "\n",
    "# Add .jpg extension to md5hash column to reference the file_name\n",
    "train_df['md5hash'] = train_df['md5hash'].astype(str) + '.jpg'\n",
    "test_df['md5hash'] = test_df['md5hash'].astype(str) + '.jpg'\n",
    "\n",
    "# Combine label and md5hash to form the  correct path\n",
    "train_df['file_path'] = train_df['label'] + '/' + train_df['md5hash']"
   ]
  },
  {
   "cell_type": "code",
   "execution_count": 4,
   "id": "702d85ab",
   "metadata": {
    "execution": {
     "iopub.execute_input": "2025-03-23T03:49:03.911975Z",
     "iopub.status.busy": "2025-03-23T03:49:03.911734Z",
     "iopub.status.idle": "2025-03-23T03:49:03.954404Z",
     "shell.execute_reply": "2025-03-23T03:49:03.953442Z"
    },
    "papermill": {
     "duration": 0.051537,
     "end_time": "2025-03-23T03:49:03.955780",
     "exception": false,
     "start_time": "2025-03-23T03:49:03.904243",
     "status": "completed"
    },
    "tags": []
   },
   "outputs": [
    {
     "name": "stdout",
     "output_type": "stream",
     "text": [
      "fitzpatrick_scale                     -1     1      2     3     4     5     6\n",
      "label                                                                        \n",
      "acne                                 0.0  32.0   48.0  22.0  15.0  11.0   0.0\n",
      "acne-vulgaris                        0.0  53.0  104.0  34.0  30.0   9.0   4.0\n",
      "actinic-keratosis                    5.0  21.0   55.0  18.0  15.0   8.0   0.0\n",
      "basal-cell-carcinoma                 8.0  58.0  114.0  81.0  47.0  15.0   5.0\n",
      "basal-cell-carcinoma-morpheiform     1.0  16.0   21.0   4.0   0.0   1.0   0.0\n",
      "dermatofibroma                       1.0   9.0   25.0  16.0   4.0   0.0   0.0\n",
      "dermatomyositis                      2.0  16.0   39.0  24.0  15.0   6.0   4.0\n",
      "dyshidrotic-eczema                   4.0  12.0   18.0   9.0   8.0   2.0   5.0\n",
      "eczema                               3.0  18.0   65.0  25.0  17.0   8.0   7.0\n",
      "epidermal-nevus                      2.0  25.0   19.0   7.0   9.0   2.0   0.0\n",
      "folliculitis                        20.0  20.0   72.0  63.0  33.0  22.0   9.0\n",
      "kaposi-sarcoma                       2.0  10.0   18.0  21.0  29.0  21.0   8.0\n",
      "keloid                               2.0  16.0   23.0  17.0  19.0  20.0  12.0\n",
      "malignant-melanoma                   5.0  23.0   29.0  10.0   7.0   3.0   1.0\n",
      "melanoma                            12.0  27.0   55.0  41.0  24.0  15.0   7.0\n",
      "mycosis-fungoides                    4.0  26.0   38.0  30.0  18.0   9.0   2.0\n",
      "prurigo-nodularis                    1.0   6.0   24.0  24.0  37.0  22.0   5.0\n",
      "pyogenic-granuloma                   2.0  25.0   27.0  12.0  10.0   3.0   0.0\n",
      "seborrheic-keratosis                 1.0   9.0   21.0   6.0   4.0   3.0   4.0\n",
      "squamous-cell-carcinoma             31.0  71.0  121.0  86.0  50.0  34.0  14.0\n",
      "superficial-spreading-melanoma-ssm   2.0  35.0   28.0  12.0   2.0   2.0   2.0\n"
     ]
    }
   ],
   "source": [
    "counts = train_df.groupby([\"label\", \"fitzpatrick_scale\"]).size().unstack().fillna(0)\n",
    "print(counts)"
   ]
  },
  {
   "cell_type": "code",
   "execution_count": 5,
   "id": "a48452d0",
   "metadata": {
    "execution": {
     "iopub.execute_input": "2025-03-23T03:49:03.970088Z",
     "iopub.status.busy": "2025-03-23T03:49:03.969877Z",
     "iopub.status.idle": "2025-03-23T03:49:03.975916Z",
     "shell.execute_reply": "2025-03-23T03:49:03.975072Z"
    },
    "papermill": {
     "duration": 0.014537,
     "end_time": "2025-03-23T03:49:03.977148",
     "exception": false,
     "start_time": "2025-03-23T03:49:03.962611",
     "status": "completed"
    },
    "tags": []
   },
   "outputs": [
    {
     "name": "stdout",
     "output_type": "stream",
     "text": [
      "                                md5hash  fitzpatrick_scale  \\\n",
      "0  fd06d13de341cc75ad679916c5d7e6a6.jpg                  4   \n",
      "1  a4bb4e5206c4e89a303f470576fc5253.jpg                  1   \n",
      "2  c94ce27e389f96bda998e7c3fa5c4a2e.jpg                  5   \n",
      "3  ebcf2b50dd943c700d4e2b586fcd4425.jpg                  3   \n",
      "4  c77d6c895f05fea73a8f3704307036c0.jpg                  1   \n",
      "\n",
      "   fitzpatrick_centaur                             label nine_partition_label  \\\n",
      "0                    4                 prurigo-nodularis     benign-epidermal   \n",
      "1                    1  basal-cell-carcinoma-morpheiform  malignant-epidermal   \n",
      "2                    5                            keloid         inflammatory   \n",
      "3                    3              basal-cell-carcinoma  malignant-epidermal   \n",
      "4                    1                 prurigo-nodularis     benign-epidermal   \n",
      "\n",
      "  three_partition_label            qc  ddi_scale  \\\n",
      "0                benign           NaN         34   \n",
      "1             malignant           NaN         12   \n",
      "2        non-neoplastic  1 Diagnostic         56   \n",
      "3             malignant           NaN         34   \n",
      "4                benign           NaN         12   \n",
      "\n",
      "                                           file_path  \n",
      "0  prurigo-nodularis/fd06d13de341cc75ad679916c5d7...  \n",
      "1  basal-cell-carcinoma-morpheiform/a4bb4e5206c4e...  \n",
      "2        keloid/c94ce27e389f96bda998e7c3fa5c4a2e.jpg  \n",
      "3  basal-cell-carcinoma/ebcf2b50dd943c700d4e2b586...  \n",
      "4  prurigo-nodularis/c77d6c895f05fea73a8f37043070...  \n"
     ]
    }
   ],
   "source": [
    "# Check the first few rows to understand the structure\n",
    "print(train_df.head())"
   ]
  },
  {
   "cell_type": "markdown",
   "id": "2231eb00",
   "metadata": {
    "papermill": {
     "duration": 0.006565,
     "end_time": "2025-03-23T03:49:03.990735",
     "exception": false,
     "start_time": "2025-03-23T03:49:03.984170",
     "status": "completed"
    },
    "tags": []
   },
   "source": [
    "## 3. Data Preprocessing\n",
    "\n",
    "\n",
    "This section demonstrates basic preprocessing techniques. To enhance data quality and model performance, consider incorporating more advanced preprocessing methods.\n",
    "\n",
    "For further guidance, feel free to take a look at the [Image Preprocessing tutorial](https://colab.research.google.com/drive/1-ItNcRMbZBE6BCwPT-wD8m3YmHqwHxme?usp=sharing)  available in the 'Resources' section of this Kaggle competition.\n"
   ]
  },
  {
   "cell_type": "code",
   "execution_count": null,
   "id": "515fc20b",
   "metadata": {
    "papermill": {
     "duration": 0.006696,
     "end_time": "2025-03-23T03:49:04.004298",
     "exception": false,
     "start_time": "2025-03-23T03:49:03.997602",
     "status": "completed"
    },
    "tags": []
   },
   "outputs": [],
   "source": []
  },
  {
   "cell_type": "code",
   "execution_count": 6,
   "id": "a123e2e7",
   "metadata": {
    "execution": {
     "iopub.execute_input": "2025-03-23T03:49:04.018461Z",
     "iopub.status.busy": "2025-03-23T03:49:04.018219Z",
     "iopub.status.idle": "2025-03-23T03:49:04.027676Z",
     "shell.execute_reply": "2025-03-23T03:49:04.026724Z"
    },
    "papermill": {
     "duration": 0.018015,
     "end_time": "2025-03-23T03:49:04.029082",
     "exception": false,
     "start_time": "2025-03-23T03:49:04.011067",
     "status": "completed"
    },
    "tags": []
   },
   "outputs": [],
   "source": [
    "# 3. Data Preprocessing\n",
    "# Encode the labels -- translating diagnoses to numbers\n",
    "label_encoder = LabelEncoder()\n",
    "train_df['encoded_label'] = label_encoder.fit_transform(train_df['label'])\n",
    "\n",
    "# Split the data into training and validation sets\n",
    "train_data, val_data = train_test_split(train_df, test_size=0.2, random_state=42)\n",
    "\n",
    "# # Define image data generators for training and validation\n",
    "# train_datagen = ImageDataGenerator(rescale=1./255)\n",
    "# val_datagen = ImageDataGenerator(rescale=1./255)\n",
    "\n",
    "# Define the directory paths\n",
    "train_dir = '/kaggle/input/bttai-ajl-2025/train/train/'"
   ]
  },
  {
   "cell_type": "code",
   "execution_count": 7,
   "id": "097f7142",
   "metadata": {
    "execution": {
     "iopub.execute_input": "2025-03-23T03:49:04.043511Z",
     "iopub.status.busy": "2025-03-23T03:49:04.043300Z",
     "iopub.status.idle": "2025-03-23T03:49:04.066525Z",
     "shell.execute_reply": "2025-03-23T03:49:04.065972Z"
    },
    "papermill": {
     "duration": 0.031572,
     "end_time": "2025-03-23T03:49:04.067622",
     "exception": false,
     "start_time": "2025-03-23T03:49:04.036050",
     "status": "completed"
    },
    "tags": []
   },
   "outputs": [],
   "source": [
    "\n",
    "# FRom image processing colab\n",
    "\n",
    "# Necessary Imports\n",
    "import os\n",
    "import numpy as np\n",
    "import pandas as pd\n",
    "from collections import Counter\n",
    "import keras\n",
    "from keras import Sequential\n",
    "from keras import layers\n",
    "from keras.layers import Conv2D,MaxPool2D,Dense,Flatten,BatchNormalization,Dropout, Input\n",
    "from keras.optimizers import Adam\n",
    "from PIL import Image\n",
    "from tensorflow import data as tf_data\n",
    "import matplotlib.pyplot as plt\n",
    "from keras.preprocessing import image\n",
    "import tensorflow as df\n",
    "\n",
    "from sklearn.model_selection import train_test_split\n",
    "\n",
    "from tqdm import tqdm"
   ]
  },
  {
   "cell_type": "markdown",
   "id": "9d7f6457",
   "metadata": {
    "papermill": {
     "duration": 0.006706,
     "end_time": "2025-03-23T03:49:04.081293",
     "exception": false,
     "start_time": "2025-03-23T03:49:04.074587",
     "status": "completed"
    },
    "tags": []
   },
   "source": [
    "### Data Augmentation\n",
    "\n"
   ]
  },
  {
   "cell_type": "code",
   "execution_count": 8,
   "id": "fdf87f72",
   "metadata": {
    "execution": {
     "iopub.execute_input": "2025-03-23T03:49:04.095682Z",
     "iopub.status.busy": "2025-03-23T03:49:04.095449Z",
     "iopub.status.idle": "2025-03-23T03:49:04.111484Z",
     "shell.execute_reply": "2025-03-23T03:49:04.110930Z"
    },
    "papermill": {
     "duration": 0.024546,
     "end_time": "2025-03-23T03:49:04.112677",
     "exception": false,
     "start_time": "2025-03-23T03:49:04.088131",
     "status": "completed"
    },
    "tags": []
   },
   "outputs": [],
   "source": [
    "###### METHODS FOR EACH AUGMENTATION\n",
    "# Taken from data aug colab\n",
    "\n",
    "from PIL import Image, ImageEnhance, ImageFilter\n",
    "\n",
    "def rotate(filepath):\n",
    "    with Image.open(filepath) as img:\n",
    "        # print(\"Original Image: \")\n",
    "        # display(img)\n",
    "        \n",
    "        rotated = img.rotate(45)\n",
    "        # print(\"Rotated 45 degrees\")\n",
    "        # display(rotated)\n",
    "\n",
    "    return rotated  \n",
    "\n",
    "def flip_upside_down(filepath):\n",
    "    with Image.open(filepath) as img:\n",
    "        upside = img.transpose(Image.FLIP_TOP_BOTTOM)\n",
    "    return upside\n",
    "\n",
    "def brightness(filepath):\n",
    "    with Image.open(filepath) as img:\n",
    "        enhancer = ImageEnhance.Brightness(img)\n",
    "        bright = enhancer.enhance(1.5)  # Increase brightness by 50%\n",
    "    return bright\n",
    "\n",
    "def light_blur(filepath):\n",
    "    with Image.open(filepath) as img:\n",
    "        light_blurred = img.filter(ImageFilter.GaussianBlur(radius=3))\n",
    "    return light_blurred\n",
    "\n",
    "def extreme_color(filepath):\n",
    "    with Image.open(filepath) as img:\n",
    "        color_enhancer = ImageEnhance.Color(img) # Creates a matrix for future enhancement\n",
    "        extreme_color = color_enhancer.enhance(4.0) # The actual color enhancements\n",
    "    return extreme_color\n",
    "\n",
    "def noisy(filepath):\n",
    "    with Image.open(filepath) as img:\n",
    "        image_array = np.array(img)\n",
    "        # up the sigma (25) here to adjust amnt of noise\n",
    "        noise = np.random.normal(0, 25, image_array.shape)  # Generate random noise\n",
    "        noisy_image = np.clip(image_array + noise, 0, 255).astype('uint8')  # Add noise and clip values\n",
    "        noisy_image = Image.fromarray(noisy_image)\n",
    "    return noisy_image\n"
   ]
  },
  {
   "cell_type": "code",
   "execution_count": 9,
   "id": "d68ac98d",
   "metadata": {
    "execution": {
     "iopub.execute_input": "2025-03-23T03:49:04.127151Z",
     "iopub.status.busy": "2025-03-23T03:49:04.126931Z",
     "iopub.status.idle": "2025-03-23T03:49:04.137556Z",
     "shell.execute_reply": "2025-03-23T03:49:04.136790Z"
    },
    "papermill": {
     "duration": 0.019084,
     "end_time": "2025-03-23T03:49:04.138689",
     "exception": false,
     "start_time": "2025-03-23T03:49:04.119605",
     "status": "completed"
    },
    "tags": []
   },
   "outputs": [],
   "source": [
    "### Helper methods for all types of augmentation\n",
    "\n",
    "import numpy as np\n",
    "import os\n",
    "import pandas as pd\n",
    "import shutil\n",
    "import random\n",
    "\n",
    "from shutil import unpack_archive\n",
    "from subprocess import check_output\n",
    "\n",
    "## Introducing sampling methods to ensure that our dataset is proportional\n",
    "\n",
    "\n",
    "def numImages(base_dir):\n",
    "    \"\"\" Helper method that gives the number of images for each diagnosis \"\"\" \n",
    "    all_nums = []\n",
    "    # Iterate through each subdirectory ('class_dir') in the base directory ('base_dir')\n",
    "    for class_dir in tqdm(os.listdir(base_dir), desc=\"Processing classes\"):\n",
    "        class_path = os.path.join(base_dir, class_dir)\n",
    "\n",
    "        # Get all filenames in the current class directory\n",
    "        filenames = os.listdir(class_path)\n",
    "        all_nums.append(len(filenames))\n",
    "        print(\"class: \", class_dir, \" number: \", len(filenames))\n",
    "\n",
    "    print(\"Average number: \", sum(all_nums)/len(all_nums))\n",
    "\n",
    "    return all_nums\n",
    "\n",
    "\"\"\"\"\n",
    "Selects samp_size files randomly from filenames.\n",
    "\n",
    "If filter is True, checks to make sure none\n",
    "are already augmented (e.g. have \"-r\" in the filename) (NOTE: tested this\n",
    "and it doesn't seem like it makes a dif, so I've left it false by default for now)\n",
    "\n",
    "NOTE: if there are not enough non-augmented images in the folder, returns\n",
    "only as many images as can be augmented\n",
    "\n",
    "filenames: list of names in the form <hash>.jpg\n",
    "samp_size: int num of how many files from filenames to return\n",
    "filter: whether to remove previously augmented files from sample\n",
    "\n",
    "returns a list of filenames selected for augmentation\n",
    "\"\"\"\n",
    "def sample(filenames, samp_size, filter=False):\n",
    "    \n",
    "    if not filter:\n",
    "        return random.sample(filenames, samp_size)\n",
    "\n",
    "    to_aug = []\n",
    "    inds_seen = set() # tracker for indexes of images iterated through\n",
    "\n",
    "    # continuing to look until we either have enough images are have run out of images to select\n",
    "    while len(to_aug) < samp_size and len(inds_seen) != len(filenames):\n",
    "        ind = random.randint(0, len(filenames) - 1)\n",
    "        if ind not in inds_seen:\n",
    "            inds_seen.add(ind)\n",
    "            if \"-a\" not in filenames[ind]:\n",
    "                to_aug.append(filenames[ind])\n",
    "\n",
    "    if len(to_aug) != samp_size:\n",
    "        print(\"Did not find enough non-augmented images. Total number sampled: \", len(to_aug), \". Total number needed: \", samp_size)\n",
    "    return to_aug\n",
    "\n",
    "def chooseAugmentation(img):\n",
    "    \"\"\" Helper that takes in a complete filepath to an image, performs a random augmentation, and returns the new image\"\"\"\n",
    "    num = random.randint(0, 5)\n",
    "    #[rotate, flip_upside_down, brightness, light_blur, extreme_color, noisy ]\n",
    "    \n",
    "    match status:\n",
    "        case 0:\n",
    "            print(\"0\")\n",
    "            return rotate(img)\n",
    "        case 1:\n",
    "            print(\"1\")\n",
    "            return flip_upside_down(img)\n",
    "        case 2:\n",
    "            print(\"2\")\n",
    "            return brightness(img)\n",
    "        case 3:\n",
    "            print(\"3\")\n",
    "            return light_blur(img)\n",
    "        case 4:\n",
    "            print(\"4\")\n",
    "            return extreme_color(img)\n",
    "        case 5:\n",
    "            print(\"5\")\n",
    "            return noisy(img)\n",
    "\n",
    "\n",
    "def genAugmentation(class_path, to_aug, new_path):\n",
    "    \"\"\"\n",
    "    generates needed number of images by randomly selecting images from a folder and\n",
    "    performing an augmentation. Saves images to new_path folder.\n",
    "    \n",
    "    Parameters:\n",
    "        class_path (string): The path to a directory of images\n",
    "        to_aug (list of str): list of filenames to be augmented from class_path (in <hash>.jpg form, not full filepath) \n",
    "        new_path (string): new place where the images will be saved\n",
    "\n",
    "    Returns:\n",
    "        new_files: A list of the newly-generated augmented filenames\n",
    "    \"\"\"\n",
    "    \n",
    "    # list of new filepaths\n",
    "    new_files = []\n",
    "\n",
    "    # performing a 45-degree angle rotation\n",
    "    for img in to_aug:\n",
    "        imgpath = class_path + \"/\" + img\n",
    "        if not os.path.exists(imgpath): # this is a previously augmented image and thus is in the new path\n",
    "            imgpath = new_path + \"/\" + img\n",
    "        #new_img = rotate(imgpath)\n",
    "        new_img = flip_upside_down(imgpath)\n",
    "        # removing jgp first to add -a inside of it\n",
    "        # md_only = re.sub(\".jpg\", \"\", img)\n",
    "        # print(\"Image name being added: \", f\"{md_only}-a.jpg\")\n",
    "        # new_name = f\"{md_only}-a.jpg\"\n",
    "        new_name = f\"{re.sub('.jpg', '', img)}-a.jpg\"\n",
    "        while os.path.exists(os.path.join(new_path, new_name)):\n",
    "            new_name = f\"{re.sub('.jpg', '', new_name)}-a.jpg\" # adding ANOTHER a until its a new version\n",
    "        if os.path.exists(os.path.join(new_path, new_name)):\n",
    "            print(\"Overwriting image: \", os.path.join(new_path, new_name))\n",
    "        new_img.save(os.path.join(new_path, new_name)) # '-a' for augmented\n",
    "        new_files.append(new_name)\n",
    "\n",
    "    return new_files"
   ]
  },
  {
   "cell_type": "code",
   "execution_count": 10,
   "id": "7c66ec2b",
   "metadata": {
    "execution": {
     "iopub.execute_input": "2025-03-23T03:49:04.157346Z",
     "iopub.status.busy": "2025-03-23T03:49:04.157121Z",
     "iopub.status.idle": "2025-03-23T03:49:04.165406Z",
     "shell.execute_reply": "2025-03-23T03:49:04.164798Z"
    },
    "papermill": {
     "duration": 0.018594,
     "end_time": "2025-03-23T03:49:04.166586",
     "exception": false,
     "start_time": "2025-03-23T03:49:04.147992",
     "status": "completed"
    },
    "tags": []
   },
   "outputs": [],
   "source": [
    "### Implementations of different types of augmentation (basic upsample/downsample by cat)\n",
    "\n",
    "def downsample(base_dir, sample_size_per_class, new_dir):\n",
    "    \"\"\"\n",
    "    Draws a uniform sample of filenames from directories, where each directory represents a class.\n",
    "    Copies sampled files into new_dir in the same class-based format as original\n",
    "    \n",
    "    Parameters:\n",
    "        base_dir (str): The path to the base directory containing subdirectories.\n",
    "        sample_size_per_class (int): The number of filenames to sample from each class directory.\n",
    "\n",
    "    Returns:\n",
    "        dict: A dictionary with class labels (directory names) as keys and lists of sampled filenames as values.\n",
    "    \"\"\"\n",
    "    # Dictionary to store sampled filenames for each class\n",
    "    sampled_files = {}\n",
    "    new_path = \"./\" + new_dir\n",
    "\n",
    "    # making new directory for sampled files\n",
    "    if not os.path.exists(new_path):\n",
    "        shutil.os.mkdir(new_path)\n",
    "\n",
    "    # Iterate through each subdirectory ('class_dir') in the base directory ('base_dir')\n",
    "    for class_dir in tqdm(os.listdir(base_dir), desc=\"Processing classes\"):\n",
    "        class_path = os.path.join(base_dir, class_dir)\n",
    "\n",
    "        # Get all filenames in the current class directory\n",
    "        filenames = os.listdir(class_path)\n",
    "\n",
    "        # Check if there are enough files to sample from\n",
    "        if len(filenames) < sample_size_per_class:\n",
    "            print(f\"Warning: Not enough files in class '{class_dir}' to sample {sample_size_per_class}. Using all available files.\")\n",
    "            sampled_files[class_dir] = filenames\n",
    "        else:\n",
    "            # Randomly sample files from the current class directory\n",
    "            sampled_files[class_dir] = random.sample(filenames, sample_size_per_class)\n",
    "\n",
    "        # moving files into the new training folder named after the class label\n",
    "        if not os.path.exists(new_path + \"/\" + class_dir):\n",
    "            shutil.os.mkdir(new_path + \"/\" + class_dir)\n",
    "        for file in sampled_files[class_dir]:\n",
    "            if not os.path.exists(new_path + \"/\" + class_dir + \"/\" + file):\n",
    "                shutil.copy2(class_path + \"/\" + file, new_path + \"/\" + class_dir)\n",
    "\n",
    "    return sampled_files\n",
    "\n",
    "def upsample(base_dir, samp_size, new_dir):\n",
    "    \"\"\"\n",
    "    Upsamples by identifying the number of additional images needed in each class \n",
    "    and randomly generating augmented images to fill this gap.\n",
    "    Also copies the new files into new_dir in the same class-folder format. \n",
    "    \n",
    "    Parameters:\n",
    "        base_dir (str): The path to the base directory containing subdirectories.\n",
    "        samp_size (int): The number of filenames to sample from each class directory.\n",
    "\n",
    "    Returns: nothing\n",
    "    \n",
    "    \"\"\"\n",
    "    new_path = \"./\" + new_dir\n",
    "\n",
    "    # making new directory for sampled files\n",
    "    if not os.path.exists(new_path):\n",
    "        shutil.os.mkdir(new_path)\n",
    "        \n",
    "    # Iterate through each subdirectory ('class_dir') in the base directory ('base_dir')\n",
    "    for class_dir in tqdm(os.listdir(base_dir), desc=\"Processing classes\"):\n",
    "        class_path = os.path.join(base_dir, class_dir)\n",
    "\n",
    "        # making class directory in new dataset if needed\n",
    "        if not os.path.exists(new_path + \"/\" + class_dir):\n",
    "            shutil.os.mkdir(new_path + \"/\" + class_dir)\n",
    "\n",
    "        # Get all filenames in the current class directory\n",
    "        filenames = os.listdir(class_path)\n",
    "        all_new_files = [] # this will be the list of files to save to the new directory\n",
    "        cur_files = filenames # list of current files to chose from when augmenting\n",
    "\n",
    "        # Check if we need to increase sample size\n",
    "        if len(filenames) < samp_size:\n",
    "            # generate additional images and add them to the new folder\n",
    "            to_select = samp_size - len(filenames)\n",
    "            while to_select > 0:\n",
    "                actual_select = to_select if len(cur_files) >= to_select else len(cur_files)\n",
    "                to_augment = sample(cur_files, actual_select)\n",
    "                new_c_files = genAugmentation(class_path, to_augment, new_path + \"/\" + class_dir)\n",
    "                all_new_files.extend(new_c_files)\n",
    "                cur_files.extend(new_c_files)\n",
    "                to_select -= actual_select \n",
    "            \n",
    "        \"\"\"\n",
    "        while to_select > 0:\n",
    "                actual_select = to_select if len(this_fitz) >= to_select else len(this_fitz)\n",
    "     \n",
    "                # now randomly select to_select codes from the train df and add them to to_augment\n",
    "                to_augment = sample(all_cat_fitz_files, actual_select)\n",
    "                new_cf_files = (genAugmentation(base_dir + \"/\" + cat, to_augment, new_dir +  \"/\" + cat))\n",
    "                new_files.extend(new_cf_files)\n",
    "                all_cat_fitz_files.extend(new_cf_files)\n",
    "                to_select -= actual_select\n",
    "        \n",
    "        \"\"\"\n",
    "            \n",
    "        # add all original files to the new folder\n",
    "        # moving files into the new training folder named after the class label\n",
    "\n",
    "        for file in filenames:\n",
    "            if not os.path.exists(new_path + \"/\" + class_dir + \"/\" + file):\n",
    "                shutil.copy2(class_path + \"/\" + file, new_path + \"/\" + class_dir)"
   ]
  },
  {
   "cell_type": "code",
   "execution_count": 11,
   "id": "75b84628",
   "metadata": {
    "execution": {
     "iopub.execute_input": "2025-03-23T03:49:04.181321Z",
     "iopub.status.busy": "2025-03-23T03:49:04.181130Z",
     "iopub.status.idle": "2025-03-23T03:49:04.189037Z",
     "shell.execute_reply": "2025-03-23T03:49:04.188453Z"
    },
    "papermill": {
     "duration": 0.0166,
     "end_time": "2025-03-23T03:49:04.190232",
     "exception": false,
     "start_time": "2025-03-23T03:49:04.173632",
     "status": "completed"
    },
    "tags": []
   },
   "outputs": [],
   "source": [
    "### setting up upsampling by skin color/fitz\n",
    "\n",
    "import re\n",
    "\n",
    "\"\"\" \n",
    "returns a list of count by fitz score for each category. \n",
    "base_dir = train_dir or equiv\n",
    "this is done like this and not with the df because of the case where\n",
    "we add new data to the directory (augmented -r files) that won't be in the CSV\n",
    "\"\"\"\n",
    "def count_by_diag(base_dir, train_df):\n",
    "    for diag_dir in os.listdir(base_dir):\n",
    "        fitz_count = [0 for i in range(7)] # ignoring -1 for now (these could also be filtered out entirely??)\n",
    "        dir_path = os.path.join(base_dir, diag_dir)\n",
    "        for img in os.listdir(dir_path):\n",
    "            \n",
    "            # using filename check fitz score in df\n",
    "            \n",
    "            # accounting for augmented images, which ahve the same score as their original version\n",
    "            if \"-a\" in img:\n",
    "                img = re.sub(\"-a\", \"\", img)\n",
    "                \n",
    "            fitz = train_df[train_df[\"md5hash\"] == img][\"fitzpatrick_scale\"].iloc[0]\n",
    "            if fitz != -1:\n",
    "                fitz_count[fitz] += 1\n",
    "\n",
    "        print(diag_dir, \": \", fitz_count)\n",
    "\n",
    "def fitz_diagnosis_upsample(base_dir, new_dir, train_df):\n",
    "    \"\"\"\n",
    "    for each category:\n",
    "    - find largest fitz cat and mult by 6 to get total number desired\n",
    "    - randomly select X number of images in each category and add all md5hashes to a list\n",
    "    - collect this list over all categories, then after doing so do all of the augmentations on this list\n",
    "    - THEN do the regular by-category upsampling \n",
    "    \"\"\"\n",
    "    # list of string diags to use in filepath later\n",
    "    ordered_cats = train_df[\"label\"].unique()\n",
    "    ordered_cats.sort()\n",
    "\n",
    "    new_files = [] # list of all images augmented\n",
    "\n",
    "    # making new_path directory in new dataset if needed\n",
    "    if not os.path.exists(new_dir):\n",
    "        shutil.os.mkdir(new_dir)\n",
    "   \n",
    "    for cat in ordered_cats:\n",
    "\n",
    "        # making class directory in new dataset if needed\n",
    "        if not os.path.exists(new_dir + \"/\" + cat):\n",
    "            shutil.os.mkdir(new_dir + \"/\" + cat)\n",
    "            \n",
    "        # to_augment = [] # list of md5hash.jpg keys to augment\n",
    "        most_common = max((train_df[train_df[\"label\"] == cat])['fitzpatrick_scale'].value_counts(normalize=False))\n",
    "        goal_total = most_common * 6\n",
    "\n",
    "        for i in range(1, 7): #iterating through fitz scores\n",
    "            # all files of this fitz score in the given cat\n",
    "            this_fitz = train_df[(train_df[\"label\"]== cat) & (train_df[\"fitzpatrick_scale\"]==i)]\n",
    "\n",
    "            # all files in the original directory that have a specific fitz score\n",
    "            # exists to compile additional augmented files to be selected for later additional augmentations, \n",
    "            # e.g. might include <hash>.jpg and <hash>-a.jpg\n",
    "            all_cat_fitz_files = this_fitz[\"md5hash\"].to_list()\n",
    "\n",
    "            if len(this_fitz) == 0:\n",
    "                print(\"Category \" + cat + \" has no images for fitz \" + str(i))\n",
    "                continue\n",
    "            # num of files we need to augment  \n",
    "            to_select = most_common - len(this_fitz)\n",
    "            \n",
    "            # continue to randomly sample as many files as needed to reach goal number\n",
    "            while to_select > 0:\n",
    "                actual_select = to_select if len(all_cat_fitz_files) >= to_select else len(all_cat_fitz_files)\n",
    "     \n",
    "                # now randomly select to_select codes from the train df and add them to to_augment\n",
    "                to_augment = sample(all_cat_fitz_files, actual_select)\n",
    "                new_cf_files = (genAugmentation(base_dir + \"/\" + cat, to_augment, new_dir +  \"/\" + cat))\n",
    "                new_files.extend(new_cf_files)\n",
    "                all_cat_fitz_files.extend(new_cf_files)\n",
    "                to_select -= actual_select\n",
    "                \n",
    "        # new_files = genAugmentation(base_dir + \"/\" + cat, to_augment, new_dir +  \"/\" + cat)\n",
    "        # print(\"New files: \", new_files)\n",
    "        # adding ALL original images to the new folder\n",
    "        folder = base_dir + \"/\" + cat + \"/\"\n",
    "        for hsh in train_df[train_df[\"label\"] == cat][\"md5hash\"]:\n",
    "            if not os.path.exists( new_dir + \"/\" + cat + \"/\" + hsh):\n",
    "                shutil.copy2(folder + hsh, new_dir + \"/\" + cat)"
   ]
  },
  {
   "cell_type": "code",
   "execution_count": 12,
   "id": "c84394b6",
   "metadata": {
    "execution": {
     "iopub.execute_input": "2025-03-23T03:49:04.204489Z",
     "iopub.status.busy": "2025-03-23T03:49:04.204288Z",
     "iopub.status.idle": "2025-03-23T03:49:04.206874Z",
     "shell.execute_reply": "2025-03-23T03:49:04.206281Z"
    },
    "papermill": {
     "duration": 0.010994,
     "end_time": "2025-03-23T03:49:04.208135",
     "exception": false,
     "start_time": "2025-03-23T03:49:04.197141",
     "status": "completed"
    },
    "tags": []
   },
   "outputs": [],
   "source": [
    "# shutil.rmtree(\"./test_fitz\")"
   ]
  },
  {
   "cell_type": "code",
   "execution_count": 13,
   "id": "2732c8c6",
   "metadata": {
    "execution": {
     "iopub.execute_input": "2025-03-23T03:49:04.223354Z",
     "iopub.status.busy": "2025-03-23T03:49:04.223134Z",
     "iopub.status.idle": "2025-03-23T03:49:42.199464Z",
     "shell.execute_reply": "2025-03-23T03:49:42.198791Z"
    },
    "papermill": {
     "duration": 37.985587,
     "end_time": "2025-03-23T03:49:42.200644",
     "exception": false,
     "start_time": "2025-03-23T03:49:04.215057",
     "status": "completed"
    },
    "tags": []
   },
   "outputs": [
    {
     "name": "stdout",
     "output_type": "stream",
     "text": [
      "dermatomyositis :  [0, 16, 39, 24, 15, 6, 4]\n",
      "malignant-melanoma :  [0, 23, 29, 10, 7, 3, 1]\n",
      "basal-cell-carcinoma :  [0, 58, 114, 81, 47, 15, 5]\n",
      "eczema :  [0, 18, 65, 25, 17, 8, 7]\n",
      "basal-cell-carcinoma-morpheiform :  [0, 16, 21, 4, 0, 1, 0]\n",
      "melanoma :  [0, 27, 55, 41, 24, 15, 7]\n",
      "acne :  [0, 32, 48, 22, 15, 11, 0]\n",
      "kaposi-sarcoma :  [0, 10, 18, 21, 29, 21, 8]\n",
      "seborrheic-keratosis :  [0, 9, 21, 6, 4, 3, 4]\n",
      "keloid :  [0, 16, 23, 17, 19, 20, 12]\n",
      "acne-vulgaris :  [0, 53, 104, 34, 30, 9, 4]\n",
      "squamous-cell-carcinoma :  [0, 71, 121, 86, 50, 34, 14]\n",
      "epidermal-nevus :  [0, 25, 19, 7, 9, 2, 0]\n",
      "pyogenic-granuloma :  [0, 25, 27, 12, 10, 3, 0]\n",
      "dyshidrotic-eczema :  [0, 12, 18, 9, 8, 2, 5]\n",
      "mycosis-fungoides :  [0, 26, 38, 30, 18, 9, 2]\n",
      "actinic-keratosis :  [0, 21, 55, 18, 15, 8, 0]\n",
      "superficial-spreading-melanoma-ssm :  [0, 35, 28, 12, 2, 2, 2]\n",
      "dermatofibroma :  [0, 9, 25, 16, 4, 0, 0]\n",
      "folliculitis :  [0, 20, 72, 63, 33, 22, 9]\n",
      "prurigo-nodularis :  [0, 6, 24, 24, 37, 22, 5]\n",
      "Category acne has no images for fitz 6\n",
      "Category actinic-keratosis has no images for fitz 6\n",
      "Category basal-cell-carcinoma-morpheiform has no images for fitz 4\n",
      "Category basal-cell-carcinoma-morpheiform has no images for fitz 6\n",
      "Category dermatofibroma has no images for fitz 5\n",
      "Category dermatofibroma has no images for fitz 6\n",
      "Category epidermal-nevus has no images for fitz 6\n",
      "Category pyogenic-granuloma has no images for fitz 6\n",
      "NEW DIR: \n",
      "kaposi-sarcoma :  [0, 29, 29, 29, 29, 29, 29]\n",
      "seborrheic-keratosis :  [0, 21, 21, 21, 21, 21, 21]\n",
      "dermatomyositis :  [0, 39, 39, 39, 39, 39, 39]\n",
      "pyogenic-granuloma :  [0, 27, 27, 27, 27, 27, 0]\n",
      "epidermal-nevus :  [0, 25, 25, 25, 25, 25, 0]\n",
      "mycosis-fungoides :  [0, 38, 38, 38, 38, 38, 38]\n",
      "folliculitis :  [0, 72, 72, 72, 72, 72, 72]\n",
      "actinic-keratosis :  [0, 55, 55, 55, 55, 55, 0]\n",
      "prurigo-nodularis :  [0, 37, 37, 37, 37, 37, 37]\n",
      "acne-vulgaris :  [0, 104, 104, 104, 104, 104, 104]\n",
      "keloid :  [0, 23, 23, 23, 23, 23, 23]\n",
      "eczema :  [0, 65, 65, 65, 65, 65, 65]\n",
      "basal-cell-carcinoma-morpheiform :  [0, 21, 21, 21, 0, 21, 0]\n",
      "dermatofibroma :  [0, 25, 25, 25, 25, 0, 0]\n",
      "acne :  [0, 48, 48, 48, 48, 48, 0]\n",
      "dyshidrotic-eczema :  [0, 18, 18, 18, 18, 18, 18]\n",
      "melanoma :  [0, 55, 55, 55, 55, 55, 55]\n",
      "basal-cell-carcinoma :  [0, 114, 114, 114, 114, 114, 114]\n",
      "squamous-cell-carcinoma :  [0, 121, 121, 121, 121, 121, 121]\n",
      "malignant-melanoma :  [0, 29, 29, 29, 29, 29, 29]\n",
      "superficial-spreading-melanoma-ssm :  [0, 35, 35, 35, 35, 35, 35]\n"
     ]
    }
   ],
   "source": [
    "# # testing above methods\n",
    "count_by_diag(train_dir, train_df)\n",
    "fitz_diagnosis_upsample(train_dir, \"./test_fitz\", train_df)\n",
    "print(\"NEW DIR: \")\n",
    "count_by_diag(\"./test_fitz\", train_df)\n",
    "# shutil.rmtree(\"./test_fitz\")"
   ]
  },
  {
   "cell_type": "code",
   "execution_count": 14,
   "id": "1561527b",
   "metadata": {
    "execution": {
     "iopub.execute_input": "2025-03-23T03:49:42.218793Z",
     "iopub.status.busy": "2025-03-23T03:49:42.218555Z",
     "iopub.status.idle": "2025-03-23T03:49:42.230707Z",
     "shell.execute_reply": "2025-03-23T03:49:42.229692Z"
    },
    "papermill": {
     "duration": 0.022386,
     "end_time": "2025-03-23T03:49:42.232050",
     "exception": false,
     "start_time": "2025-03-23T03:49:42.209664",
     "status": "completed"
    },
    "tags": []
   },
   "outputs": [
    {
     "name": "stdout",
     "output_type": "stream",
     "text": [
      "fitzpatrick_scale                     -1     1      2     3     4     5     6\n",
      "label                                                                        \n",
      "acne                                 0.0  32.0   48.0  22.0  15.0  11.0   0.0\n",
      "acne-vulgaris                        0.0  53.0  104.0  34.0  30.0   9.0   4.0\n",
      "actinic-keratosis                    5.0  21.0   55.0  18.0  15.0   8.0   0.0\n",
      "basal-cell-carcinoma                 8.0  58.0  114.0  81.0  47.0  15.0   5.0\n",
      "basal-cell-carcinoma-morpheiform     1.0  16.0   21.0   4.0   0.0   1.0   0.0\n",
      "dermatofibroma                       1.0   9.0   25.0  16.0   4.0   0.0   0.0\n",
      "dermatomyositis                      2.0  16.0   39.0  24.0  15.0   6.0   4.0\n",
      "dyshidrotic-eczema                   4.0  12.0   18.0   9.0   8.0   2.0   5.0\n",
      "eczema                               3.0  18.0   65.0  25.0  17.0   8.0   7.0\n",
      "epidermal-nevus                      2.0  25.0   19.0   7.0   9.0   2.0   0.0\n",
      "folliculitis                        20.0  20.0   72.0  63.0  33.0  22.0   9.0\n",
      "kaposi-sarcoma                       2.0  10.0   18.0  21.0  29.0  21.0   8.0\n",
      "keloid                               2.0  16.0   23.0  17.0  19.0  20.0  12.0\n",
      "malignant-melanoma                   5.0  23.0   29.0  10.0   7.0   3.0   1.0\n",
      "melanoma                            12.0  27.0   55.0  41.0  24.0  15.0   7.0\n",
      "mycosis-fungoides                    4.0  26.0   38.0  30.0  18.0   9.0   2.0\n",
      "prurigo-nodularis                    1.0   6.0   24.0  24.0  37.0  22.0   5.0\n",
      "pyogenic-granuloma                   2.0  25.0   27.0  12.0  10.0   3.0   0.0\n",
      "seborrheic-keratosis                 1.0   9.0   21.0   6.0   4.0   3.0   4.0\n",
      "squamous-cell-carcinoma             31.0  71.0  121.0  86.0  50.0  34.0  14.0\n",
      "superficial-spreading-melanoma-ssm   2.0  35.0   28.0  12.0   2.0   2.0   2.0\n"
     ]
    }
   ],
   "source": [
    "counts_after = train_df.groupby([\"label\", \"fitzpatrick_scale\"]).size().unstack().fillna(0)\n",
    "print(counts_after)"
   ]
  },
  {
   "cell_type": "code",
   "execution_count": 15,
   "id": "44280016",
   "metadata": {
    "execution": {
     "iopub.execute_input": "2025-03-23T03:49:42.249007Z",
     "iopub.status.busy": "2025-03-23T03:49:42.248785Z",
     "iopub.status.idle": "2025-03-23T03:49:42.271455Z",
     "shell.execute_reply": "2025-03-23T03:49:42.270819Z"
    },
    "papermill": {
     "duration": 0.032404,
     "end_time": "2025-03-23T03:49:42.272649",
     "exception": false,
     "start_time": "2025-03-23T03:49:42.240245",
     "status": "completed"
    },
    "tags": []
   },
   "outputs": [
    {
     "name": "stderr",
     "output_type": "stream",
     "text": [
      "Processing classes: 100%|██████████| 21/21 [00:00<00:00, 1544.38it/s]"
     ]
    },
    {
     "name": "stdout",
     "output_type": "stream",
     "text": [
      "class:  kaposi-sarcoma  number:  176\n",
      "class:  seborrheic-keratosis  number:  127\n",
      "class:  dermatomyositis  number:  236\n",
      "class:  pyogenic-granuloma  number:  137\n",
      "class:  epidermal-nevus  number:  127\n",
      "class:  mycosis-fungoides  number:  232\n",
      "class:  folliculitis  number:  452\n",
      "class:  actinic-keratosis  number:  280\n",
      "class:  prurigo-nodularis  number:  223\n",
      "class:  acne-vulgaris  number:  624\n",
      "class:  keloid  number:  140\n",
      "class:  eczema  number:  393\n",
      "class:  basal-cell-carcinoma-morpheiform  number:  85\n",
      "class:  dermatofibroma  number:  101\n",
      "class:  acne  number:  240\n",
      "class:  dyshidrotic-eczema  number:  112\n",
      "class:  melanoma  number:  342\n",
      "class:  basal-cell-carcinoma  number:  692\n",
      "class:  squamous-cell-carcinoma  number:  757\n",
      "class:  malignant-melanoma  number:  179\n",
      "class:  superficial-spreading-melanoma-ssm  number:  212\n",
      "Average number:  279.3809523809524\n"
     ]
    },
    {
     "name": "stderr",
     "output_type": "stream",
     "text": [
      "\n"
     ]
    },
    {
     "data": {
      "text/plain": [
       "[176,\n",
       " 127,\n",
       " 236,\n",
       " 137,\n",
       " 127,\n",
       " 232,\n",
       " 452,\n",
       " 280,\n",
       " 223,\n",
       " 624,\n",
       " 140,\n",
       " 393,\n",
       " 85,\n",
       " 101,\n",
       " 240,\n",
       " 112,\n",
       " 342,\n",
       " 692,\n",
       " 757,\n",
       " 179,\n",
       " 212]"
      ]
     },
     "execution_count": 15,
     "metadata": {},
     "output_type": "execute_result"
    }
   ],
   "source": [
    "## getting a sense of how many images are in each category\n",
    "numImages(\"./test_fitz\")\n",
    "\n",
    "## --> min number we can choose is 85 for basal-cell-carcinoma-morpheiform\n"
   ]
  },
  {
   "cell_type": "code",
   "execution_count": 16,
   "id": "8f7b9654",
   "metadata": {
    "execution": {
     "iopub.execute_input": "2025-03-23T03:49:42.290620Z",
     "iopub.status.busy": "2025-03-23T03:49:42.290390Z",
     "iopub.status.idle": "2025-03-23T03:49:42.293333Z",
     "shell.execute_reply": "2025-03-23T03:49:42.292695Z"
    },
    "papermill": {
     "duration": 0.013093,
     "end_time": "2025-03-23T03:49:42.294553",
     "exception": false,
     "start_time": "2025-03-23T03:49:42.281460",
     "status": "completed"
    },
    "tags": []
   },
   "outputs": [],
   "source": [
    "# shutil.rmtree(\"./upsampled\")"
   ]
  },
  {
   "cell_type": "code",
   "execution_count": 17,
   "id": "ce57f176",
   "metadata": {
    "execution": {
     "iopub.execute_input": "2025-03-23T03:49:42.312123Z",
     "iopub.status.busy": "2025-03-23T03:49:42.311898Z",
     "iopub.status.idle": "2025-03-23T03:49:59.730324Z",
     "shell.execute_reply": "2025-03-23T03:49:59.729474Z"
    },
    "papermill": {
     "duration": 17.428533,
     "end_time": "2025-03-23T03:49:59.731656",
     "exception": false,
     "start_time": "2025-03-23T03:49:42.303123",
     "status": "completed"
    },
    "tags": []
   },
   "outputs": [
    {
     "name": "stderr",
     "output_type": "stream",
     "text": [
      "Processing classes: 100%|██████████| 21/21 [00:17<00:00,  1.21it/s]\n"
     ]
    }
   ],
   "source": [
    "### Down and/or upsampling\n",
    "\n",
    "# creating a new training folder with sampled images\n",
    "#sample_dict = downsample(train_dir, 40)\n",
    "\n",
    "# min number is 43, so for now bc we're only at most doubling we'll do upsampling up to 85\n",
    "upsample(\"./test_fitz\", 400, \"upsampled\")"
   ]
  },
  {
   "cell_type": "code",
   "execution_count": 18,
   "id": "ad162c2a",
   "metadata": {
    "execution": {
     "iopub.execute_input": "2025-03-23T03:49:59.751661Z",
     "iopub.status.busy": "2025-03-23T03:49:59.751408Z",
     "iopub.status.idle": "2025-03-23T03:49:59.754364Z",
     "shell.execute_reply": "2025-03-23T03:49:59.753774Z"
    },
    "papermill": {
     "duration": 0.014028,
     "end_time": "2025-03-23T03:49:59.755468",
     "exception": false,
     "start_time": "2025-03-23T03:49:59.741440",
     "status": "completed"
    },
    "tags": []
   },
   "outputs": [],
   "source": [
    "# SECOND ROUND OF AUGMENTATION -- can also try inc. sample size in second round\n",
    "\n",
    "#fitz_diagnosis_upsample(train_dir, \"./test_fitz\", train_df)\n",
    "#upsample(\"./test_fitz\", 100, \"upsampled\")"
   ]
  },
  {
   "cell_type": "code",
   "execution_count": 19,
   "id": "1d0c0661",
   "metadata": {
    "execution": {
     "iopub.execute_input": "2025-03-23T03:49:59.775047Z",
     "iopub.status.busy": "2025-03-23T03:49:59.774813Z",
     "iopub.status.idle": "2025-03-23T03:49:59.797569Z",
     "shell.execute_reply": "2025-03-23T03:49:59.796757Z"
    },
    "papermill": {
     "duration": 0.033961,
     "end_time": "2025-03-23T03:49:59.798918",
     "exception": false,
     "start_time": "2025-03-23T03:49:59.764957",
     "status": "completed"
    },
    "tags": []
   },
   "outputs": [
    {
     "name": "stderr",
     "output_type": "stream",
     "text": [
      "Processing classes: 100%|██████████| 21/21 [00:00<00:00, 1498.22it/s]"
     ]
    },
    {
     "name": "stdout",
     "output_type": "stream",
     "text": [
      "class:  kaposi-sarcoma  number:  333\n",
      "class:  seborrheic-keratosis  number:  321\n",
      "class:  dermatomyositis  number:  305\n",
      "class:  pyogenic-granuloma  number:  342\n",
      "class:  epidermal-nevus  number:  337\n",
      "class:  mycosis-fungoides  number:  323\n",
      "class:  folliculitis  number:  452\n",
      "class:  actinic-keratosis  number:  340\n",
      "class:  prurigo-nodularis  number:  319\n",
      "class:  acne-vulgaris  number:  624\n",
      "class:  keloid  number:  369\n",
      "class:  eczema  number:  398\n",
      "class:  basal-cell-carcinoma-morpheiform  number:  358\n",
      "class:  dermatofibroma  number:  354\n",
      "class:  acne  number:  326\n",
      "class:  dyshidrotic-eczema  number:  346\n",
      "class:  melanoma  number:  376\n",
      "class:  basal-cell-carcinoma  number:  692\n",
      "class:  squamous-cell-carcinoma  number:  757\n",
      "class:  malignant-melanoma  number:  299\n",
      "class:  superficial-spreading-melanoma-ssm  number:  286\n",
      "Average number:  393.1904761904762\n"
     ]
    },
    {
     "name": "stderr",
     "output_type": "stream",
     "text": [
      "\n"
     ]
    },
    {
     "data": {
      "text/plain": [
       "[333,\n",
       " 321,\n",
       " 305,\n",
       " 342,\n",
       " 337,\n",
       " 323,\n",
       " 452,\n",
       " 340,\n",
       " 319,\n",
       " 624,\n",
       " 369,\n",
       " 398,\n",
       " 358,\n",
       " 354,\n",
       " 326,\n",
       " 346,\n",
       " 376,\n",
       " 692,\n",
       " 757,\n",
       " 299,\n",
       " 286]"
      ]
     },
     "execution_count": 19,
     "metadata": {},
     "output_type": "execute_result"
    }
   ],
   "source": [
    "numImages(\"./upsampled\")"
   ]
  },
  {
   "cell_type": "code",
   "execution_count": 20,
   "id": "247714b2",
   "metadata": {
    "execution": {
     "iopub.execute_input": "2025-03-23T03:49:59.819270Z",
     "iopub.status.busy": "2025-03-23T03:49:59.819070Z",
     "iopub.status.idle": "2025-03-23T03:50:05.006877Z",
     "shell.execute_reply": "2025-03-23T03:50:05.006170Z"
    },
    "papermill": {
     "duration": 5.199763,
     "end_time": "2025-03-23T03:50:05.008362",
     "exception": false,
     "start_time": "2025-03-23T03:49:59.808599",
     "status": "completed"
    },
    "tags": []
   },
   "outputs": [
    {
     "name": "stdout",
     "output_type": "stream",
     "text": [
      "Found 8257 files belonging to 21 classes.\n",
      "Using 6606 files for training.\n",
      "Using 1651 files for validation.\n",
      "Found 1227 files belonging to 1 classes.\n"
     ]
    }
   ],
   "source": [
    "image_size = (180, 180)  # Target dimensions for resizing images (height, width).\n",
    "batch_size = 32  # Number of images processed in a single batch during training.\n",
    "# Note: A batch size of 128 (common in other setups) may exceed Colab's memory limits, causing crashes.\n",
    "# The chosen batch size of 32 balances memory usage and runtime, with an estimated runtime of ~3 hours.\n",
    "\n",
    "train_ds, val_ds = keras.utils.image_dataset_from_directory(\n",
    "    \"./upsampled\", #train_dir,             # Path to the directory containing the dataset.\n",
    "    labels=\"inferred\", # tells model to use folder names as labels\n",
    "    label_mode=\"int\",\n",
    "    validation_split=0.2,    # Specify that 20% of the dataset will be used for validation.\n",
    "    subset=\"both\",           # Create both training and validation datasets from the directory.\n",
    "    seed=42,                 # Random seed to ensure reproducibility when shuffling the data.\n",
    "    image_size=image_size,   # Resize all images to the specified dimensions (180x180).\n",
    "    batch_size=batch_size,   # Divide the dataset into batches of the specified size (32 images per batch).\n",
    ")\n",
    "\n",
    "# train_dir = '/kaggle/input/bttai-ajl-2025/train/train/'\n",
    "\n",
    "# /kaggle/input/bttai-ajl-2025/test/test\n",
    "\n",
    "test_dir = \"/kaggle/input/bttai-ajl-2025/test\"\n",
    "\n",
    "# print(os.listdir(test_dir))\n",
    "\n",
    "test_dataset = keras.utils.image_dataset_from_directory(\n",
    "           test_dir,\n",
    "           shuffle=False,        #or False\n",
    "           batch_size=batch_size,\n",
    "           image_size=image_size\n",
    ")"
   ]
  },
  {
   "cell_type": "code",
   "execution_count": 21,
   "id": "d69f7336",
   "metadata": {
    "execution": {
     "iopub.execute_input": "2025-03-23T03:50:05.029703Z",
     "iopub.status.busy": "2025-03-23T03:50:05.029449Z",
     "iopub.status.idle": "2025-03-23T03:59:49.333083Z",
     "shell.execute_reply": "2025-03-23T03:59:49.332124Z"
    },
    "papermill": {
     "duration": 584.393383,
     "end_time": "2025-03-23T03:59:49.412208",
     "exception": false,
     "start_time": "2025-03-23T03:50:05.018825",
     "status": "completed"
    },
    "tags": []
   },
   "outputs": [
    {
     "name": "stdout",
     "output_type": "stream",
     "text": [
      "Downloading data from https://storage.googleapis.com/tensorflow/keras-applications/xception/xception_weights_tf_dim_ordering_tf_kernels_notop.h5\n",
      "\u001b[1m83683744/83683744\u001b[0m \u001b[32m━━━━━━━━━━━━━━━━━━━━\u001b[0m\u001b[37m\u001b[0m \u001b[1m0s\u001b[0m 0us/step\n"
     ]
    },
    {
     "data": {
      "text/html": [
       "<pre style=\"white-space:pre;overflow-x:auto;line-height:normal;font-family:Menlo,'DejaVu Sans Mono',consolas,'Courier New',monospace\"><span style=\"font-weight: bold\">Model: \"functional\"</span>\n",
       "</pre>\n"
      ],
      "text/plain": [
       "\u001b[1mModel: \"functional\"\u001b[0m\n"
      ]
     },
     "metadata": {},
     "output_type": "display_data"
    },
    {
     "data": {
      "text/html": [
       "<pre style=\"white-space:pre;overflow-x:auto;line-height:normal;font-family:Menlo,'DejaVu Sans Mono',consolas,'Courier New',monospace\">┏━━━━━━━━━━━━━━━━━━━━━━━━━━━━━━━━━━━━━┳━━━━━━━━━━━━━━━━━━━━━━━━━━━━━━┳━━━━━━━━━━━━━━━┳━━━━━━━━━┓\n",
       "┃<span style=\"font-weight: bold\"> Layer (type)                        </span>┃<span style=\"font-weight: bold\"> Output Shape                 </span>┃<span style=\"font-weight: bold\">       Param # </span>┃<span style=\"font-weight: bold\"> Traina… </span>┃\n",
       "┡━━━━━━━━━━━━━━━━━━━━━━━━━━━━━━━━━━━━━╇━━━━━━━━━━━━━━━━━━━━━━━━━━━━━━╇━━━━━━━━━━━━━━━╇━━━━━━━━━┩\n",
       "│ input_layer_1 (<span style=\"color: #0087ff; text-decoration-color: #0087ff\">InputLayer</span>)          │ (<span style=\"color: #00d7ff; text-decoration-color: #00d7ff\">None</span>, <span style=\"color: #00af00; text-decoration-color: #00af00\">180</span>, <span style=\"color: #00af00; text-decoration-color: #00af00\">180</span>, <span style=\"color: #00af00; text-decoration-color: #00af00\">3</span>)          │             <span style=\"color: #00af00; text-decoration-color: #00af00\">0</span> │    <span style=\"font-weight: bold\">-</span>    │\n",
       "├─────────────────────────────────────┼──────────────────────────────┼───────────────┼─────────┤\n",
       "│ rescaling (<span style=\"color: #0087ff; text-decoration-color: #0087ff\">Rescaling</span>)               │ (<span style=\"color: #00d7ff; text-decoration-color: #00d7ff\">None</span>, <span style=\"color: #00af00; text-decoration-color: #00af00\">180</span>, <span style=\"color: #00af00; text-decoration-color: #00af00\">180</span>, <span style=\"color: #00af00; text-decoration-color: #00af00\">3</span>)          │             <span style=\"color: #00af00; text-decoration-color: #00af00\">0</span> │    <span style=\"font-weight: bold\">-</span>    │\n",
       "├─────────────────────────────────────┼──────────────────────────────┼───────────────┼─────────┤\n",
       "│ xception (<span style=\"color: #0087ff; text-decoration-color: #0087ff\">Functional</span>)               │ (<span style=\"color: #00d7ff; text-decoration-color: #00d7ff\">None</span>, <span style=\"color: #00af00; text-decoration-color: #00af00\">6</span>, <span style=\"color: #00af00; text-decoration-color: #00af00\">6</span>, <span style=\"color: #00af00; text-decoration-color: #00af00\">2048</span>)           │    <span style=\"color: #00af00; text-decoration-color: #00af00\">20,861,480</span> │    <span style=\"color: #00af00; text-decoration-color: #00af00; font-weight: bold\">Y</span>    │\n",
       "├─────────────────────────────────────┼──────────────────────────────┼───────────────┼─────────┤\n",
       "│ global_average_pooling2d            │ (<span style=\"color: #00d7ff; text-decoration-color: #00d7ff\">None</span>, <span style=\"color: #00af00; text-decoration-color: #00af00\">2048</span>)                 │             <span style=\"color: #00af00; text-decoration-color: #00af00\">0</span> │    <span style=\"font-weight: bold\">-</span>    │\n",
       "│ (<span style=\"color: #0087ff; text-decoration-color: #0087ff\">GlobalAveragePooling2D</span>)            │                              │               │         │\n",
       "├─────────────────────────────────────┼──────────────────────────────┼───────────────┼─────────┤\n",
       "│ dropout (<span style=\"color: #0087ff; text-decoration-color: #0087ff\">Dropout</span>)                   │ (<span style=\"color: #00d7ff; text-decoration-color: #00d7ff\">None</span>, <span style=\"color: #00af00; text-decoration-color: #00af00\">2048</span>)                 │             <span style=\"color: #00af00; text-decoration-color: #00af00\">0</span> │    <span style=\"font-weight: bold\">-</span>    │\n",
       "├─────────────────────────────────────┼──────────────────────────────┼───────────────┼─────────┤\n",
       "│ dense (<span style=\"color: #0087ff; text-decoration-color: #0087ff\">Dense</span>)                       │ (<span style=\"color: #00d7ff; text-decoration-color: #00d7ff\">None</span>, <span style=\"color: #00af00; text-decoration-color: #00af00\">21</span>)                   │        <span style=\"color: #00af00; text-decoration-color: #00af00\">43,029</span> │    <span style=\"color: #00af00; text-decoration-color: #00af00; font-weight: bold\">Y</span>    │\n",
       "└─────────────────────────────────────┴──────────────────────────────┴───────────────┴─────────┘\n",
       "</pre>\n"
      ],
      "text/plain": [
       "┏━━━━━━━━━━━━━━━━━━━━━━━━━━━━━━━━━━━━━┳━━━━━━━━━━━━━━━━━━━━━━━━━━━━━━┳━━━━━━━━━━━━━━━┳━━━━━━━━━┓\n",
       "┃\u001b[1m \u001b[0m\u001b[1mLayer (type)                       \u001b[0m\u001b[1m \u001b[0m┃\u001b[1m \u001b[0m\u001b[1mOutput Shape                \u001b[0m\u001b[1m \u001b[0m┃\u001b[1m \u001b[0m\u001b[1m      Param #\u001b[0m\u001b[1m \u001b[0m┃\u001b[1m \u001b[0m\u001b[1mTraina…\u001b[0m\u001b[1m \u001b[0m┃\n",
       "┡━━━━━━━━━━━━━━━━━━━━━━━━━━━━━━━━━━━━━╇━━━━━━━━━━━━━━━━━━━━━━━━━━━━━━╇━━━━━━━━━━━━━━━╇━━━━━━━━━┩\n",
       "│ input_layer_1 (\u001b[38;5;33mInputLayer\u001b[0m)          │ (\u001b[38;5;45mNone\u001b[0m, \u001b[38;5;34m180\u001b[0m, \u001b[38;5;34m180\u001b[0m, \u001b[38;5;34m3\u001b[0m)          │             \u001b[38;5;34m0\u001b[0m │    \u001b[1m-\u001b[0m    │\n",
       "├─────────────────────────────────────┼──────────────────────────────┼───────────────┼─────────┤\n",
       "│ rescaling (\u001b[38;5;33mRescaling\u001b[0m)               │ (\u001b[38;5;45mNone\u001b[0m, \u001b[38;5;34m180\u001b[0m, \u001b[38;5;34m180\u001b[0m, \u001b[38;5;34m3\u001b[0m)          │             \u001b[38;5;34m0\u001b[0m │    \u001b[1m-\u001b[0m    │\n",
       "├─────────────────────────────────────┼──────────────────────────────┼───────────────┼─────────┤\n",
       "│ xception (\u001b[38;5;33mFunctional\u001b[0m)               │ (\u001b[38;5;45mNone\u001b[0m, \u001b[38;5;34m6\u001b[0m, \u001b[38;5;34m6\u001b[0m, \u001b[38;5;34m2048\u001b[0m)           │    \u001b[38;5;34m20,861,480\u001b[0m │    \u001b[1;38;5;34mY\u001b[0m    │\n",
       "├─────────────────────────────────────┼──────────────────────────────┼───────────────┼─────────┤\n",
       "│ global_average_pooling2d            │ (\u001b[38;5;45mNone\u001b[0m, \u001b[38;5;34m2048\u001b[0m)                 │             \u001b[38;5;34m0\u001b[0m │    \u001b[1m-\u001b[0m    │\n",
       "│ (\u001b[38;5;33mGlobalAveragePooling2D\u001b[0m)            │                              │               │         │\n",
       "├─────────────────────────────────────┼──────────────────────────────┼───────────────┼─────────┤\n",
       "│ dropout (\u001b[38;5;33mDropout\u001b[0m)                   │ (\u001b[38;5;45mNone\u001b[0m, \u001b[38;5;34m2048\u001b[0m)                 │             \u001b[38;5;34m0\u001b[0m │    \u001b[1m-\u001b[0m    │\n",
       "├─────────────────────────────────────┼──────────────────────────────┼───────────────┼─────────┤\n",
       "│ dense (\u001b[38;5;33mDense\u001b[0m)                       │ (\u001b[38;5;45mNone\u001b[0m, \u001b[38;5;34m21\u001b[0m)                   │        \u001b[38;5;34m43,029\u001b[0m │    \u001b[1;38;5;34mY\u001b[0m    │\n",
       "└─────────────────────────────────────┴──────────────────────────────┴───────────────┴─────────┘\n"
      ]
     },
     "metadata": {},
     "output_type": "display_data"
    },
    {
     "data": {
      "text/html": [
       "<pre style=\"white-space:pre;overflow-x:auto;line-height:normal;font-family:Menlo,'DejaVu Sans Mono',consolas,'Courier New',monospace\"><span style=\"font-weight: bold\"> Total params: </span><span style=\"color: #00af00; text-decoration-color: #00af00\">20,904,509</span> (79.74 MB)\n",
       "</pre>\n"
      ],
      "text/plain": [
       "\u001b[1m Total params: \u001b[0m\u001b[38;5;34m20,904,509\u001b[0m (79.74 MB)\n"
      ]
     },
     "metadata": {},
     "output_type": "display_data"
    },
    {
     "data": {
      "text/html": [
       "<pre style=\"white-space:pre;overflow-x:auto;line-height:normal;font-family:Menlo,'DejaVu Sans Mono',consolas,'Courier New',monospace\"><span style=\"font-weight: bold\"> Trainable params: </span><span style=\"color: #00af00; text-decoration-color: #00af00\">8,983,381</span> (34.27 MB)\n",
       "</pre>\n"
      ],
      "text/plain": [
       "\u001b[1m Trainable params: \u001b[0m\u001b[38;5;34m8,983,381\u001b[0m (34.27 MB)\n"
      ]
     },
     "metadata": {},
     "output_type": "display_data"
    },
    {
     "data": {
      "text/html": [
       "<pre style=\"white-space:pre;overflow-x:auto;line-height:normal;font-family:Menlo,'DejaVu Sans Mono',consolas,'Courier New',monospace\"><span style=\"font-weight: bold\"> Non-trainable params: </span><span style=\"color: #00af00; text-decoration-color: #00af00\">11,921,128</span> (45.48 MB)\n",
       "</pre>\n"
      ],
      "text/plain": [
       "\u001b[1m Non-trainable params: \u001b[0m\u001b[38;5;34m11,921,128\u001b[0m (45.48 MB)\n"
      ]
     },
     "metadata": {},
     "output_type": "display_data"
    },
    {
     "name": "stdout",
     "output_type": "stream",
     "text": [
      "Epoch 1/20\n",
      "\u001b[1m207/207\u001b[0m \u001b[32m━━━━━━━━━━━━━━━━━━━━\u001b[0m\u001b[37m\u001b[0m \u001b[1m64s\u001b[0m 201ms/step - acc: 0.2269 - loss: 4.9234 - val_acc: 0.5167 - val_loss: 3.0600 - learning_rate: 1.0000e-04\n",
      "Epoch 2/20\n",
      "\u001b[1m207/207\u001b[0m \u001b[32m━━━━━━━━━━━━━━━━━━━━\u001b[0m\u001b[37m\u001b[0m \u001b[1m26s\u001b[0m 123ms/step - acc: 0.6277 - loss: 2.6258 - val_acc: 0.7159 - val_loss: 2.1564 - learning_rate: 1.0000e-04\n",
      "Epoch 3/20\n",
      "\u001b[1m207/207\u001b[0m \u001b[32m━━━━━━━━━━━━━━━━━━━━\u001b[0m\u001b[37m\u001b[0m \u001b[1m26s\u001b[0m 125ms/step - acc: 0.7713 - loss: 1.7705 - val_acc: 0.7704 - val_loss: 1.6716 - learning_rate: 1.0000e-04\n",
      "Epoch 4/20\n",
      "\u001b[1m207/207\u001b[0m \u001b[32m━━━━━━━━━━━━━━━━━━━━\u001b[0m\u001b[37m\u001b[0m \u001b[1m26s\u001b[0m 127ms/step - acc: 0.8419 - loss: 1.2737 - val_acc: 0.8092 - val_loss: 1.3339 - learning_rate: 1.0000e-04\n",
      "Epoch 5/20\n",
      "\u001b[1m207/207\u001b[0m \u001b[32m━━━━━━━━━━━━━━━━━━━━\u001b[0m\u001b[37m\u001b[0m \u001b[1m27s\u001b[0m 128ms/step - acc: 0.8935 - loss: 0.9374 - val_acc: 0.8292 - val_loss: 1.0957 - learning_rate: 1.0000e-04\n",
      "Epoch 6/20\n",
      "\u001b[1m207/207\u001b[0m \u001b[32m━━━━━━━━━━━━━━━━━━━━\u001b[0m\u001b[37m\u001b[0m \u001b[1m27s\u001b[0m 129ms/step - acc: 0.9259 - loss: 0.7064 - val_acc: 0.8419 - val_loss: 0.9425 - learning_rate: 1.0000e-04\n",
      "Epoch 7/20\n",
      "\u001b[1m207/207\u001b[0m \u001b[32m━━━━━━━━━━━━━━━━━━━━\u001b[0m\u001b[37m\u001b[0m \u001b[1m27s\u001b[0m 130ms/step - acc: 0.9538 - loss: 0.5485 - val_acc: 0.8516 - val_loss: 0.8314 - learning_rate: 1.0000e-04\n",
      "Epoch 8/20\n",
      "\u001b[1m207/207\u001b[0m \u001b[32m━━━━━━━━━━━━━━━━━━━━\u001b[0m\u001b[37m\u001b[0m \u001b[1m27s\u001b[0m 131ms/step - acc: 0.9656 - loss: 0.4368 - val_acc: 0.8546 - val_loss: 0.7587 - learning_rate: 1.0000e-04\n",
      "Epoch 9/20\n",
      "\u001b[1m207/207\u001b[0m \u001b[32m━━━━━━━━━━━━━━━━━━━━\u001b[0m\u001b[37m\u001b[0m \u001b[1m27s\u001b[0m 132ms/step - acc: 0.9792 - loss: 0.3459 - val_acc: 0.8583 - val_loss: 0.7218 - learning_rate: 1.0000e-04\n",
      "Epoch 10/20\n",
      "\u001b[1m207/207\u001b[0m \u001b[32m━━━━━━━━━━━━━━━━━━━━\u001b[0m\u001b[37m\u001b[0m \u001b[1m28s\u001b[0m 133ms/step - acc: 0.9862 - loss: 0.2907 - val_acc: 0.8558 - val_loss: 0.6978 - learning_rate: 1.0000e-04\n",
      "Epoch 11/20\n",
      "\u001b[1m207/207\u001b[0m \u001b[32m━━━━━━━━━━━━━━━━━━━━\u001b[0m\u001b[37m\u001b[0m \u001b[1m28s\u001b[0m 133ms/step - acc: 0.9877 - loss: 0.2528 - val_acc: 0.8661 - val_loss: 0.6514 - learning_rate: 1.0000e-04\n",
      "Epoch 12/20\n",
      "\u001b[1m207/207\u001b[0m \u001b[32m━━━━━━━━━━━━━━━━━━━━\u001b[0m\u001b[37m\u001b[0m \u001b[1m28s\u001b[0m 134ms/step - acc: 0.9938 - loss: 0.2340 - val_acc: 0.8631 - val_loss: 0.6506 - learning_rate: 1.0000e-04\n",
      "Epoch 13/20\n",
      "\u001b[1m207/207\u001b[0m \u001b[32m━━━━━━━━━━━━━━━━━━━━\u001b[0m\u001b[37m\u001b[0m \u001b[1m28s\u001b[0m 134ms/step - acc: 0.9963 - loss: 0.2119 - val_acc: 0.8649 - val_loss: 0.6471 - learning_rate: 1.0000e-04\n",
      "Epoch 14/20\n",
      "\u001b[1m207/207\u001b[0m \u001b[32m━━━━━━━━━━━━━━━━━━━━\u001b[0m\u001b[37m\u001b[0m \u001b[1m28s\u001b[0m 134ms/step - acc: 0.9959 - loss: 0.1944 - val_acc: 0.8631 - val_loss: 0.6460 - learning_rate: 1.0000e-04\n",
      "Epoch 15/20\n",
      "\u001b[1m207/207\u001b[0m \u001b[32m━━━━━━━━━━━━━━━━━━━━\u001b[0m\u001b[37m\u001b[0m \u001b[1m28s\u001b[0m 134ms/step - acc: 0.9974 - loss: 0.1824 - val_acc: 0.8589 - val_loss: 0.6377 - learning_rate: 1.0000e-04\n",
      "Epoch 16/20\n",
      "\u001b[1m207/207\u001b[0m \u001b[32m━━━━━━━━━━━━━━━━━━━━\u001b[0m\u001b[37m\u001b[0m \u001b[1m28s\u001b[0m 134ms/step - acc: 0.9970 - loss: 0.1700 - val_acc: 0.8643 - val_loss: 0.6316 - learning_rate: 1.0000e-04\n",
      "Epoch 17/20\n",
      "\u001b[1m207/207\u001b[0m \u001b[32m━━━━━━━━━━━━━━━━━━━━\u001b[0m\u001b[37m\u001b[0m \u001b[1m28s\u001b[0m 134ms/step - acc: 0.9981 - loss: 0.1634 - val_acc: 0.8619 - val_loss: 0.6256 - learning_rate: 1.0000e-04\n",
      "Epoch 18/20\n",
      "\u001b[1m207/207\u001b[0m \u001b[32m━━━━━━━━━━━━━━━━━━━━\u001b[0m\u001b[37m\u001b[0m \u001b[1m28s\u001b[0m 134ms/step - acc: 0.9974 - loss: 0.1567 - val_acc: 0.8601 - val_loss: 0.6215 - learning_rate: 1.0000e-04\n",
      "Epoch 19/20\n",
      "\u001b[1m207/207\u001b[0m \u001b[32m━━━━━━━━━━━━━━━━━━━━\u001b[0m\u001b[37m\u001b[0m \u001b[1m28s\u001b[0m 134ms/step - acc: 0.9991 - loss: 0.1444 - val_acc: 0.8589 - val_loss: 0.6393 - learning_rate: 1.0000e-04\n",
      "Epoch 20/20\n",
      "\u001b[1m207/207\u001b[0m \u001b[32m━━━━━━━━━━━━━━━━━━━━\u001b[0m\u001b[37m\u001b[0m \u001b[1m28s\u001b[0m 134ms/step - acc: 0.9982 - loss: 0.1434 - val_acc: 0.8577 - val_loss: 0.6121 - learning_rate: 1.0000e-04\n"
     ]
    }
   ],
   "source": [
    "## transfer learning example\n",
    "from tensorflow import keras\n",
    "from tensorflow.keras.callbacks import EarlyStopping, ReduceLROnPlateau\n",
    "import matplotlib.pyplot as plt\n",
    "\n",
    "# Load the pre-trained InceptionV3 model as the base model for transfer learning\n",
    "base_model = keras.applications.Xception(\n",
    "    weights=\"imagenet\",  # Use weights pre-trained on the ImageNet dataset.\n",
    "    input_shape=(180, 180, 3),  # Define the input shape expected by the base model.\n",
    "    include_top=False,  # Exclude the fully connected classifier layers at the top.\n",
    ")\n",
    "\n",
    "# Freeze the base model's layers to prevent them from being updated during training.\n",
    "base_model.trainable = True\n",
    "for layer in base_model.layers[:-30]:  # Keep first layers frozen\n",
    "    layer.trainable = False\n",
    "\n",
    "# Define the input for the new model\n",
    "inputs = keras.Input(shape=(180, 180, 3))  # Input layer for images.\n",
    "\n",
    "# Add a rescaling layer to preprocess the input images.\n",
    "# Pre-trained InceptionV3 requires input values to be scaled from (0, 255) to (-1, 1).\n",
    "scale_layer = keras.layers.Rescaling(scale=1 / 127.5, offset=-1)\n",
    "x = scale_layer(inputs)\n",
    "\n",
    "# Pass the rescaled input through the base model.\n",
    "x = base_model(x, training=False)\n",
    "\n",
    "# Apply global average pooling to reduce the spatial dimensions of the feature maps.\n",
    "x = keras.layers.GlobalAveragePooling2D()(x)\n",
    "\n",
    "# Add a dropout layer to prevent overfitting\n",
    "x = keras.layers.Dropout(0.2)(x)\n",
    "\n",
    "# Add a dense (fully connected) output layer with regularization\n",
    "outputs = keras.layers.Dense(21, activation=\"softmax\", kernel_regularizer=keras.regularizers.l2(0.05))(x)\n",
    "\n",
    "# Create the complete model\n",
    "model = keras.Model(inputs, outputs)\n",
    "\n",
    "# Display the model's architecture\n",
    "model.summary(show_trainable=True)\n",
    "\n",
    "# Callbacks for early stopping and learning rate reduction\n",
    "early_stopping = EarlyStopping(\n",
    "    monitor=\"val_loss\", \n",
    "    patience=5, \n",
    "    restore_best_weights=True\n",
    ")\n",
    "\n",
    "reduce_lr = ReduceLROnPlateau(\n",
    "    monitor=\"val_loss\",\n",
    "    factor=0.5,\n",
    "    patience=2,\n",
    "    min_lr=1e-6\n",
    ")\n",
    "\n",
    "callbacks = [\n",
    "    keras.callbacks.ModelCheckpoint(\"save_at_{epoch}.keras\"),\n",
    "    early_stopping,\n",
    "    reduce_lr\n",
    "]\n",
    "\n",
    "import tensorflow.keras.backend as K\n",
    "\n",
    "def focal_loss(alpha=0.25, gamma=2.0):\n",
    "    def loss(y_true, y_pred):\n",
    "        cross_entropy = K.binary_crossentropy(y_true, y_pred)\n",
    "        weight = alpha * K.pow((1 - y_pred), gamma)\n",
    "        return weight * cross_entropy\n",
    "    return loss\n",
    "\n",
    "# Compile the model\n",
    "from tensorflow.keras.optimizers import AdamW\n",
    "model.compile(\n",
    "    optimizer=AdamW(learning_rate=1e-4, weight_decay=1e-5), #changed\n",
    "    loss=keras.losses.SparseCategoricalCrossentropy(from_logits=False),\n",
    "    metrics=[keras.metrics.SparseCategoricalAccuracy(name=\"acc\")]\n",
    ")\n",
    "\n",
    "from sklearn.utils.class_weight import compute_class_weight\n",
    "import numpy as np\n",
    "\n",
    "class_weights = compute_class_weight(\n",
    "    class_weight=\"balanced\",\n",
    "    classes=np.unique(train_df['encoded_label']),\n",
    "    y=train_df['encoded_label']\n",
    ")\n",
    "\n",
    "class_weight_dict = dict(enumerate(class_weights))\n",
    "\n",
    "# Train the model\n",
    "history = model.fit(\n",
    "    train_ds,\n",
    "    epochs=20,\n",
    "    callbacks=callbacks,\n",
    "    validation_data=val_ds,\n",
    "    class_weight=class_weight_dict\n",
    ")"
   ]
  },
  {
   "cell_type": "code",
   "execution_count": 22,
   "id": "83a0a832",
   "metadata": {
    "execution": {
     "iopub.execute_input": "2025-03-23T03:59:49.813839Z",
     "iopub.status.busy": "2025-03-23T03:59:49.813492Z",
     "iopub.status.idle": "2025-03-23T03:59:50.360233Z",
     "shell.execute_reply": "2025-03-23T03:59:50.359356Z"
    },
    "papermill": {
     "duration": 0.748443,
     "end_time": "2025-03-23T03:59:50.361510",
     "exception": false,
     "start_time": "2025-03-23T03:59:49.613067",
     "status": "completed"
    },
    "tags": []
   },
   "outputs": [
    {
     "data": {
      "image/png": "[encoded data removed]",
      "text/plain": [
       "<Figure size 1200x500 with 2 Axes>"
      ]
     },
     "metadata": {},
     "output_type": "display_data"
    }
   ],
   "source": [
    "#### plotting training & validation loss\n",
    "plt.figure(figsize=(12, 5))\n",
    "\n",
    "# Loss plot\n",
    "plt.subplot(1, 2, 1)\n",
    "plt.plot(history.history['loss'], label='Train Loss')\n",
    "plt.plot(history.history['val_loss'], label='Val Loss')\n",
    "plt.xlabel('Epochs')\n",
    "plt.ylabel('Loss')\n",
    "plt.title('Training & Validation Loss')\n",
    "plt.legend()\n",
    "\n",
    "# Accuracy plot\n",
    "plt.subplot(1, 2, 2)\n",
    "plt.plot(history.history['acc'], label='Train Accuracy')\n",
    "plt.plot(history.history['val_acc'], label='Val Accuracy')\n",
    "plt.xlabel('Epochs')\n",
    "plt.ylabel('Accuracy')\n",
    "plt.title('Training & Validation Accuracy')\n",
    "plt.legend()\n",
    "\n",
    "plt.show()"
   ]
  },
  {
   "cell_type": "code",
   "execution_count": 23,
   "id": "9a391323",
   "metadata": {
    "execution": {
     "iopub.execute_input": "2025-03-23T03:59:50.810343Z",
     "iopub.status.busy": "2025-03-23T03:59:50.809901Z",
     "iopub.status.idle": "2025-03-23T04:00:00.455474Z",
     "shell.execute_reply": "2025-03-23T04:00:00.454470Z"
    },
    "papermill": {
     "duration": 9.850419,
     "end_time": "2025-03-23T04:00:00.456910",
     "exception": false,
     "start_time": "2025-03-23T03:59:50.606491",
     "status": "completed"
    },
    "tags": []
   },
   "outputs": [
    {
     "name": "stdout",
     "output_type": "stream",
     "text": [
      "\u001b[1m39/39\u001b[0m \u001b[32m━━━━━━━━━━━━━━━━━━━━\u001b[0m\u001b[37m\u001b[0m \u001b[1m10s\u001b[0m 194ms/step\n",
      "<bound method NDFrame.head of                                md5hash                    label\n",
      "0     000e8dd5ee75dd6668e978e7a4e6fe54             folliculitis\n",
      "1     0097275da3cb707415d13d2c59cf8c8c          dermatomyositis\n",
      "2     009c75339a21bb84a6425be6a95938d6        mycosis-fungoides\n",
      "3     016abe4884715af85cd3f309f93b9641  squamous-cell-carcinoma\n",
      "4     018504389f4fa566232eb6e3ff838cb8  squamous-cell-carcinoma\n",
      "...                                ...                      ...\n",
      "1222  fe0d0f2a52c0dd67cdeef523867e4a0b  squamous-cell-carcinoma\n",
      "1223  feb23b8d752fc437b2dc3c9816c647ac          dermatomyositis\n",
      "1224  fedcb4729515d8c9a11d2dbe88576773        mycosis-fungoides\n",
      "1225  ff02c1d8ed5d771bd450877d2d1658ce       dyshidrotic-eczema\n",
      "1226  ffd2a9f7fe88af2fc987ddb7a06c9069           kaposi-sarcoma\n",
      "\n",
      "[1227 rows x 2 columns]>\n"
     ]
    }
   ],
   "source": [
    "# # evaluating performance on test dataset\n",
    "\n",
    "preds = model.predict(test_dataset, verbose=\"auto\", steps=None, callbacks=None)\n",
    "\n",
    "pred_class = np.argmax(preds, axis=1)\n",
    "\n",
    "# print(pred_class[0:10])\n",
    "\n",
    "# getting label -> integer label mapping from training data\n",
    "\n",
    "class_names = train_ds.class_names  # Get class names in order\n",
    "label_mapping = {idx: name for idx, name in enumerate(class_names)}  # Map name to index\n",
    "# print(\"labels: \", label_mapping)\n",
    "# now creating CSV with <hash>, <string label>\n",
    "file_paths = test_dataset.file_paths\n",
    "filenames = [os.path.splitext(os.path.basename(fp))[0] for fp in file_paths]\n",
    "# print(filenames[0:10])\n",
    "results = []\n",
    "\n",
    "for i in range(len(filenames)):\n",
    "    results.append({\"md5hash\": filenames[i], \"label\": label_mapping[pred_class[i]]})\n",
    "\n",
    "results = pd.DataFrame(results)\n",
    "\n",
    "print(results.head)\n",
    "\n",
    "results.to_csv('submission.csv', index=False)  "
   ]
  },
  {
   "cell_type": "markdown",
   "id": "984189f9",
   "metadata": {
    "execution": {
     "iopub.status.busy": "2025-02-16T11:54:54.931645Z",
     "iopub.status.idle": "2025-02-16T11:54:54.931964Z",
     "shell.execute_reply": "2025-02-16T11:54:54.931843Z"
    },
    "papermill": {
     "duration": 0.202721,
     "end_time": "2025-03-23T04:00:00.864782",
     "exception": false,
     "start_time": "2025-03-23T04:00:00.662061",
     "status": "completed"
    },
    "tags": []
   },
   "source": [
    "## DO NOT USE -- Second model version with manual image conversion"
   ]
  },
  {
   "cell_type": "code",
   "execution_count": 24,
   "id": "51abf61b",
   "metadata": {
    "execution": {
     "iopub.execute_input": "2025-03-23T04:00:01.271963Z",
     "iopub.status.busy": "2025-03-23T04:00:01.271615Z",
     "iopub.status.idle": "2025-03-23T04:00:01.275834Z",
     "shell.execute_reply": "2025-03-23T04:00:01.274864Z"
    },
    "papermill": {
     "duration": 0.209292,
     "end_time": "2025-03-23T04:00:01.277273",
     "exception": false,
     "start_time": "2025-03-23T04:00:01.067981",
     "status": "completed"
    },
    "tags": []
   },
   "outputs": [],
   "source": [
    "# # preprocessing\n",
    "\n",
    "# \"\"\"\n",
    "# Steps here:\n",
    "# - iterate through all images in all of the directories of train\n",
    "# - convert them to an array and add it to a dataframe with the ID being the hashcode\n",
    "# - add this column to the original dataframe, matched by ID\n",
    "\n",
    "# --> current version reduces image size significantly, which i think is fine for now\n",
    "# --> i think maybe it's best to try the original model but with this dataset? alternatively choosing maybe relu instaed \n",
    "# of sigmoid in final step to choose exactly one label? or just choose the one with the highest prob from sigmoid\n",
    "\n",
    "# --> SHAPE ON MODEL.FIT MIGHT NOT BE RIGHT BC EXPECTING ONE_HOT ENCODED LABELS \n",
    "# \"\"\"\n",
    "\n",
    "# width = 180\n",
    "# height = 180\n",
    "# X = []\n",
    "# X_filenames = []\n",
    "\n",
    "# # (folder name, list of directories, list of files)\n",
    "\n",
    "# dircs = [i for i in os.walk(train_dir)]\n",
    "# # print(dircs)\n",
    "# for i in range(1, len(dircs)):\n",
    "#     folder_path = dircs[i][0]\n",
    "#     for j in range(len(dircs[i][2])):\n",
    "#         path = folder_path + \"/\" + dircs[i][2][j]; # Construct the file path for the current image using the `Id` column from the DataFrame.\n",
    "#         # print(path)\n",
    "#         img = image.load_img(path, target_size=(width, height, 3))\n",
    "#         # Load the image file from the constructed path.\n",
    "#         # Resize the image to the target dimensions (180x180) with 3 channels (RGB).\n",
    "        \n",
    "#         img = image.img_to_array(img)\n",
    "#         # Convert the loaded image into a NumPy array for numerical processing.\n",
    "        \n",
    "#         img = img / 255.0\n",
    "#         # Normalize the pixel values to the range [0, 1] by dividing by 255.0.\n",
    "#         # This is a common preprocessing step for deep learning models to improve training stability.\n",
    "        \n",
    "#         X.append(img)\n",
    "#         X_filenames.append(dircs[i][2][j])\n",
    "        \n",
    "#         # Append the processed image array to the list `X`.\n",
    "\n",
    "        \n",
    "# X = np.array(X)\n",
    "# X_filenames = np.array(X_filenames)\n",
    "# # Convert the list of processed images into a NumPy array.\n",
    "# # This ensures the data is in a format suitable for input to a deep learning model."
   ]
  },
  {
   "cell_type": "code",
   "execution_count": 25,
   "id": "5518be08",
   "metadata": {
    "execution": {
     "iopub.execute_input": "2025-03-23T04:00:01.722476Z",
     "iopub.status.busy": "2025-03-23T04:00:01.722000Z",
     "iopub.status.idle": "2025-03-23T04:00:01.725456Z",
     "shell.execute_reply": "2025-03-23T04:00:01.724792Z"
    },
    "papermill": {
     "duration": 0.206354,
     "end_time": "2025-03-23T04:00:01.726805",
     "exception": false,
     "start_time": "2025-03-23T04:00:01.520451",
     "status": "completed"
    },
    "tags": []
   },
   "outputs": [],
   "source": [
    "# # building a dataset in the form (input, labels)\n",
    "\n",
    "# # first column is second column of X\n",
    "# # second column is train_df['labels'] but in the correct order\n",
    "\n",
    "# # print(X_filenames[0:10])\n",
    "\n",
    "# inputs = [] \n",
    "\n",
    "# for i in train_df['md5hash']:\n",
    "#     idx = np.where(X_filenames == i) # getting the index of the correct image\n",
    "#     # print(\"label: \", i, \" and index: \", idx)\n",
    "#     img = X[idx] # actual image array\n",
    "#     inputs.append(img)\n",
    "\n",
    "# inputs = np.array(inputs)\n",
    "\n",
    "# # create a tf.data.Dataset to feet into model.fit()\n",
    "# X_train,X_test,y_train,y_test=train_test_split(inputs, train_df['label'],test_size=0.2)\n",
    "# train_data = tf_data.Dataset.from_tensor_slices((X_train, y_train))\n",
    "# val_data = tf_data.Dataset.from_tensor_slices((X_test, y_test))"
   ]
  },
  {
   "cell_type": "code",
   "execution_count": 26,
   "id": "a645bc3c",
   "metadata": {
    "execution": {
     "iopub.execute_input": "2025-03-23T04:00:02.128374Z",
     "iopub.status.busy": "2025-03-23T04:00:02.128084Z",
     "iopub.status.idle": "2025-03-23T04:00:02.131837Z",
     "shell.execute_reply": "2025-03-23T04:00:02.131076Z"
    },
    "papermill": {
     "duration": 0.205243,
     "end_time": "2025-03-23T04:00:02.133161",
     "exception": false,
     "start_time": "2025-03-23T04:00:01.927918",
     "status": "completed"
    },
    "tags": []
   },
   "outputs": [],
   "source": [
    "# # building model\n",
    "\n",
    "# # Initialize a Sequential model, which allows layers to be added one after another.\n",
    "# model = Sequential()\n",
    "\n",
    "# # Add an Input layer, specifying the shape of a single training example (e.g., an image).\n",
    "# # model.add(keras.Input(shape=X_train[0].shape))\n",
    "# inp_shape = image_size + (3,)\n",
    "# model.add(keras.Input(shape=inp_shape))\n",
    "\n",
    "# # Add the first convolutional layer with 16 filters, a 3x3 kernel, and ReLU activation.\n",
    "# model.add(Conv2D(16, kernel_size=(3, 3), activation='relu'))\n",
    "# # This layer detects basic features like edges and corners in the input image.\n",
    "\n",
    "# # Add a Batch Normalization layer to normalize the output of the Conv2D layer.\n",
    "# model.add(BatchNormalization())\n",
    "# # This stabilizes and accelerates training by reducing internal covariate shift.\n",
    "\n",
    "# # Add a MaxPooling layer to reduce spatial dimensions by taking the maximum value in 2x2 regions.\n",
    "# model.add(MaxPool2D(2, 2))\n",
    "# # This reduces computational complexity and focuses on the most prominent features.\n",
    "\n",
    "# # Add a Dropout layer to randomly drop 30% of neurons during training.\n",
    "# model.add(Dropout(0.3))\n",
    "# # This helps prevent overfitting by reducing reliance on specific neurons.\n",
    "\n",
    "# # Add the second convolutional block (Conv2D -> BatchNormalization -> MaxPooling -> Dropout).\n",
    "# model.add(Conv2D(32, kernel_size=(3, 3), activation='relu'))\n",
    "# # Increase the number of filters to 32 for detecting more complex features.\n",
    "# model.add(BatchNormalization())\n",
    "# model.add(MaxPool2D(2, 2))\n",
    "# model.add(Dropout(0.3))\n",
    "\n",
    "# # Add the third convolutional block with 64 filters.\n",
    "# model.add(Conv2D(64, kernel_size=(3, 3), activation='relu'))\n",
    "# # Further increases the number of filters to detect even more complex patterns.\n",
    "# model.add(BatchNormalization())\n",
    "# model.add(MaxPool2D(2, 2))\n",
    "# model.add(Dropout(0.4))  # Increase dropout rate to 40% to further reduce overfitting risk.\n",
    "\n",
    "# # Flatten the output of the previous layer to convert the 3D feature maps into a 1D vector.\n",
    "# model.add(Flatten())\n",
    "# # This prepares the data for input into dense (fully connected) layers.\n",
    "\n",
    "# # Add a Dense (fully connected) layer with 128 neurons and ReLU activation.\n",
    "# model.add(Dense(128, activation='relu'))\n",
    "# # This layer learns high-level combinations of the features extracted by the Conv2D layers.\n",
    "# model.add(BatchNormalization())  # Normalize the output to stabilize training.\n",
    "# model.add(Dropout(0.5))  # Apply a 50% dropout rate for strong regularization.\n",
    "\n",
    "# # Add the final Dense layer with 25 neurons and sigmoid activation.\n",
    "# model.add(Dense(25, activation='sigmoid'))\n",
    "# # The output layer has 25 neurons, each representing a class in a multi-label classification problem.\n",
    "# # Sigmoid activation is used to output probabilities for each class, as multiple classes can be \"on.\"\n",
    "\n",
    "# # The model is now ready to be compiled and trained."
   ]
  },
  {
   "cell_type": "code",
   "execution_count": 27,
   "id": "238e2633",
   "metadata": {
    "execution": {
     "iopub.execute_input": "2025-03-23T04:00:02.535579Z",
     "iopub.status.busy": "2025-03-23T04:00:02.535290Z",
     "iopub.status.idle": "2025-03-23T04:00:02.538377Z",
     "shell.execute_reply": "2025-03-23T04:00:02.537743Z"
    },
    "papermill": {
     "duration": 0.204461,
     "end_time": "2025-03-23T04:00:02.539568",
     "exception": false,
     "start_time": "2025-03-23T04:00:02.335107",
     "status": "completed"
    },
    "tags": []
   },
   "outputs": [],
   "source": [
    "# # for first version\n",
    "\n",
    "# model.compile(optimizer='adam',loss= keras.losses.SparseCategoricalCrossentropy(\n",
    "#         from_logits=True,\n",
    "#         ignore_class=None,\n",
    "#         reduction=\"sum_over_batch_size\",\n",
    "#         name=\"sparse_categorical_crossentropy\",\n",
    "#         dtype=None,\n",
    "#     ),metrics=['accuracy'])\n",
    "\n",
    "# history = model.fit(train_data,epochs=5,validation_data=val_data)"
   ]
  },
  {
   "cell_type": "code",
   "execution_count": 28,
   "id": "e5ceebba",
   "metadata": {
    "execution": {
     "iopub.execute_input": "2025-03-23T04:00:02.946047Z",
     "iopub.status.busy": "2025-03-23T04:00:02.945556Z",
     "iopub.status.idle": "2025-03-23T04:00:02.948878Z",
     "shell.execute_reply": "2025-03-23T04:00:02.948191Z"
    },
    "papermill": {
     "duration": 0.207864,
     "end_time": "2025-03-23T04:00:02.950029",
     "exception": false,
     "start_time": "2025-03-23T04:00:02.742165",
     "status": "completed"
    },
    "tags": []
   },
   "outputs": [],
   "source": [
    "# score = model.evaluate(X_test, y_test, verbose = 0 )\n",
    "# print(\"Test Score: \", score[0])\n",
    "# print(\"Test accuracy: \", score[1])"
   ]
  },
  {
   "cell_type": "markdown",
   "id": "23ce4b55",
   "metadata": {
    "papermill": {
     "duration": 0.20247,
     "end_time": "2025-03-23T04:00:03.393927",
     "exception": false,
     "start_time": "2025-03-23T04:00:03.191457",
     "status": "completed"
    },
    "tags": []
   },
   "source": [
    "## 4. Build the model\n"
   ]
  },
  {
   "cell_type": "code",
   "execution_count": 29,
   "id": "f28043ac",
   "metadata": {
    "execution": {
     "iopub.execute_input": "2025-03-23T04:00:03.801850Z",
     "iopub.status.busy": "2025-03-23T04:00:03.801390Z",
     "iopub.status.idle": "2025-03-23T04:00:03.804790Z",
     "shell.execute_reply": "2025-03-23T04:00:03.804060Z"
    },
    "papermill": {
     "duration": 0.209398,
     "end_time": "2025-03-23T04:00:03.806050",
     "exception": false,
     "start_time": "2025-03-23T04:00:03.596652",
     "status": "completed"
    },
    "tags": []
   },
   "outputs": [],
   "source": [
    "# TODO: You should implement the model architecture here.\n",
    "# Feel free to explore different model types that best serve your purpose."
   ]
  },
  {
   "cell_type": "markdown",
   "id": "0a72af06",
   "metadata": {
    "papermill": {
     "duration": 0.205282,
     "end_time": "2025-03-23T04:00:04.214597",
     "exception": false,
     "start_time": "2025-03-23T04:00:04.009315",
     "status": "completed"
    },
    "tags": []
   },
   "source": [
    "## 5. Train the Model\n"
   ]
  },
  {
   "cell_type": "code",
   "execution_count": 30,
   "id": "8e684364",
   "metadata": {
    "execution": {
     "iopub.execute_input": "2025-03-23T04:00:04.681909Z",
     "iopub.status.busy": "2025-03-23T04:00:04.681542Z",
     "iopub.status.idle": "2025-03-23T04:00:04.684641Z",
     "shell.execute_reply": "2025-03-23T04:00:04.683996Z"
    },
    "papermill": {
     "duration": 0.206888,
     "end_time": "2025-03-23T04:00:04.685856",
     "exception": false,
     "start_time": "2025-03-23T04:00:04.478968",
     "status": "completed"
    },
    "tags": []
   },
   "outputs": [],
   "source": [
    "# TODO: Train your model here. "
   ]
  },
  {
   "cell_type": "markdown",
   "id": "4eb19bd9",
   "metadata": {
    "papermill": {
     "duration": 0.199537,
     "end_time": "2025-03-23T04:00:05.088974",
     "exception": false,
     "start_time": "2025-03-23T04:00:04.889437",
     "status": "completed"
    },
    "tags": []
   },
   "source": [
    "## 6. Make Predictions on Test Data"
   ]
  },
  {
   "cell_type": "code",
   "execution_count": 31,
   "id": "457945b6",
   "metadata": {
    "execution": {
     "iopub.execute_input": "2025-03-23T04:00:05.533781Z",
     "iopub.status.busy": "2025-03-23T04:00:05.533441Z",
     "iopub.status.idle": "2025-03-23T04:00:05.537239Z",
     "shell.execute_reply": "2025-03-23T04:00:05.536194Z"
    },
    "papermill": {
     "duration": 0.248741,
     "end_time": "2025-03-23T04:00:05.538666",
     "exception": false,
     "start_time": "2025-03-23T04:00:05.289925",
     "status": "completed"
    },
    "tags": []
   },
   "outputs": [],
   "source": [
    "# # 6. Make Predictions on Test Data\n",
    "# # def preprocess_test_data(test_df, directory):\n",
    "# \"\"\"\n",
    "# Template for loading and preprocessing test images.\n",
    "# \"\"\"\n",
    "# # TODO: create a generator for the test set here.\n",
    "# # test_datagen = ImageDataGenerator(rescale=1./255)\n",
    "# # test_generator = test_datagen.flow_from_dataframe(\n",
    "# #     .... ## set the test_generator here \n",
    "# # )\n",
    "# # return test_generator\n"
   ]
  },
  {
   "cell_type": "code",
   "execution_count": 32,
   "id": "43faeb91",
   "metadata": {
    "execution": {
     "iopub.execute_input": "2025-03-23T04:00:05.945649Z",
     "iopub.status.busy": "2025-03-23T04:00:05.945355Z",
     "iopub.status.idle": "2025-03-23T04:00:05.948312Z",
     "shell.execute_reply": "2025-03-23T04:00:05.947674Z"
    },
    "papermill": {
     "duration": 0.205098,
     "end_time": "2025-03-23T04:00:05.949534",
     "exception": false,
     "start_time": "2025-03-23T04:00:05.744436",
     "status": "completed"
    },
    "tags": []
   },
   "outputs": [],
   "source": [
    "# # Load test data\n",
    "# test_dir = '/kaggle/input/bttai-ajl-2025/test/test/'\n",
    "# # test_generator = preprocess_test_data(test_df, test_dir)"
   ]
  },
  {
   "cell_type": "markdown",
   "id": "de8c6c42",
   "metadata": {
    "papermill": {
     "duration": 0.201885,
     "end_time": "2025-03-23T04:00:06.352352",
     "exception": false,
     "start_time": "2025-03-23T04:00:06.150467",
     "status": "completed"
    },
    "tags": []
   },
   "source": [
    "## 7. Generate Predictions"
   ]
  },
  {
   "cell_type": "code",
   "execution_count": 33,
   "id": "09dafa52",
   "metadata": {
    "execution": {
     "iopub.execute_input": "2025-03-23T04:00:06.754918Z",
     "iopub.status.busy": "2025-03-23T04:00:06.754570Z",
     "iopub.status.idle": "2025-03-23T04:00:06.757807Z",
     "shell.execute_reply": "2025-03-23T04:00:06.757090Z"
    },
    "papermill": {
     "duration": 0.204619,
     "end_time": "2025-03-23T04:00:06.758984",
     "exception": false,
     "start_time": "2025-03-23T04:00:06.554365",
     "status": "completed"
    },
    "tags": []
   },
   "outputs": [],
   "source": [
    "# TODO\n",
    "# Generate predictions based on the trained model\n",
    "# Then, save the predictions into a CSV file for submission"
   ]
  },
  {
   "cell_type": "code",
   "execution_count": null,
   "id": "b566f537",
   "metadata": {
    "papermill": {
     "duration": 0.198965,
     "end_time": "2025-03-23T04:00:07.203149",
     "exception": false,
     "start_time": "2025-03-23T04:00:07.004184",
     "status": "completed"
    },
    "tags": []
   },
   "outputs": [],
   "source": []
  }
 ],
 "metadata": {
  "kaggle": {
   "accelerator": "nvidiaTeslaT4",
   "dataSources": [
    {
     "databundleVersionId": 10898385,
     "sourceId": 90489,
     "sourceType": "competition"
    }
   ],
   "dockerImageVersionId": 30840,
   "isGpuEnabled": true,
   "isInternetEnabled": true,
   "language": "python",
   "sourceType": "notebook"
  },
  "kernelspec": {
   "display_name": "Python 3",
   "language": "python",
   "name": "python3"
  },
  "language_info": {
   "codemirror_mode": {
    "name": "ipython",
    "version": 3
   },
   "file_extension": ".py",
   "mimetype": "text/x-python",
   "name": "python",
   "nbconvert_exporter": "python",
   "pygments_lexer": "ipython3",
   "version": "3.10.12"
  },
  "papermill": {
   "default_parameters": {},
   "duration": 689.812944,
   "end_time": "2025-03-23T04:00:10.925397",
   "environment_variables": {},
   "exception": null,
   "input_path": "__notebook__.ipynb",
   "output_path": "__notebook__.ipynb",
   "parameters": {},
   "start_time": "2025-03-23T03:48:41.112453",
   "version": "2.6.0"
  }
 },
 "nbformat": 4,
 "nbformat_minor": 5
}
