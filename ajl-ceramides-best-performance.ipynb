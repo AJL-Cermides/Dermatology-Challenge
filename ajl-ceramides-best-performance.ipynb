{
 "cells": [
  {
   "cell_type": "code",
   "execution_count": 1,
   "id": "c1a25d32",
   "metadata": {
    "_cell_guid": "b1076dfc-b9ad-4769-8c92-a6c4dae69d19",
    "_uuid": "8f2839f25d086af736a60e9eeb907d3b93b6e0e5",
    "execution": {
     "iopub.execute_input": "2025-02-26T23:59:56.964735Z",
     "iopub.status.busy": "2025-02-26T23:59:56.964398Z",
     "iopub.status.idle": "2025-02-26T23:59:58.565345Z",
     "shell.execute_reply": "2025-02-26T23:59:58.564698Z"
    },
    "papermill": {
     "duration": 1.612048,
     "end_time": "2025-02-26T23:59:58.566962",
     "exception": false,
     "start_time": "2025-02-26T23:59:56.954914",
     "status": "completed"
    },
    "tags": []
   },
   "outputs": [],
   "source": [
    "# This Python 3 environment comes with many helpful analytics libraries installed\n",
    "# It is defined by the kaggle/python Docker image: https://github.com/kaggle/docker-python\n",
    "# For example, here's several helpful packages to load\n",
    "\n",
    "import numpy as np # linear algebra\n",
    "import pandas as pd # data processing, CSV file I/O (e.g. pd.read_csv)\n",
    "\n",
    "# Input data files are available in the read-only \"../input/\" directory\n",
    "# For example, running this (by clicking run or pressing Shift+Enter) will list all files under the input directory\n",
    "\n",
    "import os\n",
    "# for dirname, _, filenames in os.walk('/kaggle/input'):\n",
    "#     for filename in filenames:\n",
    "#         print(os.path.join(dirname, filename))\n",
    "\n",
    "# You can write up to 20GB to the current directory (/kaggle/working/) that gets preserved as output when you create a version using \"Save & Run All\" \n",
    "# You can also write temporary files to /kaggle/temp/, but they won't be saved outside of the current session"
   ]
  },
  {
   "cell_type": "markdown",
   "id": "26d07d12",
   "metadata": {
    "papermill": {
     "duration": 0.007215,
     "end_time": "2025-02-26T23:59:58.582240",
     "exception": false,
     "start_time": "2025-02-26T23:59:58.575025",
     "status": "completed"
    },
    "tags": []
   },
   "source": [
    "# A Simple Starter Code for the AJL Competition\n",
    "\n",
    "@Cindy Deng\n",
    "\n",
    "---\n",
    "\n",
    "\n",
    "Hi! This starter code is designed to help you get familiar with basic Kaggle operations and guide you through the basic workflow of a machine learning project. \n",
    "\n",
    "The code outlines essential steps including data loading, preprocessing, model building, training, and generating predictions. Each section serves as a foundation, but there are many ways to enhance each step to improve your final model's accuracy. Feel free to experiment with different data augmentation techniques, model architectures, and tuning methods to optimize your final results! Some amazing tutorials are available through your AI Studio course in Canvas / in the 'Resource' section of this Kaggle competition.\n",
    "\n",
    "Good luck and have fun!\n",
    "\n",
    "---"
   ]
  },
  {
   "cell_type": "markdown",
   "id": "3a9b5968",
   "metadata": {
    "papermill": {
     "duration": 0.006152,
     "end_time": "2025-02-26T23:59:58.594920",
     "exception": false,
     "start_time": "2025-02-26T23:59:58.588768",
     "status": "completed"
    },
    "tags": []
   },
   "source": [
    "## Note - About file path\n",
    "\n",
    "You could use the cell above to print the names of the file directories and get the following directories:\n",
    "\n",
    "```\n",
    "/kaggle/input/bttai-ajl-2025/sample_submission.csv\n",
    "/kaggle/input/bttai-ajl-2025/train.csv\n",
    "/kaggle/input/bttai-ajl-2025/test.csv\n",
    "/kaggle/input/bttai-ajl-2025/test/test/e0374ae6c1362ff183cfba28ded5421b.jpg\n",
    "/kaggle/input/bttai-ajl-2025/test/test/437159c605260bdd079af230566af291.jpg\n",
    "...\n",
    "...\n",
    "/kaggle/input/bttai-ajl-2025/train/train/dermatomyositis/11271bdf2598afdd4260db3125e1f6a5.jpg\n",
    "/kaggle/input/bttai-ajl-2025/train/train/dermatomyositis/732819951dcf2b53d15ea7b8bb123b71.jpg\n",
    "/kaggle/input/bttai-ajl-2025/train/train/dermatomyositis/6dcc7a8abb5e1c6e670101f4b6231246.jpg\n",
    "/kaggle/input/bttai-ajl-2025/train/train/dermatomyositis/e63c3b3f0ab8905e204fe467cc7411f9.jpg\n",
    "...\n",
    "...\n",
    "```\n",
    "\n"
   ]
  },
  {
   "cell_type": "markdown",
   "id": "0539fe3d",
   "metadata": {
    "papermill": {
     "duration": 0.006651,
     "end_time": "2025-02-26T23:59:58.608046",
     "exception": false,
     "start_time": "2025-02-26T23:59:58.601395",
     "status": "completed"
    },
    "tags": []
   },
   "source": [
    "## 1. Import Necessary Libraries"
   ]
  },
  {
   "cell_type": "code",
   "execution_count": 2,
   "id": "d049c416",
   "metadata": {
    "execution": {
     "iopub.execute_input": "2025-02-26T23:59:58.622363Z",
     "iopub.status.busy": "2025-02-26T23:59:58.621972Z",
     "iopub.status.idle": "2025-02-27T00:00:20.363445Z",
     "shell.execute_reply": "2025-02-27T00:00:20.362497Z"
    },
    "papermill": {
     "duration": 21.750489,
     "end_time": "2025-02-27T00:00:20.365068",
     "exception": false,
     "start_time": "2025-02-26T23:59:58.614579",
     "status": "completed"
    },
    "tags": []
   },
   "outputs": [],
   "source": [
    "# 1. Import Necessary Libraries\n",
    "import pandas as pd\n",
    "import numpy as np\n",
    "import os\n",
    "from sklearn.model_selection import train_test_split\n",
    "from sklearn.preprocessing import LabelEncoder\n",
    "from tensorflow.keras.preprocessing.image import ImageDataGenerator\n",
    "from tensorflow.keras.models import Sequential\n",
    "from tensorflow.keras.layers import Conv2D, MaxPooling2D, Flatten, Dense, Dropout\n",
    "from tensorflow.keras.callbacks import EarlyStopping\n",
    "\n",
    "# Explanation:\n",
    "# - pandas and numpy: for data manipulation\n",
    "# - sklearn: for splitting data and encoding labels\n",
    "# - tensorflow.keras: for building and training the neural network"
   ]
  },
  {
   "cell_type": "markdown",
   "id": "5f8134b9",
   "metadata": {
    "papermill": {
     "duration": 0.006378,
     "end_time": "2025-02-27T00:00:20.378497",
     "exception": false,
     "start_time": "2025-02-27T00:00:20.372119",
     "status": "completed"
    },
    "tags": []
   },
   "source": [
    "## 2. Load Data\n",
    "\n",
    "Make sure to verify the file paths if you're running on a different platform."
   ]
  },
  {
   "cell_type": "code",
   "execution_count": 3,
   "id": "99e4ccf8",
   "metadata": {
    "execution": {
     "iopub.execute_input": "2025-02-27T00:00:20.392570Z",
     "iopub.status.busy": "2025-02-27T00:00:20.392090Z",
     "iopub.status.idle": "2025-02-27T00:00:20.444215Z",
     "shell.execute_reply": "2025-02-27T00:00:20.443374Z"
    },
    "papermill": {
     "duration": 0.060615,
     "end_time": "2025-02-27T00:00:20.445599",
     "exception": false,
     "start_time": "2025-02-27T00:00:20.384984",
     "status": "completed"
    },
    "tags": []
   },
   "outputs": [],
   "source": [
    "# 2. Load Data\n",
    "train_df = pd.read_csv('/kaggle/input/bttai-ajl-2025/train.csv')\n",
    "test_df = pd.read_csv('/kaggle/input/bttai-ajl-2025/test.csv')\n",
    "\n",
    "# Add .jpg extension to md5hash column to reference the file_name\n",
    "train_df['md5hash'] = train_df['md5hash'].astype(str) + '.jpg'\n",
    "test_df['md5hash'] = test_df['md5hash'].astype(str) + '.jpg'\n",
    "\n",
    "# Combine label and md5hash to form the  correct path\n",
    "train_df['file_path'] = train_df['label'] + '/' + train_df['md5hash']"
   ]
  },
  {
   "cell_type": "code",
   "execution_count": 4,
   "id": "5e94b5a7",
   "metadata": {
    "execution": {
     "iopub.execute_input": "2025-02-27T00:00:20.459910Z",
     "iopub.status.busy": "2025-02-27T00:00:20.459660Z",
     "iopub.status.idle": "2025-02-27T00:00:20.474384Z",
     "shell.execute_reply": "2025-02-27T00:00:20.473451Z"
    },
    "papermill": {
     "duration": 0.023296,
     "end_time": "2025-02-27T00:00:20.475729",
     "exception": false,
     "start_time": "2025-02-27T00:00:20.452433",
     "status": "completed"
    },
    "tags": []
   },
   "outputs": [
    {
     "name": "stdout",
     "output_type": "stream",
     "text": [
      "                                md5hash  fitzpatrick_scale  \\\n",
      "0  fd06d13de341cc75ad679916c5d7e6a6.jpg                  4   \n",
      "1  a4bb4e5206c4e89a303f470576fc5253.jpg                  1   \n",
      "2  c94ce27e389f96bda998e7c3fa5c4a2e.jpg                  5   \n",
      "3  ebcf2b50dd943c700d4e2b586fcd4425.jpg                  3   \n",
      "4  c77d6c895f05fea73a8f3704307036c0.jpg                  1   \n",
      "\n",
      "   fitzpatrick_centaur                             label nine_partition_label  \\\n",
      "0                    4                 prurigo-nodularis     benign-epidermal   \n",
      "1                    1  basal-cell-carcinoma-morpheiform  malignant-epidermal   \n",
      "2                    5                            keloid         inflammatory   \n",
      "3                    3              basal-cell-carcinoma  malignant-epidermal   \n",
      "4                    1                 prurigo-nodularis     benign-epidermal   \n",
      "\n",
      "  three_partition_label            qc  ddi_scale  \\\n",
      "0                benign           NaN         34   \n",
      "1             malignant           NaN         12   \n",
      "2        non-neoplastic  1 Diagnostic         56   \n",
      "3             malignant           NaN         34   \n",
      "4                benign           NaN         12   \n",
      "\n",
      "                                           file_path  \n",
      "0  prurigo-nodularis/fd06d13de341cc75ad679916c5d7...  \n",
      "1  basal-cell-carcinoma-morpheiform/a4bb4e5206c4e...  \n",
      "2        keloid/c94ce27e389f96bda998e7c3fa5c4a2e.jpg  \n",
      "3  basal-cell-carcinoma/ebcf2b50dd943c700d4e2b586...  \n",
      "4  prurigo-nodularis/c77d6c895f05fea73a8f37043070...  \n"
     ]
    }
   ],
   "source": [
    "# Check the first few rows to understand the structure\n",
    "print(train_df.head())"
   ]
  },
  {
   "cell_type": "markdown",
   "id": "88472711",
   "metadata": {
    "papermill": {
     "duration": 0.006533,
     "end_time": "2025-02-27T00:00:20.488969",
     "exception": false,
     "start_time": "2025-02-27T00:00:20.482436",
     "status": "completed"
    },
    "tags": []
   },
   "source": [
    "## 3. Data Preprocessing\n",
    "\n",
    "\n",
    "This section demonstrates basic preprocessing techniques. To enhance data quality and model performance, consider incorporating more advanced preprocessing methods.\n",
    "\n",
    "For further guidance, feel free to take a look at the [Image Preprocessing tutorial](https://colab.research.google.com/drive/1-ItNcRMbZBE6BCwPT-wD8m3YmHqwHxme?usp=sharing)  available in the 'Resources' section of this Kaggle competition.\n"
   ]
  },
  {
   "cell_type": "code",
   "execution_count": 5,
   "id": "a7045432",
   "metadata": {
    "execution": {
     "iopub.execute_input": "2025-02-27T00:00:20.503033Z",
     "iopub.status.busy": "2025-02-27T00:00:20.502810Z",
     "iopub.status.idle": "2025-02-27T00:00:20.519896Z",
     "shell.execute_reply": "2025-02-27T00:00:20.519257Z"
    },
    "papermill": {
     "duration": 0.025284,
     "end_time": "2025-02-27T00:00:20.521042",
     "exception": false,
     "start_time": "2025-02-27T00:00:20.495758",
     "status": "completed"
    },
    "tags": []
   },
   "outputs": [],
   "source": [
    "# 3. Data Preprocessing\n",
    "# Encode the labels -- translating diagnoses to numbers\n",
    "label_encoder = LabelEncoder()\n",
    "train_df['encoded_label'] = label_encoder.fit_transform(train_df['label'])\n",
    "\n",
    "# Split the data into training and validation sets\n",
    "train_data, val_data = train_test_split(train_df, test_size=0.2, random_state=42)\n",
    "\n",
    "# # Define image data generators for training and validation\n",
    "# train_datagen = ImageDataGenerator(rescale=1./255)\n",
    "# val_datagen = ImageDataGenerator(rescale=1./255)\n",
    "\n",
    "# Define the directory paths\n",
    "train_dir = '/kaggle/input/bttai-ajl-2025/train/train/'"
   ]
  },
  {
   "cell_type": "raw",
   "id": "0956b986",
   "metadata": {
    "papermill": {
     "duration": 0.00621,
     "end_time": "2025-02-27T00:00:20.533583",
     "exception": false,
     "start_time": "2025-02-27T00:00:20.527373",
     "status": "completed"
    },
    "tags": []
   },
   "source": []
  },
  {
   "cell_type": "code",
   "execution_count": null,
   "id": "f6f07f3e",
   "metadata": {
    "papermill": {
     "duration": 0.00616,
     "end_time": "2025-02-27T00:00:20.546068",
     "exception": false,
     "start_time": "2025-02-27T00:00:20.539908",
     "status": "completed"
    },
    "tags": []
   },
   "outputs": [],
   "source": []
  },
  {
   "cell_type": "code",
   "execution_count": 6,
   "id": "6b0dff86",
   "metadata": {
    "execution": {
     "iopub.execute_input": "2025-02-27T00:00:20.559355Z",
     "iopub.status.busy": "2025-02-27T00:00:20.559148Z",
     "iopub.status.idle": "2025-02-27T00:00:20.588073Z",
     "shell.execute_reply": "2025-02-27T00:00:20.587483Z"
    },
    "papermill": {
     "duration": 0.036863,
     "end_time": "2025-02-27T00:00:20.589263",
     "exception": false,
     "start_time": "2025-02-27T00:00:20.552400",
     "status": "completed"
    },
    "tags": []
   },
   "outputs": [],
   "source": [
    "# Starting off by feeding these images directly into a basic model -- will add preprocessing later on\n",
    "\n",
    "# FRom image processing colab\n",
    "\n",
    "# Necessary Imports\n",
    "import os\n",
    "import numpy as np\n",
    "import pandas as pd\n",
    "from collections import Counter\n",
    "import keras\n",
    "from keras import Sequential\n",
    "from keras import layers\n",
    "from keras.layers import Conv2D,MaxPool2D,Dense,Flatten,BatchNormalization,Dropout, Input\n",
    "from keras.optimizers import Adam\n",
    "from PIL import Image\n",
    "from tensorflow import data as tf_data\n",
    "import matplotlib.pyplot as plt\n",
    "from keras.preprocessing import image\n",
    "import tensorflow as df\n",
    "\n",
    "from sklearn.model_selection import train_test_split\n",
    "\n",
    "from tqdm import tqdm"
   ]
  },
  {
   "cell_type": "code",
   "execution_count": 7,
   "id": "3917bd14",
   "metadata": {
    "execution": {
     "iopub.execute_input": "2025-02-27T00:00:20.602971Z",
     "iopub.status.busy": "2025-02-27T00:00:20.602749Z",
     "iopub.status.idle": "2025-02-27T00:00:20.623118Z",
     "shell.execute_reply": "2025-02-27T00:00:20.622362Z"
    },
    "papermill": {
     "duration": 0.02885,
     "end_time": "2025-02-27T00:00:20.624558",
     "exception": false,
     "start_time": "2025-02-27T00:00:20.595708",
     "status": "completed"
    },
    "tags": []
   },
   "outputs": [],
   "source": [
    "###### METHODS FOR EACH AUGMENTATION\n",
    "\n",
    "from PIL import Image, ImageEnhance, ImageFilter\n",
    "\n",
    "def rotate(filepath):\n",
    "    with Image.open(filepath) as img:\n",
    "        # print(\"Original Image: \")\n",
    "        # display(img)\n",
    "        \n",
    "        rotated = img.rotate(45)\n",
    "        # print(\"Rotated 45 degrees\")\n",
    "        # display(rotated)\n",
    "\n",
    "    return rotated  \n",
    "\n",
    "def flip_upside_down(filename):\n",
    "    with Image.open(filename) as img:\n",
    "        upside = img.transpose(Image.FLIP_TOP_BOTTOM)\n",
    "    return upside\n"
   ]
  },
  {
   "cell_type": "code",
   "execution_count": 8,
   "id": "a6b47009",
   "metadata": {
    "execution": {
     "iopub.execute_input": "2025-02-27T00:00:20.639273Z",
     "iopub.status.busy": "2025-02-27T00:00:20.639015Z",
     "iopub.status.idle": "2025-02-27T00:00:20.652759Z",
     "shell.execute_reply": "2025-02-27T00:00:20.652053Z"
    },
    "papermill": {
     "duration": 0.022636,
     "end_time": "2025-02-27T00:00:20.653943",
     "exception": false,
     "start_time": "2025-02-27T00:00:20.631307",
     "status": "completed"
    },
    "tags": []
   },
   "outputs": [],
   "source": [
    "import numpy as np\n",
    "import os\n",
    "import pandas as pd\n",
    "import shutil\n",
    "import random\n",
    "\n",
    "from shutil import unpack_archive\n",
    "from subprocess import check_output\n",
    "\n",
    "## Introducing sampling methods to ensure that our dataset is proportional\n",
    "def numImages(base_dir):\n",
    "\n",
    "    all_nums = []\n",
    "    # Iterate through each subdirectory ('class_dir') in the base directory ('base_dir')\n",
    "    for class_dir in tqdm(os.listdir(base_dir), desc=\"Processing classes\"):\n",
    "        class_path = os.path.join(base_dir, class_dir)\n",
    "\n",
    "        # Get all filenames in the current class directory\n",
    "        filenames = os.listdir(class_path)\n",
    "        all_nums.append(len(filenames))\n",
    "        print(\"class: \", class_dir, \" number: \", len(filenames))\n",
    "\n",
    "    print(\"Average number: \", sum(all_nums)/len(all_nums))\n",
    "\n",
    "    return all_nums\n",
    "\n",
    "\n",
    "def downsample(base_dir, sample_size_per_class, new_dir):\n",
    "    \"\"\"\n",
    "    Draws a uniform sample of filenames from directories, where each directory represents a class.\n",
    "    Copies sampled files into new_dir in the same class-based format as original\n",
    "    \n",
    "    Parameters:\n",
    "        base_dir (str): The path to the base directory containing subdirectories.\n",
    "        sample_size_per_class (int): The number of filenames to sample from each class directory.\n",
    "\n",
    "    Returns:\n",
    "        dict: A dictionary with class labels (directory names) as keys and lists of sampled filenames as values.\n",
    "    \"\"\"\n",
    "    # Dictionary to store sampled filenames for each class\n",
    "    sampled_files = {}\n",
    "    new_path = \"./\" + new_dir\n",
    "\n",
    "    # making new directory for sampled files\n",
    "    if not os.path.exists(new_path):\n",
    "        shutil.os.mkdir(new_path)\n",
    "\n",
    "    # Iterate through each subdirectory ('class_dir') in the base directory ('base_dir')\n",
    "    for class_dir in tqdm(os.listdir(base_dir), desc=\"Processing classes\"):\n",
    "        class_path = os.path.join(base_dir, class_dir)\n",
    "\n",
    "        # Get all filenames in the current class directory\n",
    "        filenames = os.listdir(class_path)\n",
    "\n",
    "        # Check if there are enough files to sample from\n",
    "        if len(filenames) < sample_size_per_class:\n",
    "            print(f\"Warning: Not enough files in class '{class_dir}' to sample {sample_size_per_class}. Using all available files.\")\n",
    "            sampled_files[class_dir] = filenames\n",
    "        else:\n",
    "            # Randomly sample files from the current class directory\n",
    "            sampled_files[class_dir] = random.sample(filenames, sample_size_per_class)\n",
    "\n",
    "        #########\n",
    "        # moving files into the new training folder named after the class label\n",
    "        if not os.path.exists(new_path + \"/\" + class_dir):\n",
    "            shutil.os.mkdir(new_path + \"/\" + class_dir)\n",
    "        for file in sampled_files[class_dir]:\n",
    "            if not os.path.exists(new_path + \"/\" + class_dir + \"/\" + file):\n",
    "                shutil.copy2(class_path + \"/\" + file, new_path + \"/\" + class_dir)\n",
    "\n",
    "    return sampled_files\n",
    "\n",
    "def upsample(base_dir, samp_size, new_dir):\n",
    "    \"\"\"\n",
    "    Upsamples by identifying the number of additional images needed in each class \n",
    "    and randomly generating augmented images to fill this gap.\n",
    "    Also copies the new files into new_dir in the same class-folder format. \n",
    "    \n",
    "    Parameters:\n",
    "        base_dir (str): The path to the base directory containing subdirectories.\n",
    "        samp_size (int): The number of filenames to sample from each class directory.\n",
    "\n",
    "    Returns: nothing\n",
    "    \n",
    "    \"\"\"\n",
    "    new_path = \"./\" + new_dir\n",
    "\n",
    "    # making new directory for sampled files\n",
    "    if not os.path.exists(new_path):\n",
    "        shutil.os.mkdir(new_path)\n",
    "        \n",
    "    # Iterate through each subdirectory ('class_dir') in the base directory ('base_dir')\n",
    "    for class_dir in tqdm(os.listdir(base_dir), desc=\"Processing classes\"):\n",
    "        class_path = os.path.join(base_dir, class_dir)\n",
    "\n",
    "        # making class directory in new dataset if needed\n",
    "        if not os.path.exists(new_path + \"/\" + class_dir):\n",
    "            shutil.os.mkdir(new_path + \"/\" + class_dir)\n",
    "\n",
    "        # Get all filenames in the current class directory\n",
    "        filenames = os.listdir(class_path)\n",
    "        all_files = [] # this will be the list of files to save to the new directory\n",
    "\n",
    "        # Check if there are enough files to sample from\n",
    "        if len(filenames) < samp_size:\n",
    "            # generate additional images and add them to the new folder\n",
    "            needed = samp_size - len(filenames)\n",
    "            new_imgs = genAugmentation(class_path, needed, new_path + \"/\" + class_dir)\n",
    "            \n",
    "        # add all original files to the new folder\n",
    "        # moving files into the new training folder named after the class label\n",
    "\n",
    "        for file in filenames:\n",
    "            if not os.path.exists(new_path + \"/\" + class_dir + \"/\" + file):\n",
    "                shutil.copy2(class_path + \"/\" + file, new_path + \"/\" + class_dir)\n",
    "\n",
    "\"\"\"\"\n",
    "Selects samp_size files randomly from filenames, checking to make sure none\n",
    "are already augmented (e.g. have \"-r\" in the filename)\n",
    "\n",
    "NOTE: if there are not enough non-augmented images in the folder, returns\n",
    "only as many images as can be augmented\n",
    "\n",
    "filenames: list of names in the form <hash>.jpg\n",
    "samp_size: int num of how many files from filenames to return\n",
    "filter: whether to remove previously augmented files from sample\n",
    "\n",
    "returns a list of filenames selected for augmentation\n",
    "\"\"\"\n",
    "def sample(filenames, samp_size, filter=True):\n",
    "    \n",
    "    if not filter:\n",
    "        return random.sample(filenames, samp_size)\n",
    "\n",
    "    to_aug = []\n",
    "    inds_seen = set() # tracker for indexes of images iterated through\n",
    "\n",
    "    # continuing to look until we either have enough images are have run out of images to select\n",
    "    while len(to_aug) < samp_size and len(inds_seen) != len(filenames):\n",
    "        ind = random.randint(0, len(filenames) - 1)\n",
    "        if ind not in inds_seen:\n",
    "            inds_seen.add(ind)\n",
    "            if \"-r\" not in filenames[ind]:\n",
    "                to_aug.append(filenames[ind])\n",
    "\n",
    "    if len(to_aug) != samp_size:\n",
    "        print(\"Did not find enough non-augmented images. Total number sampled: \", len(to_aug), \". Total number needed: \", samp_size)\n",
    "    return to_aug\n",
    "        \n",
    "def genAugmentation(class_path, needed, new_path):\n",
    "    \"\"\"\n",
    "    generates needed number of images by randomly selecting images from a folder and\n",
    "    performing an augmentation. Saves images to new_path folder.\n",
    "    \n",
    "    Parameters:\n",
    "        class_path (string): The path to a directory of images\n",
    "        needed (int): The number of additional files to be augmented\n",
    "        new_path (string): new place where the images will be saved\n",
    "\n",
    "    Returns:\n",
    "        new_files: A list of the newly-generated augmented filenames\n",
    "    \"\"\"\n",
    "    # get all original images in the directory\n",
    "    filenames = os.listdir(class_path)\n",
    "\n",
    "    # randomly selecting which images to augment\n",
    "    to_aug = sample(filenames, needed, filter=False)\n",
    "\n",
    "    # list of new filepaths\n",
    "    new_files = []\n",
    "\n",
    "    # performing a 45-degree angle rotation\n",
    "    for img in to_aug:\n",
    "        imgpath = class_path + \"/\" + img\n",
    "        #new_img = rotate(imgpath)\n",
    "        new_img = flip_upside_down(imgpath)\n",
    "        new_img.save(os.path.join(new_path, f\"{img}-r.jpg\")) # '-r' for rotated\n",
    "        new_files.append(f\"{img}-r.jpg\")\n",
    "\n",
    "    return new_files"
   ]
  },
  {
   "cell_type": "code",
   "execution_count": 9,
   "id": "8fc21e8e",
   "metadata": {
    "execution": {
     "iopub.execute_input": "2025-02-27T00:00:20.667845Z",
     "iopub.status.busy": "2025-02-27T00:00:20.667546Z",
     "iopub.status.idle": "2025-02-27T00:00:20.677300Z",
     "shell.execute_reply": "2025-02-27T00:00:20.676678Z"
    },
    "papermill": {
     "duration": 0.018162,
     "end_time": "2025-02-27T00:00:20.678439",
     "exception": false,
     "start_time": "2025-02-27T00:00:20.660277",
     "status": "completed"
    },
    "tags": []
   },
   "outputs": [],
   "source": [
    "### setting up upsampling by skin color/fitz\n",
    "\n",
    "import re\n",
    "\n",
    "\"\"\" \n",
    "returns a list of count by fitz score for each category. \n",
    "base_dir = train_dir or equiv\n",
    "this is done like this and not with the df because of the case where\n",
    "we add new data to the directory (augmented -r files) that won't be in the CSV\n",
    "\"\"\"\n",
    "def count_by_diag(base_dir, train_df):\n",
    "    for diag_dir in os.listdir(base_dir):\n",
    "        fitz_count = [0 for i in range(7)]\n",
    "        dir_path = os.path.join(base_dir, diag_dir)\n",
    "        for img in os.listdir(dir_path):\n",
    "            # get hash only to check fitz score\n",
    "            \"\"\"\n",
    "            - get hash\n",
    "            - check fitz of row in df with this hash\n",
    "            - increment corresponding fitz_count\n",
    "            \"\"\"\n",
    "            # print(train_df[train_df['md5hash'] == img])\n",
    "            \n",
    "            # accounting for augmented images, which ahve the same score as their original version\n",
    "            if \"-r\" in img:\n",
    "                img = re.sub(\"-r\", \"\", img)\n",
    "                # img = re.sub(\".jpg.jpg\", \".jpg\", img) #fixing a typo in earlier syntax\n",
    "                \n",
    "            fitz = train_df[train_df[\"md5hash\"] == img][\"fitzpatrick_scale\"].iloc[0]\n",
    "            # print(fitz)\n",
    "            if fitz != -1:\n",
    "                fitz_count[fitz] += 1\n",
    "\n",
    "        print(diag_dir, \": \", fitz_count)\n",
    "    \n",
    "\n",
    "\"\"\"\n",
    "Plan:\n",
    "\n",
    "By fitz only: \n",
    "- identify number of images in each category\n",
    "- identify ideal sample \n",
    "- randomly select that number of images to augment and add to the new dataset\n",
    "\n",
    "By fitz AND diagnosis:\n",
    "- also identify goal number for total category samples\n",
    "- increase this to the goal but shifting within fitz scores these categories (e.g. if you have 20/80 for 50 images\n",
    "you'd want to generate more to have 50/50 of 80 or something like that)\n",
    "\n",
    "\n",
    "New idea:\n",
    "- first upsample all categories based on fitz score\n",
    "- THEN randomly upsample from that to even out categories overall\n",
    "\n",
    "NOTES:\n",
    "- might be relatively easy to first select non-augmented images for the second round of \n",
    "upsampling by diagnosis, just so we don't end up with 3 copies of the same image\n",
    "\"\"\"\n",
    "\n",
    "def fitz_diagnosis_upsample(base_dir, new_dir, train_df):\n",
    "\n",
    "    # # identify goal number of images per diagnosis (min * 2 for now)\n",
    "    # per_diag = min(numImages(base_dir)) * 2\n",
    "\n",
    "    \"\"\"\n",
    "    for each category:\n",
    "    - find largest fitz cat and mult by 6 to get total number desired\n",
    "    - randomly select X number of images in each category and add all md5hashes to a list\n",
    "    - collect this list over all categories, then after doing so do all of the augmentations on this list\n",
    "\n",
    "    - THEN do the regular by-category upsampling \n",
    "\n",
    "    \"\"\"\n",
    "    # list of string diags to use in filepath later\n",
    "    ordered_cats = train_df[\"label\"].unique()\n",
    "    ordered_cats.sort()\n",
    "\n",
    "    new_files = [] # list of all images augmented\n",
    "\n",
    "    # making new_path directory in new dataset if needed\n",
    "    if not os.path.exists(new_dir):\n",
    "        shutil.os.mkdir(new_dir)\n",
    "   \n",
    "    for cat in range(21):\n",
    "\n",
    "        # making class directory in new dataset if needed\n",
    "        if not os.path.exists(new_dir + \"/\" + ordered_cats[cat]):\n",
    "            shutil.os.mkdir(new_dir + \"/\" + ordered_cats[cat])\n",
    "            \n",
    "        to_augment = [] # list of md5hash keys to augment\n",
    "        most_common = max((train_df[train_df[\"encoded_label\"] == cat])['fitzpatrick_scale'].value_counts(normalize=False))\n",
    "        goal_total = most_common * 6\n",
    "\n",
    "        for i in range(1, 7): #iterating through fitz scores\n",
    "            this_fitz = train_df[(train_df[\"encoded_label\"]== cat) & (train_df[\"fitzpatrick_scale\"]==i)]\n",
    "            # print(this_fitz.head)\n",
    "            if len(this_fitz) == 0:\n",
    "                print(\"Category \" + ordered_cats[cat] + \" has no images for fitz \" + str(i))\n",
    "                continue\n",
    "            to_select = most_common - len(this_fitz)\n",
    "            if to_select == 0:\n",
    "                continue\n",
    "            if len(this_fitz) < to_select:\n",
    "                to_select = len(this_fitz) # just doing this to avoid the doubling issue, can fix this later\n",
    "            # now randomly select to_select codes from the train df and add them to to_augment\n",
    "            to_augment.extend(random.sample(this_fitz[\"md5hash\"].to_list(), to_select))\n",
    "            # this_fitz[\"md5hash\"].to_list().sample(to_select)\n",
    "            \n",
    "\n",
    "        # now have to_augment, a list of md5hash values to augment in this category\n",
    "        folder = base_dir + \"/\" + ordered_cats[cat] + \"/\"\n",
    "        for img in to_augment:\n",
    "            filepath = folder + img\n",
    "            destination_dir = new_dir +  \"/\" + ordered_cats[cat]\n",
    "            new_img = rotate(filepath)\n",
    "            md_only = re.sub(\".jpg\", \"\", img)\n",
    "            new_img.save(os.path.join(destination_dir, f\"{md_only}-r.jpg\")) # '-r' for rotated\n",
    "            new_files.append(f\"{md_only}-r.jpg\")\n",
    "\n",
    "        # adding ALL original images to the new folder\n",
    "        # for hsh in train_df[train_df[\"encoded_label\"] == cat]:\n",
    "        #     path = folder + img + \".jpg\"\n",
    "        #     path.save(os.path.join(destination_dir, f\"{img}.jpg\"))\n",
    "\n",
    "        for hsh in train_df[train_df[\"encoded_label\"] == cat][\"md5hash\"]:\n",
    "            if not os.path.exists( new_dir + \"/\" + ordered_cats[cat] + \"/\" + hsh):\n",
    "                shutil.copy2(folder + hsh, new_dir + \"/\" + ordered_cats[cat])\n",
    "            \n",
    "\n",
    "    "
   ]
  },
  {
   "cell_type": "code",
   "execution_count": 10,
   "id": "0500ed4a",
   "metadata": {
    "execution": {
     "iopub.execute_input": "2025-02-27T00:00:20.692796Z",
     "iopub.status.busy": "2025-02-27T00:00:20.692496Z",
     "iopub.status.idle": "2025-02-27T00:00:54.578379Z",
     "shell.execute_reply": "2025-02-27T00:00:54.577289Z"
    },
    "papermill": {
     "duration": 33.894878,
     "end_time": "2025-02-27T00:00:54.580153",
     "exception": false,
     "start_time": "2025-02-27T00:00:20.685275",
     "status": "completed"
    },
    "tags": []
   },
   "outputs": [
    {
     "name": "stdout",
     "output_type": "stream",
     "text": [
      "dermatomyositis :  [0, 16, 39, 24, 15, 6, 4]\n",
      "malignant-melanoma :  [0, 23, 29, 10, 7, 3, 1]\n",
      "basal-cell-carcinoma :  [0, 58, 114, 81, 47, 15, 5]\n",
      "eczema :  [0, 18, 65, 25, 17, 8, 7]\n",
      "basal-cell-carcinoma-morpheiform :  [0, 16, 21, 4, 0, 1, 0]\n",
      "melanoma :  [0, 27, 55, 41, 24, 15, 7]\n",
      "acne :  [0, 32, 48, 22, 15, 11, 0]\n",
      "kaposi-sarcoma :  [0, 10, 18, 21, 29, 21, 8]\n",
      "seborrheic-keratosis :  [0, 9, 21, 6, 4, 3, 4]\n",
      "keloid :  [0, 16, 23, 17, 19, 20, 12]\n",
      "acne-vulgaris :  [0, 53, 104, 34, 30, 9, 4]\n",
      "squamous-cell-carcinoma :  [0, 71, 121, 86, 50, 34, 14]\n",
      "epidermal-nevus :  [0, 25, 19, 7, 9, 2, 0]\n",
      "pyogenic-granuloma :  [0, 25, 27, 12, 10, 3, 0]\n",
      "dyshidrotic-eczema :  [0, 12, 18, 9, 8, 2, 5]\n",
      "mycosis-fungoides :  [0, 26, 38, 30, 18, 9, 2]\n",
      "actinic-keratosis :  [0, 21, 55, 18, 15, 8, 0]\n",
      "superficial-spreading-melanoma-ssm :  [0, 35, 28, 12, 2, 2, 2]\n",
      "dermatofibroma :  [0, 9, 25, 16, 4, 0, 0]\n",
      "folliculitis :  [0, 20, 72, 63, 33, 22, 9]\n",
      "prurigo-nodularis :  [0, 6, 24, 24, 37, 22, 5]\n",
      "Category acne has no images for fitz 6\n",
      "Category actinic-keratosis has no images for fitz 6\n",
      "Category basal-cell-carcinoma-morpheiform has no images for fitz 4\n",
      "Category basal-cell-carcinoma-morpheiform has no images for fitz 6\n",
      "Category dermatofibroma has no images for fitz 5\n",
      "Category dermatofibroma has no images for fitz 6\n",
      "Category epidermal-nevus has no images for fitz 6\n",
      "Category pyogenic-granuloma has no images for fitz 6\n",
      "NEW DIR: \n",
      "basal-cell-carcinoma-morpheiform :  [0, 21, 21, 8, 0, 2, 0]\n",
      "dermatomyositis :  [0, 32, 39, 39, 30, 12, 8]\n",
      "melanoma :  [0, 54, 55, 55, 48, 30, 14]\n",
      "prurigo-nodularis :  [0, 12, 37, 37, 37, 37, 10]\n",
      "pyogenic-granuloma :  [0, 27, 27, 24, 20, 6, 0]\n",
      "keloid :  [0, 23, 23, 23, 23, 23, 23]\n",
      "acne-vulgaris :  [0, 104, 104, 68, 60, 18, 8]\n",
      "squamous-cell-carcinoma :  [0, 121, 121, 121, 100, 68, 28]\n",
      "folliculitis :  [0, 40, 72, 72, 66, 44, 18]\n",
      "kaposi-sarcoma :  [0, 20, 29, 29, 29, 29, 16]\n",
      "basal-cell-carcinoma :  [0, 114, 114, 114, 94, 30, 10]\n",
      "acne :  [0, 48, 48, 44, 30, 22, 0]\n",
      "dyshidrotic-eczema :  [0, 18, 18, 18, 16, 4, 10]\n",
      "malignant-melanoma :  [0, 29, 29, 20, 14, 6, 2]\n",
      "superficial-spreading-melanoma-ssm :  [0, 35, 35, 24, 4, 4, 4]\n",
      "actinic-keratosis :  [0, 42, 55, 36, 30, 16, 0]\n",
      "mycosis-fungoides :  [0, 38, 38, 38, 36, 18, 4]\n",
      "seborrheic-keratosis :  [0, 18, 21, 12, 8, 6, 8]\n",
      "dermatofibroma :  [0, 18, 25, 25, 8, 0, 0]\n",
      "eczema :  [0, 36, 65, 50, 34, 16, 14]\n",
      "epidermal-nevus :  [0, 25, 25, 14, 18, 4, 0]\n"
     ]
    }
   ],
   "source": [
    "# # testing above methods\n",
    "count_by_diag(train_dir, train_df)\n",
    "fitz_diagnosis_upsample(train_dir, \"./test_fitz\", train_df)\n",
    "print(\"NEW DIR: \")\n",
    "count_by_diag(\"./test_fitz\", train_df)\n",
    "# shutil.rmtree(\"./test_fitz\")"
   ]
  },
  {
   "cell_type": "code",
   "execution_count": 11,
   "id": "89e2b17d",
   "metadata": {
    "execution": {
     "iopub.execute_input": "2025-02-27T00:00:54.598516Z",
     "iopub.status.busy": "2025-02-27T00:00:54.598259Z",
     "iopub.status.idle": "2025-02-27T00:00:54.622455Z",
     "shell.execute_reply": "2025-02-27T00:00:54.621500Z"
    },
    "papermill": {
     "duration": 0.034426,
     "end_time": "2025-02-27T00:00:54.623775",
     "exception": false,
     "start_time": "2025-02-27T00:00:54.589349",
     "status": "completed"
    },
    "tags": []
   },
   "outputs": [
    {
     "name": "stderr",
     "output_type": "stream",
     "text": [
      "Processing classes: 100%|██████████| 21/21 [00:00<00:00, 1495.04it/s]"
     ]
    },
    {
     "name": "stdout",
     "output_type": "stream",
     "text": [
      "class:  basal-cell-carcinoma-morpheiform  number:  53\n",
      "class:  dermatomyositis  number:  162\n",
      "class:  melanoma  number:  268\n",
      "class:  prurigo-nodularis  number:  171\n",
      "class:  pyogenic-granuloma  number:  106\n",
      "class:  keloid  number:  140\n",
      "class:  acne-vulgaris  number:  362\n",
      "class:  squamous-cell-carcinoma  number:  590\n",
      "class:  folliculitis  number:  332\n",
      "class:  kaposi-sarcoma  number:  154\n",
      "class:  basal-cell-carcinoma  number:  484\n",
      "class:  acne  number:  192\n",
      "class:  dyshidrotic-eczema  number:  88\n",
      "class:  malignant-melanoma  number:  105\n",
      "class:  superficial-spreading-melanoma-ssm  number:  108\n",
      "class:  actinic-keratosis  number:  184\n",
      "class:  mycosis-fungoides  number:  176\n",
      "class:  seborrheic-keratosis  number:  74\n",
      "class:  dermatofibroma  number:  77\n",
      "class:  eczema  number:  218\n",
      "class:  epidermal-nevus  number:  88\n",
      "Average number:  196.76190476190476\n"
     ]
    },
    {
     "name": "stderr",
     "output_type": "stream",
     "text": [
      "\n"
     ]
    },
    {
     "data": {
      "text/plain": [
       "[53,\n",
       " 162,\n",
       " 268,\n",
       " 171,\n",
       " 106,\n",
       " 140,\n",
       " 362,\n",
       " 590,\n",
       " 332,\n",
       " 154,\n",
       " 484,\n",
       " 192,\n",
       " 88,\n",
       " 105,\n",
       " 108,\n",
       " 184,\n",
       " 176,\n",
       " 74,\n",
       " 77,\n",
       " 218,\n",
       " 88]"
      ]
     },
     "execution_count": 11,
     "metadata": {},
     "output_type": "execute_result"
    }
   ],
   "source": [
    "## getting a sense of how many images are in each category\n",
    "numImages(\"./test_fitz\")\n",
    "\n",
    "## --> min number we can choose is 43 for basal-cell-carcinoma-morpheiform"
   ]
  },
  {
   "cell_type": "code",
   "execution_count": 12,
   "id": "c8317bc3",
   "metadata": {
    "execution": {
     "iopub.execute_input": "2025-02-27T00:00:54.642355Z",
     "iopub.status.busy": "2025-02-27T00:00:54.642076Z",
     "iopub.status.idle": "2025-02-27T00:00:54.645499Z",
     "shell.execute_reply": "2025-02-27T00:00:54.644586Z"
    },
    "papermill": {
     "duration": 0.014176,
     "end_time": "2025-02-27T00:00:54.646870",
     "exception": false,
     "start_time": "2025-02-27T00:00:54.632694",
     "status": "completed"
    },
    "tags": []
   },
   "outputs": [],
   "source": [
    "#shutil.rmtree(\"./upsampled\")"
   ]
  },
  {
   "cell_type": "code",
   "execution_count": 13,
   "id": "ff9beea4",
   "metadata": {
    "execution": {
     "iopub.execute_input": "2025-02-27T00:00:54.665227Z",
     "iopub.status.busy": "2025-02-27T00:00:54.664993Z",
     "iopub.status.idle": "2025-02-27T00:00:55.753598Z",
     "shell.execute_reply": "2025-02-27T00:00:55.752538Z"
    },
    "papermill": {
     "duration": 1.099424,
     "end_time": "2025-02-27T00:00:55.755098",
     "exception": false,
     "start_time": "2025-02-27T00:00:54.655674",
     "status": "completed"
    },
    "tags": []
   },
   "outputs": [
    {
     "name": "stderr",
     "output_type": "stream",
     "text": [
      "Processing classes: 100%|██████████| 21/21 [00:01<00:00, 19.42it/s]\n"
     ]
    }
   ],
   "source": [
    "### Down and/or upsampling\n",
    "\n",
    "# creating a new training folder with sampled images\n",
    "# sample_dict = downsample(train_dir, 40)\n",
    "\n",
    "# min number is 43, so for now bc we're only at most doubling we'll do upsampling up to 85\n",
    "\n",
    "upsample(\"./test_fitz\", 100, \"upsampled\")"
   ]
  },
  {
   "cell_type": "code",
   "execution_count": 14,
   "id": "1be73c76",
   "metadata": {
    "execution": {
     "iopub.execute_input": "2025-02-27T00:00:55.774242Z",
     "iopub.status.busy": "2025-02-27T00:00:55.773981Z",
     "iopub.status.idle": "2025-02-27T00:01:07.083378Z",
     "shell.execute_reply": "2025-02-27T00:01:07.082369Z"
    },
    "papermill": {
     "duration": 11.320415,
     "end_time": "2025-02-27T00:01:07.084783",
     "exception": false,
     "start_time": "2025-02-27T00:00:55.764368",
     "status": "completed"
    },
    "tags": []
   },
   "outputs": [
    {
     "name": "stdout",
     "output_type": "stream",
     "text": [
      "Category acne has no images for fitz 6\n",
      "Category actinic-keratosis has no images for fitz 6\n",
      "Category basal-cell-carcinoma-morpheiform has no images for fitz 4\n",
      "Category basal-cell-carcinoma-morpheiform has no images for fitz 6\n",
      "Category dermatofibroma has no images for fitz 5\n",
      "Category dermatofibroma has no images for fitz 6\n",
      "Category epidermal-nevus has no images for fitz 6\n",
      "Category pyogenic-granuloma has no images for fitz 6\n"
     ]
    },
    {
     "name": "stderr",
     "output_type": "stream",
     "text": [
      "Processing classes: 100%|██████████| 21/21 [00:00<00:00, 53.49it/s]\n"
     ]
    }
   ],
   "source": [
    "# SECOND ROUND OF AUGMENTATION -- can also try inc. sample size in second round\n",
    "\n",
    "fitz_diagnosis_upsample(train_dir, \"./test_fitz\", train_df)\n",
    "upsample(\"./test_fitz\", 100, \"upsampled\")"
   ]
  },
  {
   "cell_type": "code",
   "execution_count": 15,
   "id": "51873e64",
   "metadata": {
    "execution": {
     "iopub.execute_input": "2025-02-27T00:01:07.105296Z",
     "iopub.status.busy": "2025-02-27T00:01:07.105046Z",
     "iopub.status.idle": "2025-02-27T00:01:07.136222Z",
     "shell.execute_reply": "2025-02-27T00:01:07.135315Z"
    },
    "papermill": {
     "duration": 0.04299,
     "end_time": "2025-02-27T00:01:07.137725",
     "exception": false,
     "start_time": "2025-02-27T00:01:07.094735",
     "status": "completed"
    },
    "tags": []
   },
   "outputs": [
    {
     "name": "stderr",
     "output_type": "stream",
     "text": [
      "Processing classes: 100%|██████████| 21/21 [00:00<00:00, 987.08it/s]"
     ]
    },
    {
     "name": "stdout",
     "output_type": "stream",
     "text": [
      "class:  basal-cell-carcinoma-morpheiform  number:  111\n",
      "class:  dermatomyositis  number:  169\n",
      "class:  melanoma  number:  276\n",
      "class:  prurigo-nodularis  number:  187\n",
      "class:  pyogenic-granuloma  number:  108\n",
      "class:  keloid  number:  154\n",
      "class:  acne-vulgaris  number:  364\n",
      "class:  squamous-cell-carcinoma  number:  632\n",
      "class:  folliculitis  number:  339\n",
      "class:  kaposi-sarcoma  number:  167\n",
      "class:  basal-cell-carcinoma  number:  504\n",
      "class:  acne  number:  200\n",
      "class:  dyshidrotic-eczema  number:  112\n",
      "class:  malignant-melanoma  number:  110\n",
      "class:  superficial-spreading-melanoma-ssm  number:  113\n",
      "class:  actinic-keratosis  number:  184\n",
      "class:  mycosis-fungoides  number:  186\n",
      "class:  seborrheic-keratosis  number:  120\n",
      "class:  dermatofibroma  number:  116\n",
      "class:  eczema  number:  218\n",
      "class:  epidermal-nevus  number:  110\n",
      "Average number:  213.33333333333334\n"
     ]
    },
    {
     "name": "stderr",
     "output_type": "stream",
     "text": [
      "\n"
     ]
    },
    {
     "data": {
      "text/plain": [
       "[111,\n",
       " 169,\n",
       " 276,\n",
       " 187,\n",
       " 108,\n",
       " 154,\n",
       " 364,\n",
       " 632,\n",
       " 339,\n",
       " 167,\n",
       " 504,\n",
       " 200,\n",
       " 112,\n",
       " 110,\n",
       " 113,\n",
       " 184,\n",
       " 186,\n",
       " 120,\n",
       " 116,\n",
       " 218,\n",
       " 110]"
      ]
     },
     "execution_count": 15,
     "metadata": {},
     "output_type": "execute_result"
    }
   ],
   "source": [
    "numImages(\"./upsampled\")"
   ]
  },
  {
   "cell_type": "code",
   "execution_count": 16,
   "id": "7fcccb34",
   "metadata": {
    "execution": {
     "iopub.execute_input": "2025-02-27T00:01:07.158659Z",
     "iopub.status.busy": "2025-02-27T00:01:07.158395Z",
     "iopub.status.idle": "2025-02-27T00:01:13.226317Z",
     "shell.execute_reply": "2025-02-27T00:01:13.225674Z"
    },
    "papermill": {
     "duration": 6.079904,
     "end_time": "2025-02-27T00:01:13.227774",
     "exception": false,
     "start_time": "2025-02-27T00:01:07.147870",
     "status": "completed"
    },
    "tags": []
   },
   "outputs": [
    {
     "name": "stdout",
     "output_type": "stream",
     "text": [
      "Found 4480 files belonging to 21 classes.\n",
      "Using 3584 files for training.\n",
      "Using 896 files for validation.\n",
      "Found 1227 files belonging to 1 classes.\n"
     ]
    }
   ],
   "source": [
    "image_size = (180, 180)  # Target dimensions for resizing images (height, width).\n",
    "batch_size = 32  # Number of images processed in a single batch during training.\n",
    "# Note: A batch size of 128 (common in other setups) may exceed Colab's memory limits, causing crashes.\n",
    "# The chosen batch size of 32 balances memory usage and runtime, with an estimated runtime of ~3 hours.\n",
    "\n",
    "train_ds, val_ds = keras.utils.image_dataset_from_directory(\n",
    "    \"./upsampled\", #train_dir,             # Path to the directory containing the dataset.\n",
    "    labels=\"inferred\", # tells model to use folder names as labels\n",
    "    label_mode=\"int\",\n",
    "    validation_split=0.2,    # Specify that 20% of the dataset will be used for validation.\n",
    "    subset=\"both\",           # Create both training and validation datasets from the directory.\n",
    "    seed=42,                 # Random seed to ensure reproducibility when shuffling the data.\n",
    "    image_size=image_size,   # Resize all images to the specified dimensions (180x180).\n",
    "    batch_size=batch_size,   # Divide the dataset into batches of the specified size (32 images per batch).\n",
    ")\n",
    "\n",
    "# train_dir = '/kaggle/input/bttai-ajl-2025/train/train/'\n",
    "\n",
    "# /kaggle/input/bttai-ajl-2025/test/test\n",
    "\n",
    "test_dir = \"/kaggle/input/bttai-ajl-2025/test\"\n",
    "\n",
    "# print(os.listdir(test_dir))\n",
    "\n",
    "test_dataset = keras.utils.image_dataset_from_directory(\n",
    "           test_dir,\n",
    "           shuffle=False,        #or False\n",
    "           batch_size=batch_size,\n",
    "           image_size=image_size\n",
    ")"
   ]
  },
  {
   "cell_type": "code",
   "execution_count": 17,
   "id": "8bfd8c2d",
   "metadata": {
    "execution": {
     "iopub.execute_input": "2025-02-27T00:01:13.248890Z",
     "iopub.status.busy": "2025-02-27T00:01:13.248644Z",
     "iopub.status.idle": "2025-02-27T00:01:16.000615Z",
     "shell.execute_reply": "2025-02-27T00:01:15.999833Z"
    },
    "papermill": {
     "duration": 2.763433,
     "end_time": "2025-02-27T00:01:16.001797",
     "exception": false,
     "start_time": "2025-02-27T00:01:13.238364",
     "status": "completed"
    },
    "tags": []
   },
   "outputs": [
    {
     "name": "stdout",
     "output_type": "stream",
     "text": [
      "Downloading data from https://storage.googleapis.com/tensorflow/keras-applications/xception/xception_weights_tf_dim_ordering_tf_kernels_notop.h5\n",
      "\u001b[1m83683744/83683744\u001b[0m \u001b[32m━━━━━━━━━━━━━━━━━━━━\u001b[0m\u001b[37m\u001b[0m \u001b[1m0s\u001b[0m 0us/step\n"
     ]
    },
    {
     "data": {
      "text/html": [
       "<pre style=\"white-space:pre;overflow-x:auto;line-height:normal;font-family:Menlo,'DejaVu Sans Mono',consolas,'Courier New',monospace\"><span style=\"font-weight: bold\">Model: \"functional\"</span>\n",
       "</pre>\n"
      ],
      "text/plain": [
       "\u001b[1mModel: \"functional\"\u001b[0m\n"
      ]
     },
     "metadata": {},
     "output_type": "display_data"
    },
    {
     "data": {
      "text/html": [
       "<pre style=\"white-space:pre;overflow-x:auto;line-height:normal;font-family:Menlo,'DejaVu Sans Mono',consolas,'Courier New',monospace\">┏━━━━━━━━━━━━━━━━━━━━━━━━━━━━━━━━━━━━━┳━━━━━━━━━━━━━━━━━━━━━━━━━━━━━━┳━━━━━━━━━━━━━━━┳━━━━━━━━━┓\n",
       "┃<span style=\"font-weight: bold\"> Layer (type)                        </span>┃<span style=\"font-weight: bold\"> Output Shape                 </span>┃<span style=\"font-weight: bold\">       Param # </span>┃<span style=\"font-weight: bold\"> Traina… </span>┃\n",
       "┡━━━━━━━━━━━━━━━━━━━━━━━━━━━━━━━━━━━━━╇━━━━━━━━━━━━━━━━━━━━━━━━━━━━━━╇━━━━━━━━━━━━━━━╇━━━━━━━━━┩\n",
       "│ input_layer_1 (<span style=\"color: #0087ff; text-decoration-color: #0087ff\">InputLayer</span>)          │ (<span style=\"color: #00d7ff; text-decoration-color: #00d7ff\">None</span>, <span style=\"color: #00af00; text-decoration-color: #00af00\">180</span>, <span style=\"color: #00af00; text-decoration-color: #00af00\">180</span>, <span style=\"color: #00af00; text-decoration-color: #00af00\">3</span>)          │             <span style=\"color: #00af00; text-decoration-color: #00af00\">0</span> │    <span style=\"font-weight: bold\">-</span>    │\n",
       "├─────────────────────────────────────┼──────────────────────────────┼───────────────┼─────────┤\n",
       "│ rescaling (<span style=\"color: #0087ff; text-decoration-color: #0087ff\">Rescaling</span>)               │ (<span style=\"color: #00d7ff; text-decoration-color: #00d7ff\">None</span>, <span style=\"color: #00af00; text-decoration-color: #00af00\">180</span>, <span style=\"color: #00af00; text-decoration-color: #00af00\">180</span>, <span style=\"color: #00af00; text-decoration-color: #00af00\">3</span>)          │             <span style=\"color: #00af00; text-decoration-color: #00af00\">0</span> │    <span style=\"font-weight: bold\">-</span>    │\n",
       "├─────────────────────────────────────┼──────────────────────────────┼───────────────┼─────────┤\n",
       "│ xception (<span style=\"color: #0087ff; text-decoration-color: #0087ff\">Functional</span>)               │ (<span style=\"color: #00d7ff; text-decoration-color: #00d7ff\">None</span>, <span style=\"color: #00af00; text-decoration-color: #00af00\">6</span>, <span style=\"color: #00af00; text-decoration-color: #00af00\">6</span>, <span style=\"color: #00af00; text-decoration-color: #00af00\">2048</span>)           │    <span style=\"color: #00af00; text-decoration-color: #00af00\">20,861,480</span> │    <span style=\"color: #00af00; text-decoration-color: #00af00; font-weight: bold\">Y</span>    │\n",
       "├─────────────────────────────────────┼──────────────────────────────┼───────────────┼─────────┤\n",
       "│ global_average_pooling2d            │ (<span style=\"color: #00d7ff; text-decoration-color: #00d7ff\">None</span>, <span style=\"color: #00af00; text-decoration-color: #00af00\">2048</span>)                 │             <span style=\"color: #00af00; text-decoration-color: #00af00\">0</span> │    <span style=\"font-weight: bold\">-</span>    │\n",
       "│ (<span style=\"color: #0087ff; text-decoration-color: #0087ff\">GlobalAveragePooling2D</span>)            │                              │               │         │\n",
       "├─────────────────────────────────────┼──────────────────────────────┼───────────────┼─────────┤\n",
       "│ dense (<span style=\"color: #0087ff; text-decoration-color: #0087ff\">Dense</span>)                       │ (<span style=\"color: #00d7ff; text-decoration-color: #00d7ff\">None</span>, <span style=\"color: #00af00; text-decoration-color: #00af00\">21</span>)                   │        <span style=\"color: #00af00; text-decoration-color: #00af00\">43,029</span> │    <span style=\"color: #00af00; text-decoration-color: #00af00; font-weight: bold\">Y</span>    │\n",
       "└─────────────────────────────────────┴──────────────────────────────┴───────────────┴─────────┘\n",
       "</pre>\n"
      ],
      "text/plain": [
       "┏━━━━━━━━━━━━━━━━━━━━━━━━━━━━━━━━━━━━━┳━━━━━━━━━━━━━━━━━━━━━━━━━━━━━━┳━━━━━━━━━━━━━━━┳━━━━━━━━━┓\n",
       "┃\u001b[1m \u001b[0m\u001b[1mLayer (type)                       \u001b[0m\u001b[1m \u001b[0m┃\u001b[1m \u001b[0m\u001b[1mOutput Shape                \u001b[0m\u001b[1m \u001b[0m┃\u001b[1m \u001b[0m\u001b[1m      Param #\u001b[0m\u001b[1m \u001b[0m┃\u001b[1m \u001b[0m\u001b[1mTraina…\u001b[0m\u001b[1m \u001b[0m┃\n",
       "┡━━━━━━━━━━━━━━━━━━━━━━━━━━━━━━━━━━━━━╇━━━━━━━━━━━━━━━━━━━━━━━━━━━━━━╇━━━━━━━━━━━━━━━╇━━━━━━━━━┩\n",
       "│ input_layer_1 (\u001b[38;5;33mInputLayer\u001b[0m)          │ (\u001b[38;5;45mNone\u001b[0m, \u001b[38;5;34m180\u001b[0m, \u001b[38;5;34m180\u001b[0m, \u001b[38;5;34m3\u001b[0m)          │             \u001b[38;5;34m0\u001b[0m │    \u001b[1m-\u001b[0m    │\n",
       "├─────────────────────────────────────┼──────────────────────────────┼───────────────┼─────────┤\n",
       "│ rescaling (\u001b[38;5;33mRescaling\u001b[0m)               │ (\u001b[38;5;45mNone\u001b[0m, \u001b[38;5;34m180\u001b[0m, \u001b[38;5;34m180\u001b[0m, \u001b[38;5;34m3\u001b[0m)          │             \u001b[38;5;34m0\u001b[0m │    \u001b[1m-\u001b[0m    │\n",
       "├─────────────────────────────────────┼──────────────────────────────┼───────────────┼─────────┤\n",
       "│ xception (\u001b[38;5;33mFunctional\u001b[0m)               │ (\u001b[38;5;45mNone\u001b[0m, \u001b[38;5;34m6\u001b[0m, \u001b[38;5;34m6\u001b[0m, \u001b[38;5;34m2048\u001b[0m)           │    \u001b[38;5;34m20,861,480\u001b[0m │    \u001b[1;38;5;34mY\u001b[0m    │\n",
       "├─────────────────────────────────────┼──────────────────────────────┼───────────────┼─────────┤\n",
       "│ global_average_pooling2d            │ (\u001b[38;5;45mNone\u001b[0m, \u001b[38;5;34m2048\u001b[0m)                 │             \u001b[38;5;34m0\u001b[0m │    \u001b[1m-\u001b[0m    │\n",
       "│ (\u001b[38;5;33mGlobalAveragePooling2D\u001b[0m)            │                              │               │         │\n",
       "├─────────────────────────────────────┼──────────────────────────────┼───────────────┼─────────┤\n",
       "│ dense (\u001b[38;5;33mDense\u001b[0m)                       │ (\u001b[38;5;45mNone\u001b[0m, \u001b[38;5;34m21\u001b[0m)                   │        \u001b[38;5;34m43,029\u001b[0m │    \u001b[1;38;5;34mY\u001b[0m    │\n",
       "└─────────────────────────────────────┴──────────────────────────────┴───────────────┴─────────┘\n"
      ]
     },
     "metadata": {},
     "output_type": "display_data"
    },
    {
     "data": {
      "text/html": [
       "<pre style=\"white-space:pre;overflow-x:auto;line-height:normal;font-family:Menlo,'DejaVu Sans Mono',consolas,'Courier New',monospace\"><span style=\"font-weight: bold\"> Total params: </span><span style=\"color: #00af00; text-decoration-color: #00af00\">20,904,509</span> (79.74 MB)\n",
       "</pre>\n"
      ],
      "text/plain": [
       "\u001b[1m Total params: \u001b[0m\u001b[38;5;34m20,904,509\u001b[0m (79.74 MB)\n"
      ]
     },
     "metadata": {},
     "output_type": "display_data"
    },
    {
     "data": {
      "text/html": [
       "<pre style=\"white-space:pre;overflow-x:auto;line-height:normal;font-family:Menlo,'DejaVu Sans Mono',consolas,'Courier New',monospace\"><span style=\"font-weight: bold\"> Trainable params: </span><span style=\"color: #00af00; text-decoration-color: #00af00\">20,849,981</span> (79.54 MB)\n",
       "</pre>\n"
      ],
      "text/plain": [
       "\u001b[1m Trainable params: \u001b[0m\u001b[38;5;34m20,849,981\u001b[0m (79.54 MB)\n"
      ]
     },
     "metadata": {},
     "output_type": "display_data"
    },
    {
     "data": {
      "text/html": [
       "<pre style=\"white-space:pre;overflow-x:auto;line-height:normal;font-family:Menlo,'DejaVu Sans Mono',consolas,'Courier New',monospace\"><span style=\"font-weight: bold\"> Non-trainable params: </span><span style=\"color: #00af00; text-decoration-color: #00af00\">54,528</span> (213.00 KB)\n",
       "</pre>\n"
      ],
      "text/plain": [
       "\u001b[1m Non-trainable params: \u001b[0m\u001b[38;5;34m54,528\u001b[0m (213.00 KB)\n"
      ]
     },
     "metadata": {},
     "output_type": "display_data"
    }
   ],
   "source": [
    "## transfer learning example\n",
    "\n",
    "from tensorflow.keras.callbacks import EarlyStopping\n",
    "\n",
    "\n",
    "# Load the pre-trained Xception model as the base model for transfer learning\n",
    "base_model = keras.applications.Xception(\n",
    "    weights=\"imagenet\",  # Use weights pre-trained on the ImageNet dataset.\n",
    "    input_shape=(180, 180, 3),  # Define the input shape expected by the base model (150x150 RGB images).\n",
    "    include_top=False,  # Exclude the fully connected classifier layers at the top (we will add our own).\n",
    ")\n",
    "\n",
    "# Freeze the base model's layers to prevent them from being updated during training.\n",
    "base_model.trainable = True\n",
    "\n",
    "# added this to reduce the wavy training and attempt to reduce overfitting\n",
    "# --> it doesn't seem to do much abt overfitting but it does improve the smoothness, which i think\n",
    "# might increase the number of epochs we can run it on without getting really inconsistent performance\n",
    "# 132 layers total\n",
    "# print(\"number of layers in base model: \", len(base_model.layers))\n",
    "# for layer in base_model.layers[-60:]: # Unfreeze only the last 15 layers (tried w 30 too)\n",
    "#     layer.trainable = True\n",
    "\n",
    "# Define the input for the new model\n",
    "inputs = keras.Input(shape=(180, 180, 3))  # Create an input layer for images with size 150x150 and 3 color channels (RGB).\n",
    "\n",
    "# Add a rescaling layer to preprocess the input images.\n",
    "# Pre-trained Xception requires input values to be scaled from (0, 255) to (-1, 1).\n",
    "scale_layer = keras.layers.Rescaling(scale=1 / 127.5, offset=-1)  # Rescale pixel values to the required range.\n",
    "x = scale_layer(inputs)  # Apply the rescaling transformation to the input.\n",
    "\n",
    "# Pass the rescaled input through the base model.\n",
    "# `training=False` ensures that the base model's batch normalization layers remain in inference mode,\n",
    "# even if the overall model is being trained.\n",
    "x = base_model(x, training=False)\n",
    "\n",
    "# ADDED TO COMBAT OVERFITTING\n",
    "# x = keras.layers.BatchNormalization()(x)\n",
    "\n",
    "# Apply global average pooling to reduce the spatial dimensions of the feature maps.\n",
    "# This aggregates the spatial information into a single vector per feature map.\n",
    "x = keras.layers.GlobalAveragePooling2D()(x)\n",
    "\n",
    "# Add a dropout layer to prevent overfitting by randomly setting 20% of the input units to zero during training.\n",
    "# x = keras.layers.Dropout(0.2)(x)\n",
    "\n",
    "# Add a dense (fully connected) output layer with 1 unit.\n",
    "# This layer produces the final prediction output of the model.\n",
    "#outputs = keras.layers.Dense(21)(x)\n",
    "\n",
    "# adding regularization to see if that helps w overfitting\n",
    "outputs = keras.layers.Dense(21, kernel_regularizer=keras.regularizers.l2(0.05))(x)\n",
    "\n",
    "# Create the complete model by connecting the inputs to the outputs.\n",
    "model = keras.Model(inputs, outputs)\n",
    "\n",
    "# Display the model's architecture, including which layers are trainable and which are frozen.\n",
    "model.summary(show_trainable=True)"
   ]
  },
  {
   "cell_type": "code",
   "execution_count": 18,
   "id": "109d731e",
   "metadata": {
    "execution": {
     "iopub.execute_input": "2025-02-27T00:01:16.024319Z",
     "iopub.status.busy": "2025-02-27T00:01:16.024079Z",
     "iopub.status.idle": "2025-02-27T00:18:52.759333Z",
     "shell.execute_reply": "2025-02-27T00:18:52.758588Z"
    },
    "papermill": {
     "duration": 1056.748157,
     "end_time": "2025-02-27T00:18:52.761056",
     "exception": false,
     "start_time": "2025-02-27T00:01:16.012899",
     "status": "completed"
    },
    "tags": []
   },
   "outputs": [
    {
     "name": "stdout",
     "output_type": "stream",
     "text": [
      "Epoch 1/40\n",
      "\u001b[1m112/112\u001b[0m \u001b[32m━━━━━━━━━━━━━━━━━━━━\u001b[0m\u001b[37m\u001b[0m \u001b[1m87s\u001b[0m 319ms/step - acc: 0.1873 - loss: 4.7295 - val_acc: 0.3661 - val_loss: 3.7362 - learning_rate: 1.0000e-04\n",
      "Epoch 2/40\n",
      "\u001b[1m112/112\u001b[0m \u001b[32m━━━━━━━━━━━━━━━━━━━━\u001b[0m\u001b[37m\u001b[0m \u001b[1m35s\u001b[0m 311ms/step - acc: 0.6024 - loss: 3.0978 - val_acc: 0.5335 - val_loss: 2.9292 - learning_rate: 1.0000e-04\n",
      "Epoch 3/40\n",
      "\u001b[1m112/112\u001b[0m \u001b[32m━━━━━━━━━━━━━━━━━━━━\u001b[0m\u001b[37m\u001b[0m \u001b[1m38s\u001b[0m 337ms/step - acc: 0.8337 - loss: 2.1228 - val_acc: 0.5904 - val_loss: 2.5093 - learning_rate: 1.0000e-04\n",
      "Epoch 4/40\n",
      "\u001b[1m112/112\u001b[0m \u001b[32m━━━━━━━━━━━━━━━━━━━━\u001b[0m\u001b[37m\u001b[0m \u001b[1m40s\u001b[0m 359ms/step - acc: 0.9466 - loss: 1.4640 - val_acc: 0.6150 - val_loss: 2.2584 - learning_rate: 1.0000e-04\n",
      "Epoch 5/40\n",
      "\u001b[1m112/112\u001b[0m \u001b[32m━━━━━━━━━━━━━━━━━━━━\u001b[0m\u001b[37m\u001b[0m \u001b[1m39s\u001b[0m 345ms/step - acc: 0.9841 - loss: 1.0498 - val_acc: 0.6272 - val_loss: 2.0296 - learning_rate: 1.0000e-04\n",
      "Epoch 6/40\n",
      "\u001b[1m112/112\u001b[0m \u001b[32m━━━━━━━━━━━━━━━━━━━━\u001b[0m\u001b[37m\u001b[0m \u001b[1m40s\u001b[0m 353ms/step - acc: 0.9944 - loss: 0.7929 - val_acc: 0.6239 - val_loss: 1.9030 - learning_rate: 1.0000e-04\n",
      "Epoch 7/40\n",
      "\u001b[1m112/112\u001b[0m \u001b[32m━━━━━━━━━━━━━━━━━━━━\u001b[0m\u001b[37m\u001b[0m \u001b[1m39s\u001b[0m 346ms/step - acc: 0.9991 - loss: 0.6047 - val_acc: 0.6317 - val_loss: 1.7726 - learning_rate: 1.0000e-04\n",
      "Epoch 8/40\n",
      "\u001b[1m112/112\u001b[0m \u001b[32m━━━━━━━━━━━━━━━━━━━━\u001b[0m\u001b[37m\u001b[0m \u001b[1m39s\u001b[0m 349ms/step - acc: 0.9997 - loss: 0.4757 - val_acc: 0.6150 - val_loss: 1.7026 - learning_rate: 1.0000e-04\n",
      "Epoch 9/40\n",
      "\u001b[1m112/112\u001b[0m \u001b[32m━━━━━━━━━━━━━━━━━━━━\u001b[0m\u001b[37m\u001b[0m \u001b[1m39s\u001b[0m 348ms/step - acc: 1.0000 - loss: 0.3845 - val_acc: 0.6239 - val_loss: 1.6321 - learning_rate: 1.0000e-04\n",
      "Epoch 10/40\n",
      "\u001b[1m112/112\u001b[0m \u001b[32m━━━━━━━━━━━━━━━━━━━━\u001b[0m\u001b[37m\u001b[0m \u001b[1m39s\u001b[0m 347ms/step - acc: 1.0000 - loss: 0.3256 - val_acc: 0.6138 - val_loss: 1.6195 - learning_rate: 1.0000e-04\n",
      "Epoch 11/40\n",
      "\u001b[1m112/112\u001b[0m \u001b[32m━━━━━━━━━━━━━━━━━━━━\u001b[0m\u001b[37m\u001b[0m \u001b[1m39s\u001b[0m 349ms/step - acc: 0.9995 - loss: 0.2755 - val_acc: 0.6228 - val_loss: 1.5850 - learning_rate: 1.0000e-04\n",
      "Epoch 12/40\n",
      "\u001b[1m112/112\u001b[0m \u001b[32m━━━━━━━━━━━━━━━━━━━━\u001b[0m\u001b[37m\u001b[0m \u001b[1m39s\u001b[0m 350ms/step - acc: 1.0000 - loss: 0.2480 - val_acc: 0.6283 - val_loss: 1.5445 - learning_rate: 1.0000e-04\n",
      "Epoch 13/40\n",
      "\u001b[1m112/112\u001b[0m \u001b[32m━━━━━━━━━━━━━━━━━━━━\u001b[0m\u001b[37m\u001b[0m \u001b[1m39s\u001b[0m 347ms/step - acc: 0.9997 - loss: 0.2229 - val_acc: 0.6429 - val_loss: 1.5317 - learning_rate: 1.0000e-04\n",
      "Epoch 14/40\n",
      "\u001b[1m112/112\u001b[0m \u001b[32m━━━━━━━━━━━━━━━━━━━━\u001b[0m\u001b[37m\u001b[0m \u001b[1m39s\u001b[0m 348ms/step - acc: 1.0000 - loss: 0.2029 - val_acc: 0.6373 - val_loss: 1.5040 - learning_rate: 1.0000e-04\n",
      "Epoch 15/40\n",
      "\u001b[1m112/112\u001b[0m \u001b[32m━━━━━━━━━━━━━━━━━━━━\u001b[0m\u001b[37m\u001b[0m \u001b[1m39s\u001b[0m 348ms/step - acc: 1.0000 - loss: 0.1895 - val_acc: 0.6239 - val_loss: 1.5215 - learning_rate: 1.0000e-04\n",
      "Epoch 16/40\n",
      "\u001b[1m112/112\u001b[0m \u001b[32m━━━━━━━━━━━━━━━━━━━━\u001b[0m\u001b[37m\u001b[0m \u001b[1m39s\u001b[0m 345ms/step - acc: 0.9979 - loss: 0.1870 - val_acc: 0.6306 - val_loss: 1.5231 - learning_rate: 1.0000e-04\n",
      "Epoch 17/40\n",
      "\u001b[1m112/112\u001b[0m \u001b[32m━━━━━━━━━━━━━━━━━━━━\u001b[0m\u001b[37m\u001b[0m \u001b[1m39s\u001b[0m 346ms/step - acc: 0.9992 - loss: 0.1761 - val_acc: 0.6362 - val_loss: 1.5068 - learning_rate: 5.0000e-05\n",
      "Epoch 18/40\n",
      "\u001b[1m112/112\u001b[0m \u001b[32m━━━━━━━━━━━━━━━━━━━━\u001b[0m\u001b[37m\u001b[0m \u001b[1m39s\u001b[0m 349ms/step - acc: 1.0000 - loss: 0.1742 - val_acc: 0.6406 - val_loss: 1.4706 - learning_rate: 5.0000e-05\n",
      "Epoch 19/40\n",
      "\u001b[1m112/112\u001b[0m \u001b[32m━━━━━━━━━━━━━━━━━━━━\u001b[0m\u001b[37m\u001b[0m \u001b[1m39s\u001b[0m 347ms/step - acc: 0.9993 - loss: 0.1642 - val_acc: 0.6429 - val_loss: 1.4723 - learning_rate: 5.0000e-05\n",
      "Epoch 20/40\n",
      "\u001b[1m112/112\u001b[0m \u001b[32m━━━━━━━━━━━━━━━━━━━━\u001b[0m\u001b[37m\u001b[0m \u001b[1m39s\u001b[0m 348ms/step - acc: 1.0000 - loss: 0.1609 - val_acc: 0.6440 - val_loss: 1.4699 - learning_rate: 5.0000e-05\n",
      "Epoch 21/40\n",
      "\u001b[1m112/112\u001b[0m \u001b[32m━━━━━━━━━━━━━━━━━━━━\u001b[0m\u001b[37m\u001b[0m \u001b[1m39s\u001b[0m 347ms/step - acc: 1.0000 - loss: 0.1565 - val_acc: 0.6518 - val_loss: 1.4509 - learning_rate: 5.0000e-05\n",
      "Epoch 22/40\n",
      "\u001b[1m112/112\u001b[0m \u001b[32m━━━━━━━━━━━━━━━━━━━━\u001b[0m\u001b[37m\u001b[0m \u001b[1m39s\u001b[0m 346ms/step - acc: 0.9999 - loss: 0.1504 - val_acc: 0.6484 - val_loss: 1.4832 - learning_rate: 5.0000e-05\n",
      "Epoch 23/40\n",
      "\u001b[1m112/112\u001b[0m \u001b[32m━━━━━━━━━━━━━━━━━━━━\u001b[0m\u001b[37m\u001b[0m \u001b[1m39s\u001b[0m 348ms/step - acc: 1.0000 - loss: 0.1478 - val_acc: 0.6417 - val_loss: 1.4836 - learning_rate: 5.0000e-05\n",
      "Epoch 24/40\n",
      "\u001b[1m112/112\u001b[0m \u001b[32m━━━━━━━━━━━━━━━━━━━━\u001b[0m\u001b[37m\u001b[0m \u001b[1m39s\u001b[0m 347ms/step - acc: 1.0000 - loss: 0.1448 - val_acc: 0.6350 - val_loss: 1.4702 - learning_rate: 2.5000e-05\n",
      "Epoch 25/40\n",
      "\u001b[1m112/112\u001b[0m \u001b[32m━━━━━━━━━━━━━━━━━━━━\u001b[0m\u001b[37m\u001b[0m \u001b[1m39s\u001b[0m 349ms/step - acc: 1.0000 - loss: 0.1439 - val_acc: 0.6395 - val_loss: 1.4665 - learning_rate: 2.5000e-05\n",
      "Epoch 26/40\n",
      "\u001b[1m112/112\u001b[0m \u001b[32m━━━━━━━━━━━━━━━━━━━━\u001b[0m\u001b[37m\u001b[0m \u001b[1m39s\u001b[0m 346ms/step - acc: 1.0000 - loss: 0.1418 - val_acc: 0.6406 - val_loss: 1.4636 - learning_rate: 1.2500e-05\n"
     ]
    }
   ],
   "source": [
    "from tensorflow.keras.callbacks import EarlyStopping, ReduceLROnPlateau\n",
    "\n",
    "epochs = 40\n",
    "\n",
    "# attempted addition to reduce overfitting\n",
    "early_stopping = EarlyStopping(\n",
    "    monitor=\"val_loss\",  # Track validation loss to prevent overfitting\n",
    "    patience=5,          # Stop training if val_loss doesn't improve for 5 epochs\n",
    "    restore_best_weights=True  # Restore model to the best-performing epoch\n",
    ")\n",
    "\n",
    "reduce_lr = ReduceLROnPlateau(\n",
    "    monitor=\"val_loss\",\n",
    "    factor=0.5,  # Reduce learning rate by half\n",
    "    patience=2,  # Wait 2 epochs before reducing LR\n",
    "    min_lr=1e-6  # Set a lower bound for LR\n",
    ")\n",
    "\n",
    "callbacks = [\n",
    "    keras.callbacks.ModelCheckpoint(\"save_at_{epoch}.keras\"),\n",
    "    early_stopping,\n",
    "    reduce_lr\n",
    "]\n",
    "model.compile(\n",
    "    optimizer=keras.optimizers.Adam(1e-4), # decreased from 1e-4 to reduce overfitting\n",
    "    # loss=keras.losses.BinaryCrossentropy(from_logits=True),\n",
    "    loss= keras.losses.SparseCategoricalCrossentropy(\n",
    "        from_logits=True,\n",
    "        ignore_class=None,\n",
    "        reduction=\"sum_over_batch_size\",\n",
    "        name=\"sparse_categorical_crossentropy\",\n",
    "        dtype=None,\n",
    "    ),\n",
    "    # metrics=[keras.metrics.BinaryAccuracy(name=\"acc\")],\n",
    "    metrics = [keras.metrics.SparseCategoricalAccuracy(\n",
    "    name=\"acc\")]\n",
    ")\n",
    "history = model.fit(\n",
    "    train_ds,\n",
    "    epochs=epochs,\n",
    "    callbacks=callbacks,\n",
    "    validation_data=val_ds,\n",
    ")"
   ]
  },
  {
   "cell_type": "code",
   "execution_count": 19,
   "id": "dd1b92ba",
   "metadata": {
    "execution": {
     "iopub.execute_input": "2025-02-27T00:18:53.065733Z",
     "iopub.status.busy": "2025-02-27T00:18:53.065378Z",
     "iopub.status.idle": "2025-02-27T00:18:53.637504Z",
     "shell.execute_reply": "2025-02-27T00:18:53.636647Z"
    },
    "papermill": {
     "duration": 0.72447,
     "end_time": "2025-02-27T00:18:53.639184",
     "exception": false,
     "start_time": "2025-02-27T00:18:52.914714",
     "status": "completed"
    },
    "tags": []
   },
   "outputs": [
    {
     "data": {
      "image/png": "[encoded data removed]",
      "text/plain": [
       "<Figure size 1200x500 with 2 Axes>"
      ]
     },
     "metadata": {},
     "output_type": "display_data"
    }
   ],
   "source": [
    "#### plotting training & validation loss\n",
    "plt.figure(figsize=(12, 5))\n",
    "\n",
    "# Loss plot\n",
    "plt.subplot(1, 2, 1)\n",
    "plt.plot(history.history['loss'], label='Train Loss')\n",
    "plt.plot(history.history['val_loss'], label='Val Loss')\n",
    "plt.xlabel('Epochs')\n",
    "plt.ylabel('Loss')\n",
    "plt.title('Training & Validation Loss')\n",
    "plt.legend()\n",
    "\n",
    "# Accuracy plot\n",
    "plt.subplot(1, 2, 2)\n",
    "plt.plot(history.history['acc'], label='Train Accuracy')\n",
    "plt.plot(history.history['val_acc'], label='Val Accuracy')\n",
    "plt.xlabel('Epochs')\n",
    "plt.ylabel('Accuracy')\n",
    "plt.title('Training & Validation Accuracy')\n",
    "plt.legend()\n",
    "\n",
    "plt.show()"
   ]
  },
  {
   "cell_type": "code",
   "execution_count": 20,
   "id": "373ae2c2",
   "metadata": {
    "execution": {
     "iopub.execute_input": "2025-02-27T00:18:53.943920Z",
     "iopub.status.busy": "2025-02-27T00:18:53.943543Z",
     "iopub.status.idle": "2025-02-27T00:19:04.504202Z",
     "shell.execute_reply": "2025-02-27T00:19:04.503242Z"
    },
    "papermill": {
     "duration": 10.713562,
     "end_time": "2025-02-27T00:19:04.505516",
     "exception": false,
     "start_time": "2025-02-27T00:18:53.791954",
     "status": "completed"
    },
    "tags": []
   },
   "outputs": [
    {
     "name": "stdout",
     "output_type": "stream",
     "text": [
      "\u001b[1m39/39\u001b[0m \u001b[32m━━━━━━━━━━━━━━━━━━━━\u001b[0m\u001b[37m\u001b[0m \u001b[1m10s\u001b[0m 214ms/step\n",
      "<bound method NDFrame.head of                                md5hash                    label\n",
      "0     000e8dd5ee75dd6668e978e7a4e6fe54             folliculitis\n",
      "1     0097275da3cb707415d13d2c59cf8c8c        mycosis-fungoides\n",
      "2     009c75339a21bb84a6425be6a95938d6        mycosis-fungoides\n",
      "3     016abe4884715af85cd3f309f93b9641  squamous-cell-carcinoma\n",
      "4     018504389f4fa566232eb6e3ff838cb8  squamous-cell-carcinoma\n",
      "...                                ...                      ...\n",
      "1222  fe0d0f2a52c0dd67cdeef523867e4a0b  squamous-cell-carcinoma\n",
      "1223  feb23b8d752fc437b2dc3c9816c647ac          dermatomyositis\n",
      "1224  fedcb4729515d8c9a11d2dbe88576773          epidermal-nevus\n",
      "1225  ff02c1d8ed5d771bd450877d2d1658ce          dermatomyositis\n",
      "1226  ffd2a9f7fe88af2fc987ddb7a06c9069           kaposi-sarcoma\n",
      "\n",
      "[1227 rows x 2 columns]>\n"
     ]
    }
   ],
   "source": [
    "# # evaluating performance on test dataset\n",
    "\n",
    "preds = model.predict(test_dataset, verbose=\"auto\", steps=None, callbacks=None)\n",
    "\n",
    "pred_class = np.argmax(preds, axis=1)\n",
    "\n",
    "# print(pred_class[0:10])\n",
    "\n",
    "# getting label -> integer label mapping from training data\n",
    "\n",
    "class_names = train_ds.class_names  # Get class names in order\n",
    "label_mapping = {idx: name for idx, name in enumerate(class_names)}  # Map name to index\n",
    "# print(\"labels: \", label_mapping)\n",
    "# now creating CSV with <hash>, <string label>\n",
    "file_paths = test_dataset.file_paths\n",
    "filenames = [os.path.splitext(os.path.basename(fp))[0] for fp in file_paths]\n",
    "# print(filenames[0:10])\n",
    "results = []\n",
    "\n",
    "for i in range(len(filenames)):\n",
    "    results.append({\"md5hash\": filenames[i], \"label\": label_mapping[pred_class[i]]})\n",
    "\n",
    "results = pd.DataFrame(results)\n",
    "\n",
    "print(results.head)\n",
    "\n",
    "results.to_csv('submission.csv', index=False)  "
   ]
  },
  {
   "cell_type": "markdown",
   "id": "bef83bd4",
   "metadata": {
    "execution": {
     "iopub.status.busy": "2025-02-16T11:54:54.931645Z",
     "iopub.status.idle": "2025-02-16T11:54:54.931964Z",
     "shell.execute_reply": "2025-02-16T11:54:54.931843Z"
    },
    "papermill": {
     "duration": 0.151735,
     "end_time": "2025-02-27T00:19:04.811543",
     "exception": false,
     "start_time": "2025-02-27T00:19:04.659808",
     "status": "completed"
    },
    "tags": []
   },
   "source": [
    "## DO NOT USE -- Second model version with manual image conversion"
   ]
  },
  {
   "cell_type": "code",
   "execution_count": 21,
   "id": "336d5243",
   "metadata": {
    "execution": {
     "iopub.execute_input": "2025-02-27T00:19:05.154090Z",
     "iopub.status.busy": "2025-02-27T00:19:05.153768Z",
     "iopub.status.idle": "2025-02-27T00:19:05.157973Z",
     "shell.execute_reply": "2025-02-27T00:19:05.157010Z"
    },
    "papermill": {
     "duration": 0.153224,
     "end_time": "2025-02-27T00:19:05.159146",
     "exception": false,
     "start_time": "2025-02-27T00:19:05.005922",
     "status": "completed"
    },
    "tags": []
   },
   "outputs": [],
   "source": [
    "# # preprocessing\n",
    "\n",
    "# \"\"\"\n",
    "# Steps here:\n",
    "# - iterate through all images in all of the directories of train\n",
    "# - convert them to an array and add it to a dataframe with the ID being the hashcode\n",
    "# - add this column to the original dataframe, matched by ID\n",
    "\n",
    "# --> current version reduces image size significantly, which i think is fine for now\n",
    "# --> i think maybe it's best to try the original model but with this dataset? alternatively choosing maybe relu instaed \n",
    "# of sigmoid in final step to choose exactly one label? or just choose the one with the highest prob from sigmoid\n",
    "\n",
    "# --> SHAPE ON MODEL.FIT MIGHT NOT BE RIGHT BC EXPECTING ONE_HOT ENCODED LABELS \n",
    "# \"\"\"\n",
    "\n",
    "# width = 180\n",
    "# height = 180\n",
    "# X = []\n",
    "# X_filenames = []\n",
    "\n",
    "# # (folder name, list of directories, list of files)\n",
    "\n",
    "# dircs = [i for i in os.walk(train_dir)]\n",
    "# # print(dircs)\n",
    "# for i in range(1, len(dircs)):\n",
    "#     folder_path = dircs[i][0]\n",
    "#     for j in range(len(dircs[i][2])):\n",
    "#         path = folder_path + \"/\" + dircs[i][2][j]; # Construct the file path for the current image using the `Id` column from the DataFrame.\n",
    "#         # print(path)\n",
    "#         img = image.load_img(path, target_size=(width, height, 3))\n",
    "#         # Load the image file from the constructed path.\n",
    "#         # Resize the image to the target dimensions (180x180) with 3 channels (RGB).\n",
    "        \n",
    "#         img = image.img_to_array(img)\n",
    "#         # Convert the loaded image into a NumPy array for numerical processing.\n",
    "        \n",
    "#         img = img / 255.0\n",
    "#         # Normalize the pixel values to the range [0, 1] by dividing by 255.0.\n",
    "#         # This is a common preprocessing step for deep learning models to improve training stability.\n",
    "        \n",
    "#         X.append(img)\n",
    "#         X_filenames.append(dircs[i][2][j])\n",
    "        \n",
    "#         # Append the processed image array to the list `X`.\n",
    "\n",
    "        \n",
    "# X = np.array(X)\n",
    "# X_filenames = np.array(X_filenames)\n",
    "# # Convert the list of processed images into a NumPy array.\n",
    "# # This ensures the data is in a format suitable for input to a deep learning model."
   ]
  },
  {
   "cell_type": "code",
   "execution_count": 22,
   "id": "9c39b4c8",
   "metadata": {
    "execution": {
     "iopub.execute_input": "2025-02-27T00:19:05.461538Z",
     "iopub.status.busy": "2025-02-27T00:19:05.461245Z",
     "iopub.status.idle": "2025-02-27T00:19:05.464559Z",
     "shell.execute_reply": "2025-02-27T00:19:05.463834Z"
    },
    "papermill": {
     "duration": 0.15834,
     "end_time": "2025-02-27T00:19:05.466082",
     "exception": false,
     "start_time": "2025-02-27T00:19:05.307742",
     "status": "completed"
    },
    "tags": []
   },
   "outputs": [],
   "source": [
    "# # building a dataset in the form (input, labels)\n",
    "\n",
    "# # first column is second column of X\n",
    "# # second column is train_df['labels'] but in the correct order\n",
    "\n",
    "# # print(X_filenames[0:10])\n",
    "\n",
    "# inputs = [] \n",
    "\n",
    "# for i in train_df['md5hash']:\n",
    "#     idx = np.where(X_filenames == i) # getting the index of the correct image\n",
    "#     # print(\"label: \", i, \" and index: \", idx)\n",
    "#     img = X[idx] # actual image array\n",
    "#     inputs.append(img)\n",
    "\n",
    "# inputs = np.array(inputs)\n",
    "\n",
    "# # create a tf.data.Dataset to feet into model.fit()\n",
    "# X_train,X_test,y_train,y_test=train_test_split(inputs, train_df['label'],test_size=0.2)\n",
    "# train_data = tf_data.Dataset.from_tensor_slices((X_train, y_train))\n",
    "# val_data = tf_data.Dataset.from_tensor_slices((X_test, y_test))"
   ]
  },
  {
   "cell_type": "code",
   "execution_count": 23,
   "id": "a85ee37d",
   "metadata": {
    "execution": {
     "iopub.execute_input": "2025-02-27T00:19:05.775774Z",
     "iopub.status.busy": "2025-02-27T00:19:05.775385Z",
     "iopub.status.idle": "2025-02-27T00:19:05.779381Z",
     "shell.execute_reply": "2025-02-27T00:19:05.778655Z"
    },
    "papermill": {
     "duration": 0.16071,
     "end_time": "2025-02-27T00:19:05.780889",
     "exception": false,
     "start_time": "2025-02-27T00:19:05.620179",
     "status": "completed"
    },
    "tags": []
   },
   "outputs": [],
   "source": [
    "# # building model\n",
    "\n",
    "# # Initialize a Sequential model, which allows layers to be added one after another.\n",
    "# model = Sequential()\n",
    "\n",
    "# # Add an Input layer, specifying the shape of a single training example (e.g., an image).\n",
    "# # model.add(keras.Input(shape=X_train[0].shape))\n",
    "# inp_shape = image_size + (3,)\n",
    "# model.add(keras.Input(shape=inp_shape))\n",
    "\n",
    "# # Add the first convolutional layer with 16 filters, a 3x3 kernel, and ReLU activation.\n",
    "# model.add(Conv2D(16, kernel_size=(3, 3), activation='relu'))\n",
    "# # This layer detects basic features like edges and corners in the input image.\n",
    "\n",
    "# # Add a Batch Normalization layer to normalize the output of the Conv2D layer.\n",
    "# model.add(BatchNormalization())\n",
    "# # This stabilizes and accelerates training by reducing internal covariate shift.\n",
    "\n",
    "# # Add a MaxPooling layer to reduce spatial dimensions by taking the maximum value in 2x2 regions.\n",
    "# model.add(MaxPool2D(2, 2))\n",
    "# # This reduces computational complexity and focuses on the most prominent features.\n",
    "\n",
    "# # Add a Dropout layer to randomly drop 30% of neurons during training.\n",
    "# model.add(Dropout(0.3))\n",
    "# # This helps prevent overfitting by reducing reliance on specific neurons.\n",
    "\n",
    "# # Add the second convolutional block (Conv2D -> BatchNormalization -> MaxPooling -> Dropout).\n",
    "# model.add(Conv2D(32, kernel_size=(3, 3), activation='relu'))\n",
    "# # Increase the number of filters to 32 for detecting more complex features.\n",
    "# model.add(BatchNormalization())\n",
    "# model.add(MaxPool2D(2, 2))\n",
    "# model.add(Dropout(0.3))\n",
    "\n",
    "# # Add the third convolutional block with 64 filters.\n",
    "# model.add(Conv2D(64, kernel_size=(3, 3), activation='relu'))\n",
    "# # Further increases the number of filters to detect even more complex patterns.\n",
    "# model.add(BatchNormalization())\n",
    "# model.add(MaxPool2D(2, 2))\n",
    "# model.add(Dropout(0.4))  # Increase dropout rate to 40% to further reduce overfitting risk.\n",
    "\n",
    "# # Flatten the output of the previous layer to convert the 3D feature maps into a 1D vector.\n",
    "# model.add(Flatten())\n",
    "# # This prepares the data for input into dense (fully connected) layers.\n",
    "\n",
    "# # Add a Dense (fully connected) layer with 128 neurons and ReLU activation.\n",
    "# model.add(Dense(128, activation='relu'))\n",
    "# # This layer learns high-level combinations of the features extracted by the Conv2D layers.\n",
    "# model.add(BatchNormalization())  # Normalize the output to stabilize training.\n",
    "# model.add(Dropout(0.5))  # Apply a 50% dropout rate for strong regularization.\n",
    "\n",
    "# # Add the final Dense layer with 25 neurons and sigmoid activation.\n",
    "# model.add(Dense(25, activation='sigmoid'))\n",
    "# # The output layer has 25 neurons, each representing a class in a multi-label classification problem.\n",
    "# # Sigmoid activation is used to output probabilities for each class, as multiple classes can be \"on.\"\n",
    "\n",
    "# # The model is now ready to be compiled and trained."
   ]
  },
  {
   "cell_type": "code",
   "execution_count": 24,
   "id": "915f98f3",
   "metadata": {
    "execution": {
     "iopub.execute_input": "2025-02-27T00:19:06.095766Z",
     "iopub.status.busy": "2025-02-27T00:19:06.095391Z",
     "iopub.status.idle": "2025-02-27T00:19:06.098709Z",
     "shell.execute_reply": "2025-02-27T00:19:06.097970Z"
    },
    "papermill": {
     "duration": 0.164036,
     "end_time": "2025-02-27T00:19:06.100119",
     "exception": false,
     "start_time": "2025-02-27T00:19:05.936083",
     "status": "completed"
    },
    "tags": []
   },
   "outputs": [],
   "source": [
    "# # for first version\n",
    "\n",
    "# model.compile(optimizer='adam',loss= keras.losses.SparseCategoricalCrossentropy(\n",
    "#         from_logits=True,\n",
    "#         ignore_class=None,\n",
    "#         reduction=\"sum_over_batch_size\",\n",
    "#         name=\"sparse_categorical_crossentropy\",\n",
    "#         dtype=None,\n",
    "#     ),metrics=['accuracy'])\n",
    "\n",
    "# history = model.fit(train_data,epochs=5,validation_data=val_data)"
   ]
  },
  {
   "cell_type": "code",
   "execution_count": 25,
   "id": "d4c1e8f1",
   "metadata": {
    "execution": {
     "iopub.execute_input": "2025-02-27T00:19:06.406177Z",
     "iopub.status.busy": "2025-02-27T00:19:06.405746Z",
     "iopub.status.idle": "2025-02-27T00:19:06.409173Z",
     "shell.execute_reply": "2025-02-27T00:19:06.408465Z"
    },
    "papermill": {
     "duration": 0.156052,
     "end_time": "2025-02-27T00:19:06.410477",
     "exception": false,
     "start_time": "2025-02-27T00:19:06.254425",
     "status": "completed"
    },
    "tags": []
   },
   "outputs": [],
   "source": [
    "# score = model.evaluate(X_test, y_test, verbose = 0 )\n",
    "# print(\"Test Score: \", score[0])\n",
    "# print(\"Test accuracy: \", score[1])"
   ]
  },
  {
   "cell_type": "markdown",
   "id": "5eb21dd4",
   "metadata": {
    "papermill": {
     "duration": 0.1493,
     "end_time": "2025-02-27T00:19:06.716482",
     "exception": false,
     "start_time": "2025-02-27T00:19:06.567182",
     "status": "completed"
    },
    "tags": []
   },
   "source": [
    "## 4. Build the model\n"
   ]
  },
  {
   "cell_type": "code",
   "execution_count": 26,
   "id": "8820d11f",
   "metadata": {
    "execution": {
     "iopub.execute_input": "2025-02-27T00:19:07.060588Z",
     "iopub.status.busy": "2025-02-27T00:19:07.060210Z",
     "iopub.status.idle": "2025-02-27T00:19:07.063783Z",
     "shell.execute_reply": "2025-02-27T00:19:07.062949Z"
    },
    "papermill": {
     "duration": 0.198339,
     "end_time": "2025-02-27T00:19:07.065118",
     "exception": false,
     "start_time": "2025-02-27T00:19:06.866779",
     "status": "completed"
    },
    "tags": []
   },
   "outputs": [],
   "source": [
    "# TODO: You should implement the model architecture here.\n",
    "# Feel free to explore different model types that best serve your purpose."
   ]
  },
  {
   "cell_type": "markdown",
   "id": "ccdd1a83",
   "metadata": {
    "papermill": {
     "duration": 0.153177,
     "end_time": "2025-02-27T00:19:07.373911",
     "exception": false,
     "start_time": "2025-02-27T00:19:07.220734",
     "status": "completed"
    },
    "tags": []
   },
   "source": [
    "## 5. Train the Model\n"
   ]
  },
  {
   "cell_type": "code",
   "execution_count": 27,
   "id": "df4793c9",
   "metadata": {
    "execution": {
     "iopub.execute_input": "2025-02-27T00:19:07.682825Z",
     "iopub.status.busy": "2025-02-27T00:19:07.682445Z",
     "iopub.status.idle": "2025-02-27T00:19:07.685852Z",
     "shell.execute_reply": "2025-02-27T00:19:07.685066Z"
    },
    "papermill": {
     "duration": 0.161794,
     "end_time": "2025-02-27T00:19:07.687187",
     "exception": false,
     "start_time": "2025-02-27T00:19:07.525393",
     "status": "completed"
    },
    "tags": []
   },
   "outputs": [],
   "source": [
    "# TODO: Train your model here. "
   ]
  },
  {
   "cell_type": "markdown",
   "id": "d644c830",
   "metadata": {
    "papermill": {
     "duration": 0.152081,
     "end_time": "2025-02-27T00:19:07.992339",
     "exception": false,
     "start_time": "2025-02-27T00:19:07.840258",
     "status": "completed"
    },
    "tags": []
   },
   "source": [
    "## 6. Make Predictions on Test Data"
   ]
  },
  {
   "cell_type": "code",
   "execution_count": 28,
   "id": "c4a9f7fd",
   "metadata": {
    "execution": {
     "iopub.execute_input": "2025-02-27T00:19:08.338007Z",
     "iopub.status.busy": "2025-02-27T00:19:08.337667Z",
     "iopub.status.idle": "2025-02-27T00:19:08.341098Z",
     "shell.execute_reply": "2025-02-27T00:19:08.340259Z"
    },
    "papermill": {
     "duration": 0.199971,
     "end_time": "2025-02-27T00:19:08.342424",
     "exception": false,
     "start_time": "2025-02-27T00:19:08.142453",
     "status": "completed"
    },
    "tags": []
   },
   "outputs": [],
   "source": [
    "# # 6. Make Predictions on Test Data\n",
    "# # def preprocess_test_data(test_df, directory):\n",
    "# \"\"\"\n",
    "# Template for loading and preprocessing test images.\n",
    "# \"\"\"\n",
    "# # TODO: create a generator for the test set here.\n",
    "# # test_datagen = ImageDataGenerator(rescale=1./255)\n",
    "# # test_generator = test_datagen.flow_from_dataframe(\n",
    "# #     .... ## set the test_generator here \n",
    "# # )\n",
    "# # return test_generator\n"
   ]
  },
  {
   "cell_type": "code",
   "execution_count": 29,
   "id": "4095ea06",
   "metadata": {
    "execution": {
     "iopub.execute_input": "2025-02-27T00:19:08.651059Z",
     "iopub.status.busy": "2025-02-27T00:19:08.650731Z",
     "iopub.status.idle": "2025-02-27T00:19:08.653868Z",
     "shell.execute_reply": "2025-02-27T00:19:08.653111Z"
    },
    "papermill": {
     "duration": 0.16188,
     "end_time": "2025-02-27T00:19:08.655148",
     "exception": false,
     "start_time": "2025-02-27T00:19:08.493268",
     "status": "completed"
    },
    "tags": []
   },
   "outputs": [],
   "source": [
    "# # Load test data\n",
    "# test_dir = '/kaggle/input/bttai-ajl-2025/test/test/'\n",
    "# # test_generator = preprocess_test_data(test_df, test_dir)"
   ]
  },
  {
   "cell_type": "markdown",
   "id": "42719bba",
   "metadata": {
    "papermill": {
     "duration": 0.152763,
     "end_time": "2025-02-27T00:19:08.961926",
     "exception": false,
     "start_time": "2025-02-27T00:19:08.809163",
     "status": "completed"
    },
    "tags": []
   },
   "source": [
    "## 7. Generate Predictions"
   ]
  },
  {
   "cell_type": "code",
   "execution_count": 30,
   "id": "33340320",
   "metadata": {
    "execution": {
     "iopub.execute_input": "2025-02-27T00:19:09.264319Z",
     "iopub.status.busy": "2025-02-27T00:19:09.264019Z",
     "iopub.status.idle": "2025-02-27T00:19:09.267190Z",
     "shell.execute_reply": "2025-02-27T00:19:09.266508Z"
    },
    "papermill": {
     "duration": 0.158506,
     "end_time": "2025-02-27T00:19:09.268430",
     "exception": false,
     "start_time": "2025-02-27T00:19:09.109924",
     "status": "completed"
    },
    "tags": []
   },
   "outputs": [],
   "source": [
    "# TODO\n",
    "# Generate predictions based on the trained model\n",
    "# Then, save the predictions into a CSV file for submission"
   ]
  },
  {
   "cell_type": "code",
   "execution_count": null,
   "id": "9099af89",
   "metadata": {
    "papermill": {
     "duration": 0.15128,
     "end_time": "2025-02-27T00:19:09.573978",
     "exception": false,
     "start_time": "2025-02-27T00:19:09.422698",
     "status": "completed"
    },
    "tags": []
   },
   "outputs": [],
   "source": []
  }
 ],
 "metadata": {
  "kaggle": {
   "accelerator": "nvidiaTeslaT4",
   "dataSources": [
    {
     "databundleVersionId": 10898385,
     "sourceId": 90489,
     "sourceType": "competition"
    }
   ],
   "dockerImageVersionId": 30840,
   "isGpuEnabled": true,
   "isInternetEnabled": true,
   "language": "python",
   "sourceType": "notebook"
  },
  "kernelspec": {
   "display_name": "Python 3",
   "language": "python",
   "name": "python3"
  },
  "language_info": {
   "codemirror_mode": {
    "name": "ipython",
    "version": 3
   },
   "file_extension": ".py",
   "mimetype": "text/x-python",
   "name": "python",
   "nbconvert_exporter": "python",
   "pygments_lexer": "ipython3",
   "version": "3.10.12"
  },
  "papermill": {
   "default_parameters": {},
   "duration": 1160.197226,
   "end_time": "2025-02-27T00:19:13.261580",
   "environment_variables": {},
   "exception": null,
   "input_path": "__notebook__.ipynb",
   "output_path": "__notebook__.ipynb",
   "parameters": {},
   "start_time": "2025-02-26T23:59:53.064354",
   "version": "2.6.0"
  }
 },
 "nbformat": 4,
 "nbformat_minor": 5
}
